{
 "cells": [
  {
   "attachments": {},
   "cell_type": "markdown",
   "metadata": {},
   "source": [
    "# TLDR\n",
    "\n",
    "This notebook explores running preferential BO on the shapes dataset. \n",
    "\n",
    "## Summary of the PBO procedure:\n",
    "- create outcome function (Image) and utility function (gradient aware area)\n",
    "- generate initial data of (image 1, image 2, preference)\n",
    "- train a utility model\n",
    "- iteratively use EUBO to generate new comparisons, expand data, refit the embedding and utility model; generate image that maximizes utility; plot the utility of the candidate over comparisons\n",
    "\n",
    "\n",
    "`PboExperiment` class is implemented here https://github.com/zyyjjj/low_rank_BOPE/blob/main/low_rank_BOPE/pbo_class.py"
   ]
  },
  {
   "cell_type": "code",
   "execution_count": null,
   "metadata": {},
   "outputs": [],
   "source": []
  },
  {
   "cell_type": "code",
   "execution_count": 4,
   "metadata": {},
   "outputs": [
    {
     "name": "stdout",
     "output_type": "stream",
     "text": [
      "The autoreload extension is already loaded. To reload it, use:\n",
      "  %reload_ext autoreload\n"
     ]
    }
   ],
   "source": [
    "%load_ext autoreload\n",
    "%autoreload 2\n",
    "\n",
    "import itertools\n",
    "import pickle\n",
    "import re\n",
    "import warnings\n",
    "from collections import defaultdict\n",
    "from dataclasses import asdict, dataclass\n",
    "from typing import Dict, List, Tuple, Union\n",
    "\n",
    "import matplotlib.pyplot as plt\n",
    "import numpy as np\n",
    "import pandas as pd\n",
    "# import seaborn as sns\n",
    "import torch \n",
    "from torch import Tensor\n",
    "\n",
    "warnings.filterwarnings(\"ignore\")\n",
    "\n",
    "import sys\n",
    "sys.path.append('..')\n",
    "sys.path.append('/home/yz685/low_rank_BOPE')\n",
    "sys.path.append('/home/yz685/low_rank_BOPE/low_rank_BOPE')\n",
    "\n",
    "from botorch.models import PairwiseGP, PairwiseLaplaceMarginalLogLikelihood\n",
    "from botorch.models.transforms.input import ChainedInputTransform\n",
    "from botorch.fit import fit_gpytorch_mll\n",
    "from botorch.acquisition.monte_carlo import qSimpleRegret\n",
    "from botorch.acquisition.preference import AnalyticExpectedUtilityOfBestOption\n",
    "from botorch.optim.optimize import optimize_acqf\n",
    "from botorch.sampling.normal import SobolQMCNormalSampler\n",
    "\n",
    "\n",
    "\n",
    "from low_rank_BOPE.bope_class import BopeExperiment\n",
    "from low_rank_BOPE.pbo_class import PboExperiment\n",
    "from low_rank_BOPE.src.models import make_modified_kernel\n",
    "from low_rank_BOPE.test_problems.shapes import AreaUtil, LargestRectangleUtil, GradientAwareAreaUtil, Image, Bars\n",
    "from low_rank_BOPE.src.transforms import InputCenter, PCAInputTransform, get_latent_ineq_constraints, compute_weights\n",
    "from low_rank_BOPE.src.pref_learning_helpers import gen_comps, gen_exp_cand\n",
    "\n"
   ]
  },
  {
   "attachments": {},
   "cell_type": "markdown",
   "metadata": {},
   "source": [
    "## Running experiments"
   ]
  },
  {
   "cell_type": "code",
   "execution_count": 5,
   "metadata": {},
   "outputs": [
    {
     "name": "stdout",
     "output_type": "stream",
     "text": [
      "PboExperiment settings:  {'pca_var_threshold': 0.9, 'initial_pref_batch_size': 32, 'n_check_post_mean': 13, 'every_n_comps': 3, 'verbose': True, 'dtype': torch.float64, 'num_restarts': 20, 'raw_samples': 128, 'batch_limit': 4, 'sampler_num_outcome_samples': 64, 'maxiter': 1000, 'latent_dim': None, 'min_stdv': 100000, 'true_axes': None}\n",
      "self.methods,  ['uw_pca', 'w_pca_true', 'st']\n"
     ]
    }
   ],
   "source": [
    "   \n",
    "N_PIXELS = 8\n",
    "\n",
    "problem = Image(num_pixels = N_PIXELS)\n",
    "# problem = Bars(num_pixels = N_PIXELS)\n",
    "\n",
    "util_func = GradientAwareAreaUtil(\n",
    "    penalty_param=0.5, \n",
    "    image_shape=(N_PIXELS, N_PIXELS)\n",
    ")\n",
    "\n",
    "methods = [\n",
    "    \"uw_pca\", # unweighted PCA\n",
    "    \"w_pca_true\", # PCA with true-util-value based rank weights\n",
    "    \"st\" # indep GP\n",
    "]\n",
    "\n",
    "output_dir = \"/home/yz685/low_rank_BOPE/experiments/shapes_pbo/\"\n",
    "\n",
    "exp = PboExperiment(\n",
    "    problem = problem,\n",
    "    util_func=util_func,\n",
    "    methods=methods,\n",
    "    trial_idx=0,\n",
    "    output_path=output_dir + \"8by8_rectangle_gradient_aware_area\",\n",
    "    n_check_post_mean = 13,\n",
    "    pca_var_threshold = 0.9,\n",
    "    initial_pref_batch_size = 32,\n",
    ")\n",
    "# exp.run_PBO_loop()"
   ]
  },
  {
   "cell_type": "code",
   "execution_count": 6,
   "metadata": {},
   "outputs": [
    {
     "name": "stdout",
     "output_type": "stream",
     "text": [
      "===== Running PE using uw_pca =====\n",
      "util model accuracy 0.6880000233650208\n",
      "Running 1/3 preference learning\n",
      "Pref model fitting successful\n",
      "============= uw_pca failed, skipping =============\n",
      "===== Running PE using w_pca_true =====\n"
     ]
    }
   ],
   "source": [
    "exp.run_PBO_loop()"
   ]
  },
  {
   "cell_type": "code",
   "execution_count": null,
   "metadata": {},
   "outputs": [],
   "source": []
  },
  {
   "cell_type": "code",
   "execution_count": 3,
   "metadata": {},
   "outputs": [
    {
     "name": "stdout",
     "output_type": "stream",
     "text": [
      "===== Running PE using uw_pca =====\n",
      "util model accuracy 0.7879999876022339\n",
      "uw_pca True\n",
      "Running 1/3 preference learning\n",
      "Pref model fitting successful\n",
      "Running 2/3 preference learning\n",
      "Pref model fitting successful\n",
      "Running 3/3 preference learning\n",
      "Pref model fitting successful\n",
      "util model accuracy 0.7699999809265137\n",
      "uw_pca True\n",
      "Running 1/3 preference learning\n",
      "Pref model fitting successful\n",
      "Running 2/3 preference learning\n",
      "Pref model fitting successful\n",
      "Running 3/3 preference learning\n",
      "Pref model fitting successful\n",
      "util model accuracy 0.7580000162124634\n",
      "uw_pca True\n",
      "Running 1/3 preference learning\n",
      "Pref model fitting successful\n"
     ]
    },
    {
     "ename": "KeyboardInterrupt",
     "evalue": "",
     "output_type": "error",
     "traceback": [
      "\u001b[0;31m---------------------------------------------------------------------------\u001b[0m",
      "\u001b[0;31mKeyboardInterrupt\u001b[0m                         Traceback (most recent call last)",
      "\u001b[0;32m/tmp/ipykernel_3224453/3375641119.py\u001b[0m in \u001b[0;36m<module>\u001b[0;34m\u001b[0m\n\u001b[1;32m      1\u001b[0m \u001b[0mexp\u001b[0m\u001b[0;34m.\u001b[0m\u001b[0mgenerate_initial_data\u001b[0m\u001b[0;34m(\u001b[0m\u001b[0mn\u001b[0m\u001b[0;34m=\u001b[0m\u001b[0;36m16\u001b[0m\u001b[0;34m)\u001b[0m\u001b[0;34m\u001b[0m\u001b[0;34m\u001b[0m\u001b[0m\n\u001b[0;32m----> 2\u001b[0;31m \u001b[0mexp\u001b[0m\u001b[0;34m.\u001b[0m\u001b[0mrun_PE_stage\u001b[0m\u001b[0;34m(\u001b[0m\u001b[0;34m'uw_pca'\u001b[0m\u001b[0;34m)\u001b[0m\u001b[0;34m\u001b[0m\u001b[0;34m\u001b[0m\u001b[0m\n\u001b[0m",
      "\u001b[0;32m~/low_rank_BOPE/low_rank_BOPE/pbo_class.py\u001b[0m in \u001b[0;36mrun_PE_stage\u001b[0;34m(self, method)\u001b[0m\n\u001b[1;32m    395\u001b[0m         \u001b[0;32mfor\u001b[0m \u001b[0mj\u001b[0m \u001b[0;32min\u001b[0m \u001b[0mrange\u001b[0m\u001b[0;34m(\u001b[0m\u001b[0mself\u001b[0m\u001b[0;34m.\u001b[0m\u001b[0mn_check_post_mean\u001b[0m\u001b[0;34m)\u001b[0m\u001b[0;34m:\u001b[0m\u001b[0;34m\u001b[0m\u001b[0;34m\u001b[0m\u001b[0m\n\u001b[1;32m    396\u001b[0m             \u001b[0mself\u001b[0m\u001b[0;34m.\u001b[0m\u001b[0mrun_pref_learning\u001b[0m\u001b[0;34m(\u001b[0m\u001b[0mmethod\u001b[0m\u001b[0;34m)\u001b[0m\u001b[0;34m\u001b[0m\u001b[0;34m\u001b[0m\u001b[0m\n\u001b[0;32m--> 397\u001b[0;31m             self.PE_session_results[method].append(\n\u001b[0m\u001b[1;32m    398\u001b[0m                 \u001b[0mself\u001b[0m\u001b[0;34m.\u001b[0m\u001b[0mfind_max_posterior_mean\u001b[0m\u001b[0;34m(\u001b[0m\u001b[0mmethod\u001b[0m\u001b[0;34m)\u001b[0m\u001b[0;34m\u001b[0m\u001b[0;34m\u001b[0m\u001b[0m\n\u001b[1;32m    399\u001b[0m             )            \n",
      "\u001b[0;32m~/low_rank_BOPE/low_rank_BOPE/pbo_class.py\u001b[0m in \u001b[0;36mrun_pref_learning\u001b[0;34m(self, method)\u001b[0m\n\u001b[1;32m    286\u001b[0m                     \u001b[0;32mtry\u001b[0m\u001b[0;34m:\u001b[0m\u001b[0;34m\u001b[0m\u001b[0;34m\u001b[0m\u001b[0m\n\u001b[1;32m    287\u001b[0m                         cand, acqf_val = optimize_acqf(\n\u001b[0;32m--> 288\u001b[0;31m                             \u001b[0macq_function\u001b[0m\u001b[0;34m=\u001b[0m\u001b[0macqf\u001b[0m\u001b[0;34m,\u001b[0m\u001b[0;34m\u001b[0m\u001b[0;34m\u001b[0m\u001b[0m\n\u001b[0m\u001b[1;32m    289\u001b[0m                             \u001b[0mq\u001b[0m\u001b[0;34m=\u001b[0m\u001b[0;36m2\u001b[0m\u001b[0;34m,\u001b[0m\u001b[0;34m\u001b[0m\u001b[0;34m\u001b[0m\u001b[0m\n\u001b[1;32m    290\u001b[0m                             \u001b[0mbounds\u001b[0m\u001b[0;34m=\u001b[0m\u001b[0mself\u001b[0m\u001b[0;34m.\u001b[0m\u001b[0macqf_bounds_dict\u001b[0m\u001b[0;34m[\u001b[0m\u001b[0mmethod\u001b[0m\u001b[0;34m]\u001b[0m\u001b[0;34m[\u001b[0m\u001b[0;34m\"bounds\"\u001b[0m\u001b[0;34m]\u001b[0m\u001b[0;34m,\u001b[0m\u001b[0;34m\u001b[0m\u001b[0;34m\u001b[0m\u001b[0m\n",
      "\u001b[0;32m~/anaconda3/envs/bope_pca/lib/python3.9/site-packages/botorch/optim/optimize.py\u001b[0m in \u001b[0;36moptimize_acqf\u001b[0;34m(acq_function, bounds, q, num_restarts, raw_samples, options, inequality_constraints, equality_constraints, nonlinear_inequality_constraints, fixed_features, post_processing_func, batch_initial_conditions, return_best_only, gen_candidates, sequential, ic_generator, timeout_sec, return_full_tree, retry_on_optimization_warning, **ic_gen_kwargs)\u001b[0m\n\u001b[1;32m    523\u001b[0m         \u001b[0mic_gen_kwargs\u001b[0m\u001b[0;34m=\u001b[0m\u001b[0mic_gen_kwargs\u001b[0m\u001b[0;34m,\u001b[0m\u001b[0;34m\u001b[0m\u001b[0;34m\u001b[0m\u001b[0m\n\u001b[1;32m    524\u001b[0m     )\n\u001b[0;32m--> 525\u001b[0;31m     \u001b[0;32mreturn\u001b[0m \u001b[0m_optimize_acqf\u001b[0m\u001b[0;34m(\u001b[0m\u001b[0mopt_acqf_inputs\u001b[0m\u001b[0;34m)\u001b[0m\u001b[0;34m\u001b[0m\u001b[0;34m\u001b[0m\u001b[0m\n\u001b[0m\u001b[1;32m    526\u001b[0m \u001b[0;34m\u001b[0m\u001b[0m\n\u001b[1;32m    527\u001b[0m \u001b[0;34m\u001b[0m\u001b[0m\n",
      "\u001b[0;32m~/anaconda3/envs/bope_pca/lib/python3.9/site-packages/botorch/optim/optimize.py\u001b[0m in \u001b[0;36m_optimize_acqf\u001b[0;34m(opt_inputs)\u001b[0m\n\u001b[1;32m    552\u001b[0m \u001b[0;34m\u001b[0m\u001b[0m\n\u001b[1;32m    553\u001b[0m     \u001b[0;31m# Batch optimization (including the case q=1)\u001b[0m\u001b[0;34m\u001b[0m\u001b[0;34m\u001b[0m\u001b[0m\n\u001b[0;32m--> 554\u001b[0;31m     return _optimize_acqf_batch(\n\u001b[0m\u001b[1;32m    555\u001b[0m         \u001b[0mopt_inputs\u001b[0m\u001b[0;34m=\u001b[0m\u001b[0mopt_inputs\u001b[0m\u001b[0;34m,\u001b[0m \u001b[0mstart_time\u001b[0m\u001b[0;34m=\u001b[0m\u001b[0mstart_time\u001b[0m\u001b[0;34m,\u001b[0m \u001b[0mtimeout_sec\u001b[0m\u001b[0;34m=\u001b[0m\u001b[0mtimeout_sec\u001b[0m\u001b[0;34m\u001b[0m\u001b[0;34m\u001b[0m\u001b[0m\n\u001b[1;32m    556\u001b[0m     )\n",
      "\u001b[0;32m~/anaconda3/envs/bope_pca/lib/python3.9/site-packages/botorch/optim/optimize.py\u001b[0m in \u001b[0;36m_optimize_acqf_batch\u001b[0;34m(opt_inputs, start_time, timeout_sec)\u001b[0m\n\u001b[1;32m    248\u001b[0m     \u001b[0;32melse\u001b[0m\u001b[0;34m:\u001b[0m\u001b[0;34m\u001b[0m\u001b[0;34m\u001b[0m\u001b[0m\n\u001b[1;32m    249\u001b[0m         \u001b[0;31m# pyre-ignore[28]: Unexpected keyword argument `acq_function` to anonymous call.\u001b[0m\u001b[0;34m\u001b[0m\u001b[0;34m\u001b[0m\u001b[0m\n\u001b[0;32m--> 250\u001b[0;31m         batch_initial_conditions = opt_inputs.get_ic_generator()(\n\u001b[0m\u001b[1;32m    251\u001b[0m             \u001b[0macq_function\u001b[0m\u001b[0;34m=\u001b[0m\u001b[0mopt_inputs\u001b[0m\u001b[0;34m.\u001b[0m\u001b[0macq_function\u001b[0m\u001b[0;34m,\u001b[0m\u001b[0;34m\u001b[0m\u001b[0;34m\u001b[0m\u001b[0m\n\u001b[1;32m    252\u001b[0m             \u001b[0mbounds\u001b[0m\u001b[0;34m=\u001b[0m\u001b[0mopt_inputs\u001b[0m\u001b[0;34m.\u001b[0m\u001b[0mbounds\u001b[0m\u001b[0;34m,\u001b[0m\u001b[0;34m\u001b[0m\u001b[0;34m\u001b[0m\u001b[0m\n",
      "\u001b[0;32m~/anaconda3/envs/bope_pca/lib/python3.9/site-packages/botorch/optim/initializers.py\u001b[0m in \u001b[0;36mgen_batch_initial_conditions\u001b[0;34m(acq_function, bounds, q, num_restarts, raw_samples, fixed_features, options, inequality_constraints, equality_constraints)\u001b[0m\n\u001b[1;32m    169\u001b[0m             \u001b[0;32melse\u001b[0m\u001b[0;34m:\u001b[0m\u001b[0;34m\u001b[0m\u001b[0;34m\u001b[0m\u001b[0m\n\u001b[1;32m    170\u001b[0m                 X_rnd = (\n\u001b[0;32m--> 171\u001b[0;31m                     get_polytope_samples(\n\u001b[0m\u001b[1;32m    172\u001b[0m                         \u001b[0mn\u001b[0m\u001b[0;34m=\u001b[0m\u001b[0mn\u001b[0m \u001b[0;34m*\u001b[0m \u001b[0mq\u001b[0m\u001b[0;34m,\u001b[0m\u001b[0;34m\u001b[0m\u001b[0;34m\u001b[0m\u001b[0m\n\u001b[1;32m    173\u001b[0m                         \u001b[0mbounds\u001b[0m\u001b[0;34m=\u001b[0m\u001b[0mbounds\u001b[0m\u001b[0;34m,\u001b[0m\u001b[0;34m\u001b[0m\u001b[0;34m\u001b[0m\u001b[0m\n",
      "\u001b[0;32m~/anaconda3/envs/bope_pca/lib/python3.9/site-packages/botorch/utils/sampling.py\u001b[0m in \u001b[0;36mget_polytope_samples\u001b[0;34m(n, bounds, inequality_constraints, equality_constraints, seed, thinning, n_burnin)\u001b[0m\n\u001b[1;32m    842\u001b[0m         \u001b[0mn_burnin\u001b[0m\u001b[0;34m=\u001b[0m\u001b[0mn_burnin\u001b[0m\u001b[0;34m,\u001b[0m\u001b[0;34m\u001b[0m\u001b[0;34m\u001b[0m\u001b[0m\n\u001b[1;32m    843\u001b[0m     )\n\u001b[0;32m--> 844\u001b[0;31m     \u001b[0msamples\u001b[0m \u001b[0;34m=\u001b[0m \u001b[0mpolytope_sampler\u001b[0m\u001b[0;34m.\u001b[0m\u001b[0mdraw\u001b[0m\u001b[0;34m(\u001b[0m\u001b[0mn\u001b[0m\u001b[0;34m=\u001b[0m\u001b[0mn\u001b[0m \u001b[0;34m*\u001b[0m \u001b[0mthinning\u001b[0m\u001b[0;34m,\u001b[0m \u001b[0mseed\u001b[0m\u001b[0;34m=\u001b[0m\u001b[0mseed\u001b[0m\u001b[0;34m)\u001b[0m\u001b[0;34m[\u001b[0m\u001b[0;34m:\u001b[0m\u001b[0;34m:\u001b[0m\u001b[0mthinning\u001b[0m\u001b[0;34m]\u001b[0m\u001b[0;34m\u001b[0m\u001b[0;34m\u001b[0m\u001b[0m\n\u001b[0m\u001b[1;32m    845\u001b[0m     \u001b[0;32mreturn\u001b[0m \u001b[0mbounds\u001b[0m\u001b[0;34m[\u001b[0m\u001b[0;36m0\u001b[0m\u001b[0;34m]\u001b[0m \u001b[0;34m+\u001b[0m \u001b[0msamples\u001b[0m \u001b[0;34m*\u001b[0m \u001b[0;34m(\u001b[0m\u001b[0mbounds\u001b[0m\u001b[0;34m[\u001b[0m\u001b[0;36m1\u001b[0m\u001b[0;34m]\u001b[0m \u001b[0;34m-\u001b[0m \u001b[0mbounds\u001b[0m\u001b[0;34m[\u001b[0m\u001b[0;36m0\u001b[0m\u001b[0;34m]\u001b[0m\u001b[0;34m)\u001b[0m\u001b[0;34m\u001b[0m\u001b[0;34m\u001b[0m\u001b[0m\n\u001b[1;32m    846\u001b[0m \u001b[0;34m\u001b[0m\u001b[0m\n",
      "\u001b[0;32m~/anaconda3/envs/bope_pca/lib/python3.9/site-packages/botorch/utils/sampling.py\u001b[0m in \u001b[0;36mdraw\u001b[0;34m(self, n, seed)\u001b[0m\n\u001b[1;32m    591\u001b[0m             \u001b[0mA\u001b[0m\u001b[0;31m \u001b[0m\u001b[0;31m`\u001b[0m\u001b[0mn\u001b[0m \u001b[0mx\u001b[0m \u001b[0md\u001b[0m\u001b[0;31m`\u001b[0m \u001b[0mTensor\u001b[0m \u001b[0mof\u001b[0m \u001b[0msamples\u001b[0m \u001b[0;32mfrom\u001b[0m \u001b[0mthe\u001b[0m \u001b[0mpolytope\u001b[0m\u001b[0;34m.\u001b[0m\u001b[0;34m\u001b[0m\u001b[0;34m\u001b[0m\u001b[0m\n\u001b[1;32m    592\u001b[0m         \"\"\"\n\u001b[0;32m--> 593\u001b[0;31m         transformed_samples = sample_polytope(\n\u001b[0m\u001b[1;32m    594\u001b[0m             \u001b[0;31m# run this on the cpu\u001b[0m\u001b[0;34m\u001b[0m\u001b[0;34m\u001b[0m\u001b[0m\n\u001b[1;32m    595\u001b[0m             \u001b[0mA\u001b[0m\u001b[0;34m=\u001b[0m\u001b[0mself\u001b[0m\u001b[0;34m.\u001b[0m\u001b[0mnew_A\u001b[0m\u001b[0;34m.\u001b[0m\u001b[0mcpu\u001b[0m\u001b[0;34m(\u001b[0m\u001b[0;34m)\u001b[0m\u001b[0;34m,\u001b[0m\u001b[0;34m\u001b[0m\u001b[0;34m\u001b[0m\u001b[0m\n",
      "\u001b[0;32m~/anaconda3/envs/bope_pca/lib/python3.9/site-packages/botorch/utils/sampling.py\u001b[0m in \u001b[0;36msample_polytope\u001b[0;34m(A, b, x0, n, n0, seed)\u001b[0m\n\u001b[1;32m    256\u001b[0m         \u001b[0;31m# so alpha<=(b-Ax)/ar for ar>0, and alpha>=(b-Ax)/ar for ar<0.\u001b[0m\u001b[0;34m\u001b[0m\u001b[0;34m\u001b[0m\u001b[0m\n\u001b[1;32m    257\u001b[0m         \u001b[0;31m# b - A @ x is always >= 0, clamping for numerical tolerances\u001b[0m\u001b[0;34m\u001b[0m\u001b[0;34m\u001b[0m\u001b[0m\n\u001b[0;32m--> 258\u001b[0;31m         \u001b[0mw\u001b[0m \u001b[0;34m=\u001b[0m \u001b[0;34m(\u001b[0m\u001b[0mb\u001b[0m \u001b[0;34m-\u001b[0m \u001b[0mA\u001b[0m \u001b[0;34m@\u001b[0m \u001b[0mx\u001b[0m\u001b[0;34m)\u001b[0m\u001b[0;34m.\u001b[0m\u001b[0msqueeze\u001b[0m\u001b[0;34m(\u001b[0m\u001b[0;34m)\u001b[0m\u001b[0;34m.\u001b[0m\u001b[0mclamp\u001b[0m\u001b[0;34m(\u001b[0m\u001b[0mmin\u001b[0m\u001b[0;34m=\u001b[0m\u001b[0;36m0.0\u001b[0m\u001b[0;34m)\u001b[0m \u001b[0;34m/\u001b[0m \u001b[0mar\u001b[0m\u001b[0;34m\u001b[0m\u001b[0;34m\u001b[0m\u001b[0m\n\u001b[0m\u001b[1;32m    259\u001b[0m         \u001b[0mpos\u001b[0m \u001b[0;34m=\u001b[0m \u001b[0mw\u001b[0m \u001b[0;34m>=\u001b[0m \u001b[0;36m0\u001b[0m\u001b[0;34m\u001b[0m\u001b[0;34m\u001b[0m\u001b[0m\n\u001b[1;32m    260\u001b[0m         \u001b[0malpha_max\u001b[0m \u001b[0;34m=\u001b[0m \u001b[0mw\u001b[0m\u001b[0;34m[\u001b[0m\u001b[0mpos\u001b[0m\u001b[0;34m]\u001b[0m\u001b[0;34m.\u001b[0m\u001b[0mmin\u001b[0m\u001b[0;34m(\u001b[0m\u001b[0;34m)\u001b[0m\u001b[0;34m\u001b[0m\u001b[0;34m\u001b[0m\u001b[0m\n",
      "\u001b[0;31mKeyboardInterrupt\u001b[0m: "
     ]
    }
   ],
   "source": [
    "# if you want to examine a single method, can also do the following\n",
    "exp.generate_initial_data(n=16)\n",
    "exp.run_PE_stage('uw_pca')"
   ]
  },
  {
   "cell_type": "code",
   "execution_count": null,
   "metadata": {},
   "outputs": [],
   "source": []
  },
  {
   "attachments": {},
   "cell_type": "markdown",
   "metadata": {},
   "source": [
    "## Loading outputs and plotting"
   ]
  },
  {
   "cell_type": "code",
   "execution_count": null,
   "metadata": {},
   "outputs": [],
   "source": [
    "outputs = defaultdict(lambda: defaultdict(dict))\n",
    "problems = [\"8by8_rectangle_gradient_aware_area\"]\n",
    "\n",
    "for problem in problems:\n",
    "\n",
    "    results_folder = output_dir + problem + '/'\n",
    "\n",
    "    for trial in trial_range:\n",
    "\n",
    "        try:\n",
    "\n",
    "            outputs[problem]['within_session_results'][trial] = \\\n",
    "                list(itertools.chain.from_iterable(torch.load(results_folder + f'PE_session_results_trial={trial}.th').values()))\n",
    "\n",
    "        except:\n",
    "            print(f\"{problem} Trial {trial} not finished yet, skipping for now\")\n",
    "            continue"
   ]
  },
  {
   "cell_type": "code",
   "execution_count": null,
   "metadata": {},
   "outputs": [],
   "source": [
    "colors_dict = {\n",
    "    \"uw_pca\": \"tab:red\", \n",
    "    \"st\": \"tab:blue\", \n",
    "    \"w_pca_true\": \"tab:purple\", \n",
    "}\n",
    "labels_dict = {\n",
    "    \"st\": \"Indep\", \"uw_pca\": \"PCA\",  \n",
    "    \"w_pca_true\": \"weighted PCA\",\n",
    "}"
   ]
  },
  {
   "cell_type": "code",
   "execution_count": null,
   "metadata": {},
   "outputs": [],
   "source": [
    "from matplotlib.ticker import MaxNLocator\n",
    "\n",
    "def plot_candidate_over_comps(problem, methods = [\"st\", \"uw_pca\"], metric = \"util\"):\n",
    "\n",
    "    f, axs = plt.subplots(1, 1, figsize=(8, 6))\n",
    "\n",
    "    x_jitter_dict = {\n",
    "        \"uw_pca\": 0.1, \n",
    "        \"st\": 0, \n",
    "        \"w_pca_true\": 0.4, \"w_pca_est\": 0.5, \n",
    "    }\n",
    "\n",
    "    \n",
    "    within_session_results = [res \n",
    "                              for i in outputs[problem]['within_session_results'].keys() \n",
    "                              for res in outputs[problem][\"within_session_results\"][i]]\n",
    "\n",
    "    within_df = pd.DataFrame(within_session_results)\n",
    "\n",
    "    # within_df[\"pe_strategy\"] = within_df[\"pe_strategy\"].str.replace(\"EUBO-zeta\", r\"$EUBO-\\\\zeta$\")\n",
    "    # print(within_df.groupby([\"n_comps\", \"method\"]).count())\n",
    "\n",
    "    within_df = (\n",
    "        within_df.groupby([\"n_comps\", \"method\"])\n",
    "        .agg({metric: [\"mean\", \"sem\"]})\n",
    "        .droplevel(level=0, axis=1)\n",
    "        .reset_index()\n",
    "    )\n",
    "\n",
    "    print(within_df)\n",
    "\n",
    "    for name, group in within_df.groupby([\"method\"]):\n",
    "        print(name)\n",
    "        if name in methods:\n",
    "\n",
    "            jitter = x_jitter_dict[group[\"method\"].values[0]]\n",
    "            x_jittered = [x_ + jitter for x_ in group[\"n_comps\"].values]\n",
    "            print(name, 'n_comps: ', group[\"n_comps\"].values)\n",
    "\n",
    "            axs.errorbar(\n",
    "                x=x_jittered,\n",
    "                y=group[\"mean\"].values,\n",
    "                yerr=group[\"sem\"],\n",
    "                label=labels_dict[name],\n",
    "                linewidth=1.5,\n",
    "                capsize=3,\n",
    "                alpha=0.6,\n",
    "                color=colors_dict[name],\n",
    "            )\n",
    "\n",
    "            # ax1.legend(title=\"Transform + PE Strategy\", bbox_to_anchor=(1, 0.8))\n",
    "\n",
    "            axs.set_xlabel(\"Number of comparisons\")\n",
    "            axs.set_title(\n",
    "                problem, fontsize=16\n",
    "            )\n",
    "            axs.xaxis.set_major_locator(MaxNLocator(integer=True))\n",
    "\n",
    "    if metric == \"util\":\n",
    "        axs.set_ylabel(\"True utility of estimated \\n utility-maximizing outcome\")\n",
    "    elif metric == \"util_model_acc\":\n",
    "        axs.set_ylabel(\"Utility model accuracy\")\n",
    "    axs.legend(loc=\"lower left\", bbox_to_anchor=(-0.2, -0.2), ncol=5, fontsize=15)"
   ]
  },
  {
   "cell_type": "code",
   "execution_count": null,
   "metadata": {},
   "outputs": [],
   "source": [
    "# to plot max posterior mean utility over comparisons\n",
    "plot_candidate_over_comps_multiple(\n",
    "    \"8by8_rectangle_gradient_aware_area\",\n",
    "    methods = [\"st\", \"uw_pca\", \"w_pca_true\"],\n",
    "    metric = \"util\"\n",
    ")"
   ]
  },
  {
   "cell_type": "code",
   "execution_count": null,
   "metadata": {},
   "outputs": [],
   "source": [
    "# to plot utility model accuracy over comparisons\n",
    "plot_candidate_over_comps(\n",
    "    \"8by8_rectangle_gradient_aware_area\",\n",
    "    methods = [\"st\", \"uw_pca\", \"w_pca_true\"],\n",
    "    metric = \"util_model_acc\"\n",
    ")"
   ]
  },
  {
   "cell_type": "code",
   "execution_count": null,
   "metadata": {},
   "outputs": [],
   "source": [
    "# plotter for multiple experiments\n",
    "\n",
    "def plot_candidate_over_comps_multiple(\n",
    "    problem_l, \n",
    "    methods = [\"st\", \"uw_pca\"],\n",
    "    metric = \"util\"):\n",
    "\n",
    "    f, axs = plt.subplots(1, len(problem_l), figsize=(10, 3))\n",
    "    print(axs.shape)\n",
    "\n",
    "    x_jitter_dict = {\n",
    "        \"uw_pca\": 0.1, \n",
    "        \"st\": 0, \n",
    "        \"w_pca_true\": 0.4, \"w_pca_est\": 0.5, \n",
    "    }\n",
    "\n",
    "    \n",
    "    for j in range(len(problem_l)):\n",
    "        problem = problem_l[j]\n",
    "        input_dim = 4\n",
    "        num_pixels, _ = problem.split(\"by\")\n",
    "        outcome_dim = int(num_pixels) ** 2\n",
    "\n",
    "        within_session_results = [res \n",
    "                                for i in outputs[problem]['within_session_results'].keys() \n",
    "                                for res in outputs[problem][\"within_session_results\"][i]]\n",
    "\n",
    "        within_df = pd.DataFrame(within_session_results)\n",
    "\n",
    "        within_df = (\n",
    "            within_df.groupby([\"n_comps\", \"method\"])\n",
    "            .agg({metric: [\"mean\", \"sem\"]})\n",
    "            .droplevel(level=0, axis=1)\n",
    "            .reset_index()\n",
    "        )\n",
    "\n",
    "        for name, group in within_df.groupby([\"method\"]):\n",
    "            if name in methods:\n",
    "\n",
    "                jitter = x_jitter_dict[group[\"method\"].values[0]]\n",
    "                x_jittered = [x_ + jitter for x_ in group[\"n_comps\"].values]\n",
    "\n",
    "                axs[j].errorbar(\n",
    "                    x=x_jittered,\n",
    "                    y=group[\"mean\"].values,\n",
    "                    # yerr=1.96 * group[\"sem\"],\n",
    "                    yerr = group[\"sem\"],\n",
    "                    label=labels_dict[name],\n",
    "                    linewidth=1.5,\n",
    "                    capsize=3,\n",
    "                    alpha=0.6,\n",
    "                    color=colors_dict[name],\n",
    "                )\n",
    "\n",
    "                axs[j].set_xlabel(\"Number of comparisons\", fontsize=12)\n",
    "                axs[j].set_title(\n",
    "                    f\"{problem}\\n d={input_dim}, k={outcome_dim}\", fontsize=12.5\n",
    "                )\n",
    "\n",
    "    if metric == \"util\":\n",
    "        axs[0].set_ylabel(\"True utility of estimated \\n utility-maximizing outcome\")\n",
    "    elif metric == \"util_model_acc\":\n",
    "        axs[0].set_ylabel(\"Utility model accuracy\")\n",
    "    axs[0].legend(bbox_to_anchor=(-0.05, -0.4), loc=\"lower left\", ncol=5, fontsize=12)\n"
   ]
  }
 ],
 "metadata": {
  "kernelspec": {
   "display_name": "bope_pca",
   "language": "python",
   "name": "python3"
  },
  "language_info": {
   "codemirror_mode": {
    "name": "ipython",
    "version": 3
   },
   "file_extension": ".py",
   "mimetype": "text/x-python",
   "name": "python",
   "nbconvert_exporter": "python",
   "pygments_lexer": "ipython3",
   "version": "3.9.15"
  },
  "orig_nbformat": 4,
  "vscode": {
   "interpreter": {
    "hash": "f178f7686bb85c5c6e141a85fd4c17c3082d63b89f6cfaecdf98c22c0047a219"
   }
  }
 },
 "nbformat": 4,
 "nbformat_minor": 2
}
