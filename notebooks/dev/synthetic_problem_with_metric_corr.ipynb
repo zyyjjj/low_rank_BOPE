{
 "cells": [
  {
   "cell_type": "code",
   "execution_count": 46,
   "metadata": {},
   "outputs": [
    {
     "name": "stdout",
     "output_type": "stream",
     "text": [
      "The autoreload extension is already loaded. To reload it, use:\n",
      "  %reload_ext autoreload\n"
     ]
    }
   ],
   "source": [
    "%load_ext autoreload\n",
    "%autoreload 2\n",
    "\n",
    "import os, sys\n",
    "# file_dir = os.path.dirname(__file__)\n",
    "# sys.path.append(file_dir)\n",
    "sys.path.append('/home/yz685/low_rank_BOPE')\n",
    "sys.path.append('/home/yz685/low_rank_BOPE/low_rank_BOPE')\n",
    "import warnings\n",
    "import math\n",
    "import matplotlib.pyplot as plt\n",
    "import numpy as np\n",
    "import scipy.linalg\n",
    "import torch\n",
    "from torch import Tensor\n",
    "from tqdm.auto import trange\n",
    "\n",
    "from botorch.models import SingleTaskGP\n",
    "from botorch.models.transforms import Standardize\n",
    "from botorch.utils.sampling import draw_sobol_samples\n",
    "\n",
    "\n",
    "from gpytorch import ExactMarginalLogLikelihood\n",
    "from gpytorch.constraints import GreaterThan\n",
    "from gpytorch.likelihoods import GaussianLikelihood\n",
    "from gpytorch.priors import GammaPrior\n",
    "from low_rank_BOPE.bope_class import BopeExperiment\n",
    "from low_rank_BOPE.test_problems.shapes import AreaUtil, Image\n",
    "from low_rank_BOPE.test_problems.synthetic_problem import make_controlled_coeffs, make_problem, generate_principal_axes\n",
    "from low_rank_BOPE.src.diagnostics import check_outcome_model_fit, check_util_model_fit"
   ]
  },
  {
   "cell_type": "code",
   "execution_count": 2,
   "metadata": {},
   "outputs": [],
   "source": [
    "matrix_id = 6\n",
    "\n",
    "CSVData = open(\n",
    "    f\"/home/yz685/low_rank_BOPE/low_rank_BOPE/test_problems/real_metric_corr/metric_corr_exp_{matrix_id}.csv\")\n",
    "metric_corr = np.loadtxt(CSVData, delimiter=\",\")"
   ]
  },
  {
   "cell_type": "code",
   "execution_count": 2,
   "metadata": {},
   "outputs": [
    {
     "name": "stdout",
     "output_type": "stream",
     "text": [
      "(69, 69)\n",
      "(111, 111)\n",
      "(128, 128)\n",
      "(120, 120)\n",
      "(56, 56)\n",
      "(71, 71)\n",
      "(45, 45)\n"
     ]
    }
   ],
   "source": [
    "for i in range(7):\n",
    "    CSVData = open(f\"/home/yz685/low_rank_BOPE/low_rank_BOPE/test_problems/real_metric_corr/metric_corr_exp_{i}.csv\")\n",
    "    print(np.loadtxt(CSVData, delimiter=\",\").shape)"
   ]
  },
  {
   "cell_type": "code",
   "execution_count": 3,
   "metadata": {},
   "outputs": [
    {
     "data": {
      "text/plain": [
       "array([[ 1.        ,  0.98030413,  0.61127194, ..., -0.30293051,\n",
       "         0.24740711,  0.39062555],\n",
       "       [ 0.98030413,  1.        ,  0.55908933, ..., -0.25086916,\n",
       "         0.29267356,  0.36732735],\n",
       "       [ 0.61127194,  0.55908933,  1.        , ..., -0.26745628,\n",
       "         0.03672024,  0.16907694],\n",
       "       ...,\n",
       "       [-0.30293051, -0.25086916, -0.26745628, ...,  1.        ,\n",
       "         0.12969605,  0.00115061],\n",
       "       [ 0.24740711,  0.29267356,  0.03672024, ...,  0.12969605,\n",
       "         1.        ,  0.55258851],\n",
       "       [ 0.39062555,  0.36732735,  0.16907694, ...,  0.00115061,\n",
       "         0.55258851,  1.        ]])"
      ]
     },
     "execution_count": 3,
     "metadata": {},
     "output_type": "execute_result"
    }
   ],
   "source": [
    "metric_corr"
   ]
  },
  {
   "cell_type": "code",
   "execution_count": 4,
   "metadata": {},
   "outputs": [
    {
     "data": {
      "text/plain": [
       "array([[-2.52956381e+00,  4.56613075e-01,  4.40896991e-01, ...,\n",
       "         2.69360508e-17, -2.92713571e-17,  1.61140478e-16],\n",
       "       [-2.57017134e+00,  3.26720047e-01,  4.60229785e-01, ...,\n",
       "        -4.12847369e-17, -8.56081559e-18, -1.22262707e-16],\n",
       "       [-1.82037069e+00,  1.48039292e+00, -2.17767477e-01, ...,\n",
       "        -4.96110483e-17, -1.64617830e-16,  1.83830609e-17],\n",
       "       ...,\n",
       "       [ 1.01784476e+00, -2.11980520e-02, -6.10054424e-01, ...,\n",
       "        -1.79900351e-18,  1.79127877e-17,  7.60204905e-18],\n",
       "       [-9.71889742e-01, -1.25748579e+00, -7.86461286e-01, ...,\n",
       "        -5.62277474e-17,  9.77561034e-18,  2.23809455e-17],\n",
       "       [-1.01852697e+00, -1.21423721e+00, -4.76614495e-01, ...,\n",
       "         1.13042513e-17,  4.52990668e-17, -3.70393666e-17]])"
      ]
     },
     "execution_count": 4,
     "metadata": {},
     "output_type": "execute_result"
    }
   ],
   "source": [
    "from sklearn.decomposition import PCA\n",
    "\n",
    "pca = PCA()\n",
    "\n",
    "pca.fit_transform(metric_corr)"
   ]
  },
  {
   "cell_type": "code",
   "execution_count": 5,
   "metadata": {},
   "outputs": [
    {
     "data": {
      "text/plain": [
       "Text(0.5, 1.0, 'Cumulative variance explained by successive principal components')"
      ]
     },
     "execution_count": 5,
     "metadata": {},
     "output_type": "execute_result"
    },
    {
     "data": {
      "image/png": "[encoded data removed]",
      "text/plain": [
       "<Figure size 432x288 with 1 Axes>"
      ]
     },
     "metadata": {
      "needs_background": "light"
     },
     "output_type": "display_data"
    }
   ],
   "source": [
    "plt.plot(np.cumsum(pca.explained_variance_ratio_))\n",
    "plt.title('Cumulative variance explained by successive principal components')"
   ]
  },
  {
   "cell_type": "code",
   "execution_count": null,
   "metadata": {},
   "outputs": [],
   "source": [
    "# idea 1: use svd on the correlation matrix\n",
    "# get the first few axes and singular values, \n",
    "# set those as ground truth axes and latent GP scaling factors\n",
    "\n",
    "# we don't use cholesky\n",
    "# chol_factor = np.linalg.cholesky(metric_corr + np.diag(np.ones(len(metric_corr))) * 1e-10)\n",
    "\n",
    "# idea 2: use the full correlation matrix\n",
    "# how to detangle the input correlation and task correlation?\n",
    "# use kronecker structure?\n",
    "# Suppose we have a vanilla Matern kernel over all inputs for all metrics\n",
    "# is it as simple as idea 1, just using all axes, \n",
    "# or is there something else we can do?"
   ]
  },
  {
   "cell_type": "code",
   "execution_count": 3,
   "metadata": {},
   "outputs": [],
   "source": [
    "# U and V are transposes of each other\n",
    "# first few columns of U / first few rows of V\n",
    "\n",
    "U, S, V = np.linalg.svd(metric_corr + np.diag(np.ones(len(metric_corr))) * 1e-10)"
   ]
  },
  {
   "cell_type": "code",
   "execution_count": 38,
   "metadata": {},
   "outputs": [],
   "source": [
    "num_samples = 100\n",
    "latent_dim = 10\n",
    "outcome_dim = 45\n",
    "\n",
    "PCs = np.random.multivariate_normal([0]*latent_dim, np.diag([1]*latent_dim), size = num_samples)\n",
    "PCs_full = np.random.multivariate_normal([0]*outcome_dim, np.diag([1]*outcome_dim), size = num_samples)\n"
   ]
  },
  {
   "cell_type": "code",
   "execution_count": 39,
   "metadata": {},
   "outputs": [],
   "source": [
    "# num_samples x 69np.matmul(PCs, V[:latent_dim] * np.expand_dims(np.sqrt(S[:latent_dim]), axis=1) )\n",
    "Y = np.matmul(PCs, V[:latent_dim] * np.expand_dims(np.sqrt(S[:latent_dim]), axis=1) )\n"
   ]
  },
  {
   "cell_type": "code",
   "execution_count": 40,
   "metadata": {},
   "outputs": [],
   "source": [
    "# argument should be a `outcome_dim x num_samples` data matrix, each col being an observation\n",
    "\n",
    "emp_corr = np.corrcoef(Y.T)"
   ]
  },
  {
   "cell_type": "code",
   "execution_count": null,
   "metadata": {},
   "outputs": [],
   "source": [
    "# TODO: check that metric_corr and emp_corr are \"similar\"\n",
    "# how do we quantify similarity? "
   ]
  },
  {
   "cell_type": "code",
   "execution_count": 31,
   "metadata": {},
   "outputs": [],
   "source": [
    "def get_CMD(mat1, mat2):\n",
    "    r\"\"\"\n",
    "    A metric for correlation matrix distance developed in \n",
    "    https://www.researchgate.net/publication/4194743_Correlation_Matrix_Distance_a_Meaningful_Measure_for_Evaluation_of_Non-Stationary_MIMO_Channels\n",
    "\n",
    "    Computes the following metric:    \n",
    "        1-tr(mat1 @ mat2) / (Frobenius-norm(mat1) * Frobenius-norm(mat2))\n",
    "    Equivalent to:\n",
    "        1-dot(vec(mat1), vec(mat2)) / (L2-norm(vec(mat1)) * L2-norm(vec(mat2)))\n",
    "    \n",
    "    Takes values in [0,1]. The closer to 0, the more similar.\n",
    "    \"\"\"\n",
    "\n",
    "    res = 1 - np.trace(np.matmul(mat1, mat2)) / (np.linalg.norm(mat1) * np.linalg.norm(mat2))   \n",
    "    # np.linalg.norm() is the Frobenius norm by default\n",
    "    \n",
    "    return res"
   ]
  },
  {
   "cell_type": "code",
   "execution_count": 41,
   "metadata": {},
   "outputs": [
    {
     "data": {
      "text/plain": [
       "0.03525529833541652"
      ]
     },
     "execution_count": 41,
     "metadata": {},
     "output_type": "execute_result"
    }
   ],
   "source": [
    "# can verify that the empirical correlation from the data is similar to metric_corr\n",
    "\n",
    "get_CMD(metric_corr, emp_corr)"
   ]
  },
  {
   "cell_type": "code",
   "execution_count": null,
   "metadata": {},
   "outputs": [],
   "source": [
    "# in practice, we'd still use the PCATestProblem class,\n",
    "# but make sure to pass in V[:latent_dim] as true_axes\n",
    "# and sqrt(S[:latent_dim]) as PC_scaling_factors\n"
   ]
  },
  {
   "cell_type": "code",
   "execution_count": 47,
   "metadata": {},
   "outputs": [],
   "source": [
    "full_axes = generate_principal_axes(\n",
    "    output_dim=20,\n",
    "    num_axes=20,\n",
    "    dtype=torch.double,\n",
    "    seed=0\n",
    ")"
   ]
  },
  {
   "cell_type": "code",
   "execution_count": 48,
   "metadata": {},
   "outputs": [],
   "source": [
    "true_axes = full_axes[:3]\n",
    "scaling = [1,2,3]"
   ]
  },
  {
   "cell_type": "code",
   "execution_count": 50,
   "metadata": {},
   "outputs": [
    {
     "name": "stderr",
     "output_type": "stream",
     "text": [
      "/home/yz685/anaconda3/envs/bope_pca/lib/python3.9/site-packages/botorch/test_functions/base.py:39: UserWarning: To copy construct from a tensor, it is recommended to use sourceTensor.clone().detach() or sourceTensor.clone().detach().requires_grad_(True), rather than torch.tensor(sourceTensor).\n",
      "  \"bounds\", torch.tensor(self._bounds, dtype=torch.float).transpose(-1, -2)\n",
      "/home/yz685/anaconda3/envs/bope_pca/lib/python3.9/site-packages/botorch/models/utils/assorted.py:173: InputDataWarning: Input data is not contained to the unit cube. Please consider min-max scaling the input data.\n",
      "  warnings.warn(msg, InputDataWarning)\n",
      "/home/yz685/anaconda3/envs/bope_pca/lib/python3.9/site-packages/botorch/models/utils/assorted.py:201: InputDataWarning: Input data is not standardized. Please consider scaling the input to zero mean and unit variance.\n",
      "  warnings.warn(msg, InputDataWarning)\n"
     ]
    }
   ],
   "source": [
    "problem = make_problem(\n",
    "    input_dim = 2, \n",
    "    outcome_dim = 20,\n",
    "    noise_std = 0.01,\n",
    "    num_initial_samples = 32,\n",
    "    true_axes = true_axes,\n",
    "    PC_lengthscales = [0.5]*3,\n",
    "    PC_scaling_factors = scaling,\n",
    "    problem_seed = 5\n",
    ")"
   ]
  },
  {
   "cell_type": "code",
   "execution_count": null,
   "metadata": {},
   "outputs": [],
   "source": [
    "test_X = torch.randn((100, 2), dtype=torch.double)\n",
    "test_Y = problem(test_X)\n",
    "\n",
    "Y_corr = np.corrcoef(np.array(test_Y).T)\n",
    "\n",
    "# normalize somehow?\n",
    "# true_corr = true_axes^T @ S^2 @ true_axes\n",
    "\n",
    "# Y_corr should be close to true_corr\n"
   ]
  }
 ],
 "metadata": {
  "kernelspec": {
   "display_name": "bope_pca",
   "language": "python",
   "name": "python3"
  },
  "language_info": {
   "codemirror_mode": {
    "name": "ipython",
    "version": 3
   },
   "file_extension": ".py",
   "mimetype": "text/x-python",
   "name": "python",
   "nbconvert_exporter": "python",
   "pygments_lexer": "ipython3",
   "version": "3.9.15"
  },
  "orig_nbformat": 4,
  "vscode": {
   "interpreter": {
    "hash": "f178f7686bb85c5c6e141a85fd4c17c3082d63b89f6cfaecdf98c22c0047a219"
   }
  }
 },
 "nbformat": 4,
 "nbformat_minor": 2
}
