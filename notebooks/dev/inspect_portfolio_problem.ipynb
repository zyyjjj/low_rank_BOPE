{
 "cells": [
  {
   "cell_type": "code",
   "execution_count": 11,
   "metadata": {},
   "outputs": [
    {
     "name": "stdout",
     "output_type": "stream",
     "text": [
      "The autoreload extension is already loaded. To reload it, use:\n",
      "  %reload_ext autoreload\n"
     ]
    }
   ],
   "source": [
    "%load_ext autoreload\n",
    "%autoreload 2\n",
    "\n",
    "import os, sys\n",
    "# file_dir = os.path.dirname(__file__)\n",
    "# sys.path.append(file_dir)\n",
    "sys.path.append('/home/yz685/low_rank_BOPE')\n",
    "sys.path.append('/home/yz685/low_rank_BOPE/low_rank_BOPE')\n",
    "import warnings\n",
    "import math\n",
    "import matplotlib.pyplot as plt\n",
    "import numpy as np\n",
    "import scipy.linalg\n",
    "import torch\n",
    "from torch import Tensor\n",
    "from tqdm.auto import trange\n",
    "\n",
    "from botorch.models import SingleTaskGP\n",
    "from botorch.models.transforms import Standardize\n",
    "\n",
    "from gpytorch import ExactMarginalLogLikelihood\n",
    "from gpytorch.constraints import GreaterThan\n",
    "from gpytorch.likelihoods import GaussianLikelihood\n",
    "from gpytorch.priors import GammaPrior\n",
    "from low_rank_BOPE.bope_class import BopeExperiment\n",
    "from low_rank_BOPE.test_problems.shapes import AreaUtil, Image\n",
    "from low_rank_BOPE.src.diagnostics import check_outcome_model_fit, check_util_model_fit"
   ]
  },
  {
   "cell_type": "code",
   "execution_count": 4,
   "metadata": {},
   "outputs": [],
   "source": [
    "portfolio_path = \"/home/yz685/low_rank_BOPE/low_rank_BOPE/test_problems/portfolio_opt_surrogate/\"\n",
    "state_dict = torch.load(portfolio_path + \"portfolio_surrogate_state_dict.pt\")"
   ]
  },
  {
   "cell_type": "code",
   "execution_count": 5,
   "metadata": {},
   "outputs": [],
   "source": [
    "data_list = list()\n",
    "for i in range(1, 31):\n",
    "    data_file = os.path.join(\n",
    "        portfolio_path, \"port_evals\", \"port_n=100_seed=%d\" % i)\n",
    "    data_list.append(torch.load(data_file))\n",
    "\n",
    "# join the data together\n",
    "X = torch.cat(\n",
    "    [data_list[i][\"X\"] for i in range(len(data_list))], dim=0\n",
    ").squeeze(-2)\n",
    "Y = torch.cat(\n",
    "    [data_list[i][\"Y\"] for i in range(len(data_list))], dim=0\n",
    ").squeeze(-2)"
   ]
  },
  {
   "cell_type": "code",
   "execution_count": 12,
   "metadata": {},
   "outputs": [
    {
     "name": "stderr",
     "output_type": "stream",
     "text": [
      "/home/yz685/anaconda3/envs/bope_pca/lib/python3.9/site-packages/botorch/models/gpytorch.py:119: UserWarning: The model inputs are of type torch.float32. It is strongly recommended to use double precision in BoTorch, as this improves both precision and stability and can help avoid numerical errors. See https://github.com/pytorch/botorch/discussions/1444\n",
      "  warnings.warn(\n",
      "/home/yz685/anaconda3/envs/bope_pca/lib/python3.9/site-packages/gpytorch/means/constant_mean.py:20: OldVersionWarning: You have loaded a GP model with a ConstantMean  from a previous version of GPyTorch. The mean module parameter `constant` has been renamed to `raw_constant`. Additionally, the shape of `raw_constant` is now *batch_shape, whereas the shape of `constant` was *batch_shape x 1. We have updated the name/shape of the parameter in your state dict, but we recommend that you re-save your model.\n",
      "  warnings.warn(\n"
     ]
    },
    {
     "data": {
      "text/plain": [
       "<All keys matched successfully>"
      ]
     },
     "execution_count": 12,
     "metadata": {},
     "output_type": "execute_result"
    }
   ],
   "source": [
    "# fit GP\n",
    "noise_prior = GammaPrior(1.1, 0.5)\n",
    "noise_prior_mode = (noise_prior.concentration - 1) / noise_prior.rate\n",
    "likelihood = GaussianLikelihood(\n",
    "    noise_prior=noise_prior,\n",
    "    batch_shape=[],\n",
    "    noise_constraint=GreaterThan(\n",
    "        0.000005,  # minimum observation noise assumed in the GP model\n",
    "        transform=None,\n",
    "        initial_value=noise_prior_mode,\n",
    "    ),\n",
    ")\n",
    "\n",
    "model = SingleTaskGP(\n",
    "    X, Y, likelihood, outcome_transform=Standardize(m=1))\n",
    "model.load_state_dict(state_dict)"
   ]
  },
  {
   "cell_type": "code",
   "execution_count": 18,
   "metadata": {},
   "outputs": [
    {
     "data": {
      "text/plain": [
       "tensor([[ -0.9272],\n",
       "        [ -0.9981],\n",
       "        [ -0.2425],\n",
       "        [ -2.1761],\n",
       "        [-12.9900],\n",
       "        [ -2.6111],\n",
       "        [ -5.5271],\n",
       "        [ -1.9521],\n",
       "        [ -1.4344],\n",
       "        [ -3.7714],\n",
       "        [ -1.7557],\n",
       "        [ -0.5026],\n",
       "        [ -3.0698],\n",
       "        [ -4.1519],\n",
       "        [ -2.0303],\n",
       "        [ -2.1791],\n",
       "        [ -0.1638],\n",
       "        [ -2.8808],\n",
       "        [  1.4820],\n",
       "        [ -3.7665]], grad_fn=<UnsqueezeBackward0>)"
      ]
     },
     "execution_count": 18,
     "metadata": {},
     "output_type": "execute_result"
    }
   ],
   "source": [
    "model.posterior(torch.rand((20,5))).mean"
   ]
  },
  {
   "cell_type": "code",
   "execution_count": null,
   "metadata": {},
   "outputs": [],
   "source": []
  }
 ],
 "metadata": {
  "kernelspec": {
   "display_name": "bope_pca",
   "language": "python",
   "name": "python3"
  },
  "language_info": {
   "codemirror_mode": {
    "name": "ipython",
    "version": 3
   },
   "file_extension": ".py",
   "mimetype": "text/x-python",
   "name": "python",
   "nbconvert_exporter": "python",
   "pygments_lexer": "ipython3",
   "version": "3.9.15 (main, Nov 24 2022, 14:31:59) \n[GCC 11.2.0]"
  },
  "orig_nbformat": 4,
  "vscode": {
   "interpreter": {
    "hash": "f178f7686bb85c5c6e141a85fd4c17c3082d63b89f6cfaecdf98c22c0047a219"
   }
  }
 },
 "nbformat": 4,
 "nbformat_minor": 2
}
