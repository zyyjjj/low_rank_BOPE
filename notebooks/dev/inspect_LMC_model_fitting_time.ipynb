{
 "cells": [
  {
   "attachments": {},
   "cell_type": "markdown",
   "metadata": {},
   "source": [
    "# TLDR\n",
    "Goal of this notebook is to understand why LMC model fitting is so slow"
   ]
  },
  {
   "cell_type": "code",
   "execution_count": 1,
   "metadata": {},
   "outputs": [
    {
     "name": "stderr",
     "output_type": "stream",
     "text": [
      "/home/yz685/anaconda3/envs/bope_pca/lib/python3.9/site-packages/tqdm/auto.py:22: TqdmWarning: IProgress not found. Please update jupyter and ipywidgets. See https://ipywidgets.readthedocs.io/en/stable/user_install.html\n",
      "  from .autonotebook import tqdm as notebook_tqdm\n"
     ]
    }
   ],
   "source": [
    "%load_ext autoreload\n",
    "%autoreload 2\n",
    "\n",
    "import os, sys\n",
    "# file_dir = os.path.dirname(__file__)\n",
    "# sys.path.append(file_dir)\n",
    "sys.path.append('/home/yz685/low_rank_BOPE')\n",
    "sys.path.append('/home/yz685/low_rank_BOPE/low_rank_BOPE')\n",
    "import warnings\n",
    "import math\n",
    "import matplotlib.pyplot as plt\n",
    "import numpy as np\n",
    "import scipy.linalg\n",
    "import torch\n",
    "import time\n",
    "from collections import defaultdict\n",
    "from low_rank_BOPE.bope_class import BopeExperiment\n",
    "from low_rank_BOPE.test_problems.synthetic_problem import make_controlled_coeffs, make_problem, generate_principal_axes, LinearUtil\n",
    "from low_rank_BOPE.src.diagnostics import check_outcome_model_fit, check_util_model_fit"
   ]
  },
  {
   "attachments": {},
   "cell_type": "markdown",
   "metadata": {},
   "source": [
    "# Experiment 1; Outcome model quality vs data size, for fixed outcome dimensionality"
   ]
  },
  {
   "cell_type": "code",
   "execution_count": 2,
   "metadata": {},
   "outputs": [
    {
     "name": "stderr",
     "output_type": "stream",
     "text": [
      "/home/yz685/anaconda3/envs/bope_pca/lib/python3.9/site-packages/botorch/test_functions/base.py:39: UserWarning: To copy construct from a tensor, it is recommended to use sourceTensor.clone().detach() or sourceTensor.clone().detach().requires_grad_(True), rather than torch.tensor(sourceTensor).\n",
      "  \"bounds\", torch.tensor(self._bounds, dtype=torch.float).transpose(-1, -2)\n"
     ]
    }
   ],
   "source": [
    "outcome_dim = 20\n",
    "rank = 1\n",
    "input_dim = 1\n",
    "noise_std = 0.05\n",
    "\n",
    "full_axes = generate_principal_axes(\n",
    "    output_dim=outcome_dim,\n",
    "    num_axes=outcome_dim,\n",
    "    seed = 0,\n",
    "    dtype=torch.double\n",
    ")\n",
    "\n",
    "beta = make_controlled_coeffs(\n",
    "    full_axes=full_axes,\n",
    "    latent_dim=rank,\n",
    "    alpha=1,\n",
    "    n_reps = 1,\n",
    "    dtype=torch.double\n",
    ").transpose(-2, -1)\n",
    "\n",
    "util_func = LinearUtil(beta=beta)\n",
    "\n",
    "true_axes = full_axes[: rank]\n",
    "\n",
    "problem = make_problem(\n",
    "    input_dim = input_dim, \n",
    "    outcome_dim = outcome_dim,\n",
    "    noise_std = noise_std,\n",
    "    num_initial_samples = input_dim*outcome_dim,\n",
    "    true_axes = true_axes,\n",
    "    PC_lengthscales = [0.5]*rank,\n",
    "    PC_scaling_factors = [2]\n",
    ")\n"
   ]
  },
  {
   "cell_type": "code",
   "execution_count": 10,
   "metadata": {},
   "outputs": [],
   "source": [
    "def run_fitting_helper(\n",
    "    methods=[\"st\", \"pca\", \"lmc\"], \n",
    "    datasizes=[20,50,100], \n",
    "    output_path=\"/home/yz685/low_rank_BOPE/experiments/synthetic/test_model_fit_\",\n",
    "    outcome_dim=20,\n",
    "    trial_idx = 101\n",
    "):\n",
    "\n",
    "    fitting_time_dict = defaultdict(dict)\n",
    "    mse_dict = defaultdict(dict)\n",
    "\n",
    "    exp = BopeExperiment(\n",
    "        problem, \n",
    "        util_func, \n",
    "        methods = methods,\n",
    "        pe_strategies = [\"EUBO-zeta\"],\n",
    "        trial_idx = trial_idx,\n",
    "        output_path = output_path,\n",
    "    )\n",
    "\n",
    "    for datasize in datasizes:\n",
    "        print(f\"========Running datasize = {datasize}========\")\n",
    "        exp.generate_random_experiment_data(n=datasize, compute_util = False)\n",
    "        for method in methods:\n",
    "            print(f\"======Running method {method}=======\")\n",
    "            start_time = time.time()\n",
    "            exp.fit_outcome_model(method)\n",
    "            model_fitting_time = time.time() - start_time\n",
    "            mse = check_outcome_model_fit(exp.outcome_models_dict[method], exp.problem, n_test=1000)\n",
    "\n",
    "            fitting_time_dict[datasize][method] = model_fitting_time\n",
    "            mse_dict[datasize][method] = mse\n",
    "\n",
    "            print(f\"Fitting time {model_fitting_time} sec; mse {mse}\")\n",
    "\n",
    "            save_path = output_path + f'outcome_dim={outcome_dim}/'\n",
    "            if not os.path.exists(save_path):\n",
    "                os.makedirs(save_path)\n",
    "            torch.save(fitting_time_dict, save_path + f'fitting_time_dict_trial={trial_idx}.th')\n",
    "            torch.save(mse_dict, save_path + f'mse_dict_trial={trial_idx}.th')\n",
    "    \n",
    "    return fitting_time_dict, mse_dict\n",
    "\n"
   ]
  },
  {
   "cell_type": "code",
   "execution_count": 11,
   "metadata": {},
   "outputs": [
    {
     "name": "stdout",
     "output_type": "stream",
     "text": [
      "self.methods,  ['pca', 'st', 'lmc']\n",
      "========Running datasize = 20========\n",
      "======Running method st=======\n",
      "Fitting outcome model using st\n",
      "torch.Size([1000])\n",
      "torch.Size([1000])\n",
      "Fitting time 27.020501136779785 sec; mse 12.750066430199984\n",
      "======Running method pca=======\n",
      "Fitting outcome model using pca\n"
     ]
    },
    {
     "name": "stderr",
     "output_type": "stream",
     "text": [
      "/home/yz685/low_rank_BOPE/low_rank_BOPE/src/transforms.py:84: UserWarning: To copy construct from a tensor, it is recommended to use sourceTensor.clone().detach() or sourceTensor.clone().detach().requires_grad_(True), rather than torch.tensor(sourceTensor).\n",
      "  self.axes_learned = torch.tensor(axes_learned, **tkwargs)\n",
      "/home/yz685/anaconda3/envs/bope_pca/lib/python3.9/site-packages/linear_operator/utils/cholesky.py:40: NumericalWarning: A not p.d., added jitter of 1.0e-08 to the diagonal\n",
      "  warnings.warn(\n"
     ]
    },
    {
     "name": "stdout",
     "output_type": "stream",
     "text": [
      "torch.Size([1000])\n",
      "amount of variance explained by 4 axes: 0.9574552041365618\n",
      "torch.Size([1000])\n",
      "Fitting time 270.1690630912781 sec; mse 6.510822195961352\n",
      "======Running method lmc=======\n",
      "Fitting outcome model using lmc\n",
      "torch.Size([1000])\n",
      "torch.Size([1000])\n",
      "Fitting time 823.4178478717804 sec; mse 15191.1721277153\n",
      "========Running datasize = 50========\n",
      "======Running method st=======\n",
      "Fitting outcome model using st\n",
      "torch.Size([1000])\n",
      "torch.Size([1000])\n",
      "Fitting time 32.55560636520386 sec; mse 5.228767795338513\n",
      "======Running method pca=======\n",
      "Fitting outcome model using pca\n"
     ]
    },
    {
     "name": "stderr",
     "output_type": "stream",
     "text": [
      "/home/yz685/anaconda3/envs/bope_pca/lib/python3.9/site-packages/linear_operator/utils/cholesky.py:40: NumericalWarning: A not p.d., added jitter of 1.0e-08 to the diagonal\n",
      "  warnings.warn(\n"
     ]
    },
    {
     "name": "stdout",
     "output_type": "stream",
     "text": [
      "torch.Size([1000])\n",
      "amount of variance explained by 4 axes: 0.9574552041365618\n",
      "torch.Size([1000])\n",
      "Fitting time 78.75699949264526 sec; mse 2.8767013755194073\n",
      "======Running method lmc=======\n",
      "Fitting outcome model using lmc\n",
      "torch.Size([1000])\n",
      "torch.Size([1000])\n",
      "Fitting time 1266.670479297638 sec; mse 14765.268391159507\n",
      "========Running datasize = 100========\n",
      "======Running method st=======\n",
      "Fitting outcome model using st\n",
      "torch.Size([1000])\n",
      "torch.Size([1000])\n",
      "Fitting time 45.45489501953125 sec; mse 5.167503228065888\n",
      "======Running method pca=======\n",
      "Fitting outcome model using pca\n"
     ]
    },
    {
     "name": "stderr",
     "output_type": "stream",
     "text": [
      "/home/yz685/anaconda3/envs/bope_pca/lib/python3.9/site-packages/linear_operator/utils/cholesky.py:40: NumericalWarning: A not p.d., added jitter of 1.0e-08 to the diagonal\n",
      "  warnings.warn(\n"
     ]
    },
    {
     "name": "stdout",
     "output_type": "stream",
     "text": [
      "torch.Size([1000])\n",
      "amount of variance explained by 4 axes: 0.9574552041365618\n",
      "torch.Size([1000])\n",
      "Fitting time 29.37682294845581 sec; mse 3.0122810174294283\n",
      "======Running method lmc=======\n",
      "Fitting outcome model using lmc\n",
      "torch.Size([1000])\n",
      "torch.Size([1000])\n",
      "Fitting time 4081.128522634506 sec; mse 18261.422503947782\n"
     ]
    },
    {
     "data": {
      "text/plain": [
       "(defaultdict(dict,\n",
       "             {20: {'st': 27.020501136779785,\n",
       "               'pca': 270.1690630912781,\n",
       "               'lmc': 823.4178478717804},\n",
       "              50: {'st': 32.55560636520386,\n",
       "               'pca': 78.75699949264526,\n",
       "               'lmc': 1266.670479297638},\n",
       "              100: {'st': 45.45489501953125,\n",
       "               'pca': 29.37682294845581,\n",
       "               'lmc': 4081.128522634506}}),\n",
       " defaultdict(dict,\n",
       "             {20: {'st': 12.750066430199984,\n",
       "               'pca': 6.510822195961352,\n",
       "               'lmc': 15191.1721277153},\n",
       "              50: {'st': 5.228767795338513,\n",
       "               'pca': 2.8767013755194073,\n",
       "               'lmc': 14765.268391159507},\n",
       "              100: {'st': 5.167503228065888,\n",
       "               'pca': 3.0122810174294283,\n",
       "               'lmc': 18261.422503947782}}))"
      ]
     },
     "execution_count": 11,
     "metadata": {},
     "output_type": "execute_result"
    }
   ],
   "source": [
    "run_fitting_helper()"
   ]
  },
  {
   "cell_type": "code",
   "execution_count": 14,
   "metadata": {},
   "outputs": [
    {
     "name": "stdout",
     "output_type": "stream",
     "text": [
      "tensor([[ 0.9567, -0.2218, -0.6547],\n",
      "        [ 0.8627, -0.9438, -2.0737],\n",
      "        [-0.3257,  0.4709,  1.3286],\n",
      "        [-0.9000,  2.2574, -1.4764]])\n",
      "tensor([0., 0., 0., 0.])\n",
      "tensor([1.3931, 5.9353, 2.0931, 8.0858])\n",
      "torch.Size([4])\n",
      "tensor([0., 0., 0., 0.])\n",
      "0.0\n"
     ]
    }
   ],
   "source": [
    "test_posterior_mean = torch.randn((4,3))\n",
    "test_Y = test_posterior_mean.detach().clone()\n",
    "\n",
    "print(test_Y)\n",
    "print(torch.sum((test_posterior_mean - test_Y) ** 2, dim=1))\n",
    "\n",
    "print(torch.sum(test_Y**2, dim=1))\n",
    "\n",
    "mse_rel = torch.sum((test_posterior_mean - test_Y) ** 2, dim=1) / torch.sum(test_Y**2, dim=1)\n",
    "\n",
    "print(mse_rel.shape)\n",
    "print(torch.sqrt(mse_rel))\n",
    "print(torch.sqrt(mse_rel).mean(axis=0).item())\n"
   ]
  },
  {
   "cell_type": "code",
   "execution_count": 35,
   "metadata": {},
   "outputs": [
    {
     "name": "stdout",
     "output_type": "stream",
     "text": [
      "Fitting outcome model using pca\n"
     ]
    },
    {
     "name": "stderr",
     "output_type": "stream",
     "text": [
      "/home/yz685/low_rank_BOPE/low_rank_BOPE/src/transforms.py:84: UserWarning: To copy construct from a tensor, it is recommended to use sourceTensor.clone().detach() or sourceTensor.clone().detach().requires_grad_(True), rather than torch.tensor(sourceTensor).\n",
      "  self.axes_learned = torch.tensor(axes_learned, **tkwargs)\n"
     ]
    },
    {
     "name": "stdout",
     "output_type": "stream",
     "text": [
      "torch.Size([1000])\n",
      "amount of variance explained by 3 axes: 0.9541438122197349\n"
     ]
    },
    {
     "name": "stderr",
     "output_type": "stream",
     "text": [
      "/home/yz685/anaconda3/envs/bope_pca/lib/python3.9/site-packages/linear_operator/utils/cholesky.py:40: NumericalWarning: A not p.d., added jitter of 1.0e-08 to the diagonal\n",
      "  warnings.warn(\n"
     ]
    }
   ],
   "source": [
    "exp.fit_outcome_model(\"pca\")"
   ]
  },
  {
   "cell_type": "code",
   "execution_count": 36,
   "metadata": {},
   "outputs": [
    {
     "name": "stdout",
     "output_type": "stream",
     "text": [
      "torch.Size([1000])\n"
     ]
    },
    {
     "data": {
      "text/plain": [
       "15.120272225107907"
      ]
     },
     "execution_count": 36,
     "metadata": {},
     "output_type": "execute_result"
    }
   ],
   "source": [
    "check_outcome_model_fit(exp.outcome_models_dict[\"pca\"], exp.problem, n_test=1000)"
   ]
  },
  {
   "cell_type": "code",
   "execution_count": 9,
   "metadata": {},
   "outputs": [
    {
     "name": "stdout",
     "output_type": "stream",
     "text": [
      "Fitting outcome model using lmc\n",
      "LMC model fitting used 235.67349195480347 seconds\n"
     ]
    }
   ],
   "source": [
    "start_time = time.time()\n",
    "exp.fit_outcome_model(\"lmc\")\n",
    "print(f'LMC model fitting used {time.time() - start_time} seconds')"
   ]
  },
  {
   "cell_type": "code",
   "execution_count": 10,
   "metadata": {},
   "outputs": [
    {
     "name": "stdout",
     "output_type": "stream",
     "text": [
      "torch.Size([1000])\n"
     ]
    },
    {
     "data": {
      "text/plain": [
       "23516.61878909699"
      ]
     },
     "execution_count": 10,
     "metadata": {},
     "output_type": "execute_result"
    }
   ],
   "source": [
    "check_outcome_model_fit(exp.outcome_models_dict[\"lmc\"], exp.problem, n_test=1000)"
   ]
  },
  {
   "cell_type": "code",
   "execution_count": 28,
   "metadata": {},
   "outputs": [
    {
     "data": {
      "text/plain": [
       "{'_num_outputs': 20,\n",
       " 'training': False,\n",
       " '_parameters': OrderedDict(),\n",
       " '_buffers': OrderedDict(),\n",
       " '_non_persistent_buffers_set': set(),\n",
       " '_backward_hooks': OrderedDict(),\n",
       " '_is_full_backward_hook': None,\n",
       " '_forward_hooks': OrderedDict(),\n",
       " '_forward_pre_hooks': OrderedDict(),\n",
       " '_state_dict_hooks': OrderedDict(),\n",
       " '_load_state_dict_pre_hooks': OrderedDict([(52,\n",
       "               <torch.nn.modules.module._WrappedHook at 0x7f2cf4675040>)]),\n",
       " '_load_state_dict_post_hooks': OrderedDict(),\n",
       " '_modules': OrderedDict([('likelihood',\n",
       "               MultitaskGaussianLikelihood(\n",
       "                 (raw_task_noises_constraint): GreaterThan(1.000E-04)\n",
       "                 (raw_noise_constraint): GreaterThan(1.000E-04)\n",
       "               )),\n",
       "              ('mean_module',\n",
       "               MultitaskMean(\n",
       "                 (base_means): ModuleList(\n",
       "                   (0): ConstantMean()\n",
       "                   (1): ConstantMean()\n",
       "                   (2): ConstantMean()\n",
       "                   (3): ConstantMean()\n",
       "                   (4): ConstantMean()\n",
       "                   (5): ConstantMean()\n",
       "                   (6): ConstantMean()\n",
       "                   (7): ConstantMean()\n",
       "                   (8): ConstantMean()\n",
       "                   (9): ConstantMean()\n",
       "                   (10): ConstantMean()\n",
       "                   (11): ConstantMean()\n",
       "                   (12): ConstantMean()\n",
       "                   (13): ConstantMean()\n",
       "                   (14): ConstantMean()\n",
       "                   (15): ConstantMean()\n",
       "                   (16): ConstantMean()\n",
       "                   (17): ConstantMean()\n",
       "                   (18): ConstantMean()\n",
       "                   (19): ConstantMean()\n",
       "                 )\n",
       "               )),\n",
       "              ('covar_module',\n",
       "               LCMKernel(\n",
       "                 (covar_module_list): ModuleList(\n",
       "                   (0): MultitaskKernel(\n",
       "                     (task_covar_module): IndexKernel(\n",
       "                       (raw_var_constraint): Positive()\n",
       "                     )\n",
       "                     (data_covar_module): MaternKernel(\n",
       "                       (lengthscale_prior): GammaPrior()\n",
       "                       (raw_lengthscale_constraint): Positive()\n",
       "                     )\n",
       "                   )\n",
       "                   (1): MultitaskKernel(\n",
       "                     (task_covar_module): IndexKernel(\n",
       "                       (raw_var_constraint): Positive()\n",
       "                     )\n",
       "                     (data_covar_module): MaternKernel(\n",
       "                       (lengthscale_prior): GammaPrior()\n",
       "                       (raw_lengthscale_constraint): Positive()\n",
       "                     )\n",
       "                   )\n",
       "                 )\n",
       "               ))]),\n",
       " '_added_loss_terms': OrderedDict(),\n",
       " '_priors': OrderedDict(),\n",
       " '_constraints': OrderedDict(),\n",
       " '_strict_init': True,\n",
       " '_load_strict_shapes': True,\n",
       " 'train_inputs': (tensor([[0.2511],\n",
       "          [0.8969],\n",
       "          [0.7070],\n",
       "          [0.7460],\n",
       "          [0.1532],\n",
       "          [0.7126],\n",
       "          [0.7152],\n",
       "          [0.6057],\n",
       "          [0.0726],\n",
       "          [0.4787],\n",
       "          [0.2927],\n",
       "          [0.0321],\n",
       "          [0.0559],\n",
       "          [0.4614],\n",
       "          [0.0442],\n",
       "          [0.8274],\n",
       "          [0.9054],\n",
       "          [0.6837],\n",
       "          [0.7954],\n",
       "          [0.7462]], dtype=torch.float64),),\n",
       " '_train_targets': tensor([[ 1.0650,  0.8576,  0.5962,  0.9077,  0.8836,  0.8659,  0.9901,  0.8600,\n",
       "           0.3994,  0.8422,  0.5433,  0.7197,  0.9427,  0.5639,  0.7760,  0.6107,\n",
       "           1.3106,  1.3646,  0.6219,  0.6984],\n",
       "         [-0.3586, -0.6692, -0.6595, -0.4855, -0.3153, -0.5752, -0.2514, -0.3720,\n",
       "          -0.2131, -0.7653, -0.8894, -0.4702, -0.2876, -0.7653, -0.4063, -0.0104,\n",
       "          -0.1229, -0.7136,  0.1236, -0.1165],\n",
       "         [-0.8706, -0.6274, -1.2493, -0.8373, -0.7899, -1.1437, -0.8798, -0.4783,\n",
       "          -0.8239, -1.1817, -1.0013, -0.9494, -1.4741, -0.6271, -0.7332, -1.2617,\n",
       "          -0.9781, -0.8605, -1.1293, -0.6589],\n",
       "         [-1.0761, -1.1005, -1.0296, -0.9189, -1.0578, -1.1453, -1.0661, -0.9569,\n",
       "          -1.0474, -1.2395, -1.6596, -1.1162, -1.0412, -1.1296, -1.4066, -1.0143,\n",
       "          -0.7576, -0.8829, -1.6224, -0.9226],\n",
       "         [ 0.6972,  0.7681,  0.7054,  0.1613,  0.9821,  1.0071,  0.9586,  1.0994,\n",
       "           0.9758,  0.5673,  0.7042,  1.0253,  0.5983,  1.0411,  1.0191,  0.0563,\n",
       "           0.9040,  0.4709,  0.6924,  0.9405],\n",
       "         [-1.0082, -1.0922, -1.1904, -0.9777, -0.8113, -0.8695, -0.8267, -0.8386,\n",
       "          -1.0168, -1.2773, -0.8960, -0.9382, -0.6268, -0.8489, -0.9114, -1.1434,\n",
       "          -1.3309, -0.8492, -0.9237, -0.9085],\n",
       "         [-0.9969, -1.0070, -1.2457, -1.1113, -1.0046, -0.9693, -1.0208, -1.1559,\n",
       "          -0.7169, -0.7526, -0.8680, -1.0147, -0.9868, -1.1195, -1.1326, -1.3592,\n",
       "          -0.9234, -0.7863, -1.0345, -1.0491],\n",
       "         [-0.1301, -0.3921, -0.3968, -0.4183, -0.4190, -0.1959, -0.5453, -0.4781,\n",
       "          -0.5476, -0.5089, -0.1064, -0.0958,  0.2746, -0.2954, -0.4751, -0.5848,\n",
       "          -0.5790, -0.2893, -0.2444, -0.2061],\n",
       "         [ 0.7743,  0.9893,  1.2378,  1.1765,  1.1308,  1.2200,  1.2205,  1.0287,\n",
       "           1.1054,  1.2179,  1.5882,  1.1181,  0.7532,  0.9739,  1.1280,  1.2376,\n",
       "           0.9367,  1.2872,  0.9501,  1.0494],\n",
       "         [ 1.0734,  0.9143,  0.5717,  0.2054,  0.6466,  0.8886,  0.8277,  1.0836,\n",
       "           1.3138,  0.7497,  0.8371,  0.5719,  0.7979,  0.7844,  1.0395,  0.9525,\n",
       "           1.1554,  0.6450,  0.9813,  0.9675],\n",
       "         [ 0.9690,  0.7198,  1.0351,  0.7105,  0.8584,  0.8147,  0.5084,  0.8067,\n",
       "           0.4368,  0.9778,  1.1833,  1.3216,  0.8877,  0.9616,  0.7969,  0.8856,\n",
       "           0.9691,  1.2754,  0.8431,  0.9851],\n",
       "         [ 1.3125,  1.3743,  1.3047,  1.5728,  1.3594,  0.9928,  0.6810,  1.1688,\n",
       "           0.9292,  1.2419,  0.6663,  1.0819,  1.5592,  1.0699,  1.3334,  0.9884,\n",
       "           1.1403,  0.7330,  1.1721,  1.5440],\n",
       "         [ 1.2877,  1.3356,  0.9439,  0.9612,  0.9299,  1.1209,  1.2358,  0.8381,\n",
       "           1.7400,  1.5724,  1.4777,  1.1444,  0.9654,  1.4227,  1.2481,  1.3071,\n",
       "           1.0610,  0.8426,  1.1441,  1.0382],\n",
       "         [ 1.0027,  1.1797,  1.1696,  1.5831,  1.0644,  1.0260,  1.7138,  1.0745,\n",
       "           1.1352,  0.5674,  0.3750,  0.8707,  0.8837,  1.0206,  1.0951,  1.1588,\n",
       "           0.2948,  1.3740,  0.8924,  0.9760],\n",
       "         [ 1.0173,  1.2543,  1.2040,  1.4866,  1.4496,  1.4230,  1.0395,  1.3623,\n",
       "           1.0346,  1.1324,  1.4062,  1.3727,  1.3956,  1.4327,  0.7924,  1.5469,\n",
       "           1.3778,  1.2409,  1.4212,  0.6210],\n",
       "         [-0.9877, -0.7370, -0.3726, -1.0415, -1.1855, -0.9890, -1.2698, -0.9194,\n",
       "          -1.0310, -0.7593, -1.0810, -1.2170, -0.6621, -0.8419, -1.1184, -0.4502,\n",
       "          -1.1423, -1.0007, -0.8412, -1.8606],\n",
       "         [-0.3174, -0.7183,  0.2900, -0.1326, -0.7023, -0.4076, -0.5399, -0.4837,\n",
       "          -0.4601, -0.2501, -0.1433, -0.4567, -0.4480, -0.4002, -0.1055, -0.2951,\n",
       "          -0.5631, -0.4469,  0.0354, -0.0744],\n",
       "         [-0.8682, -0.8051, -0.5430, -0.7261, -0.7594, -1.0299, -0.6114, -1.0973,\n",
       "          -0.8133,  0.1648, -0.7862, -0.7876, -1.4221, -0.7585, -0.8458, -0.4503,\n",
       "          -0.7020, -1.0503, -0.5979, -0.8916],\n",
       "         [-1.4031, -0.9414, -0.8021, -1.2703, -1.4126, -0.9238, -0.9368, -1.1580,\n",
       "          -1.1159, -0.9708, -0.6209, -1.1607, -1.0773, -1.2417, -0.9490, -1.0361,\n",
       "          -1.3260, -1.2629, -1.2614, -0.9704],\n",
       "         [-1.1821, -1.3028, -1.5691, -0.8455, -0.8472, -1.1098, -1.2276, -1.3838,\n",
       "          -1.2841, -1.3283, -0.7292, -1.0197, -1.0325, -1.2428, -1.1446, -1.1384,\n",
       "          -0.7241, -1.0909, -1.2228, -1.1612]], dtype=torch.float64),\n",
       " 'prediction_strategy': <gpytorch.models.exact_prediction_strategies.DefaultPredictionStrategy at 0x7f2cfc101940>}"
      ]
     },
     "execution_count": 28,
     "metadata": {},
     "output_type": "execute_result"
    }
   ],
   "source": [
    "exp.outcome_models_dict[\"lmc\"].__dict__"
   ]
  },
  {
   "cell_type": "code",
   "execution_count": 37,
   "metadata": {},
   "outputs": [
    {
     "name": "stdout",
     "output_type": "stream",
     "text": [
      "Fitting outcome model using st\n",
      "torch.Size([1000])\n",
      "ST model fitting used 29.51462411880493 seconds\n"
     ]
    }
   ],
   "source": [
    "start_time = time.time()\n",
    "exp.fit_outcome_model(\"st\")\n",
    "print(f'ST model fitting used {time.time() - start_time} seconds')"
   ]
  },
  {
   "cell_type": "code",
   "execution_count": 38,
   "metadata": {},
   "outputs": [
    {
     "name": "stdout",
     "output_type": "stream",
     "text": [
      "torch.Size([1000])\n"
     ]
    },
    {
     "data": {
      "text/plain": [
       "24.674626763608078"
      ]
     },
     "execution_count": 38,
     "metadata": {},
     "output_type": "execute_result"
    }
   ],
   "source": [
    "check_outcome_model_fit(exp.outcome_models_dict[\"st\"], exp.problem, n_test=1000)"
   ]
  },
  {
   "cell_type": "code",
   "execution_count": null,
   "metadata": {},
   "outputs": [],
   "source": []
  }
 ],
 "metadata": {
  "kernelspec": {
   "display_name": "bope_pca",
   "language": "python",
   "name": "python3"
  },
  "language_info": {
   "codemirror_mode": {
    "name": "ipython",
    "version": 3
   },
   "file_extension": ".py",
   "mimetype": "text/x-python",
   "name": "python",
   "nbconvert_exporter": "python",
   "pygments_lexer": "ipython3",
   "version": "3.9.15 (main, Nov 24 2022, 14:31:59) \n[GCC 11.2.0]"
  },
  "orig_nbformat": 4,
  "vscode": {
   "interpreter": {
    "hash": "f178f7686bb85c5c6e141a85fd4c17c3082d63b89f6cfaecdf98c22c0047a219"
   }
  }
 },
 "nbformat": 4,
 "nbformat_minor": 2
}
