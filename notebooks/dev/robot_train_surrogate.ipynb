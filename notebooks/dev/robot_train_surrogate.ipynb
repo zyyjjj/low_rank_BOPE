{
 "cells": [
  {
   "cell_type": "code",
   "execution_count": 1,
   "metadata": {},
   "outputs": [
    {
     "name": "stderr",
     "output_type": "stream",
     "text": [
      "/home/yz685/anaconda3/envs/bope_pca/lib/python3.9/site-packages/tqdm/auto.py:22: TqdmWarning: IProgress not found. Please update jupyter and ipywidgets. See https://ipywidgets.readthedocs.io/en/stable/user_install.html\n",
      "  from .autonotebook import tqdm as notebook_tqdm\n"
     ]
    }
   ],
   "source": [
    "%load_ext autoreload\n",
    "%autoreload 2\n",
    "\n",
    "import numpy as np\n",
    "import matplotlib.pyplot as plt\n",
    "import torch\n",
    "from torch import Tensor\n",
    "from botorch.test_functions import SyntheticTestFunction\n",
    "\n",
    "import sys\n",
    "# sys.path.append('..')\n",
    "sys.path.append('/home/yz685/low_rank_BOPE')\n",
    "sys.path.append('/home/yz685/low_rank_BOPE/low_rank_BOPE')\n",
    "\n",
    "from low_rank_BOPE.bope_class_retraining import RetrainingBopeExperiment"
   ]
  },
  {
   "attachments": {},
   "cell_type": "markdown",
   "metadata": {},
   "source": [
    "## Load saved data (control params, trajectory) and train a decision tree regressor"
   ]
  },
  {
   "cell_type": "code",
   "execution_count": 2,
   "metadata": {},
   "outputs": [],
   "source": [
    "# path of data\n",
    "data_path = \"/home/yz685/low_rank_BOPE/experiments/robot_data/3_50_1\""
   ]
  },
  {
   "cell_type": "code",
   "execution_count": 10,
   "metadata": {},
   "outputs": [],
   "source": [
    "import os\n",
    "\n",
    "data_files = os.listdir(data_path)"
   ]
  },
  {
   "cell_type": "code",
   "execution_count": 13,
   "metadata": {},
   "outputs": [],
   "source": [
    "train_X = torch.tensor([])\n",
    "train_Y = torch.tensor([])"
   ]
  },
  {
   "cell_type": "code",
   "execution_count": 15,
   "metadata": {},
   "outputs": [
    {
     "name": "stdout",
     "output_type": "stream",
     "text": [
      "n=2000_seed=20.pt\n",
      "torch.Size([2000, 3]) torch.Size([2000, 150])\n",
      "n=2000_seed=16.pt\n",
      "torch.Size([4000, 3]) torch.Size([4000, 150])\n",
      "n=2000_seed=3.pt\n",
      "torch.Size([6000, 3]) torch.Size([6000, 150])\n",
      "n=2000_seed=5.pt\n",
      "torch.Size([8000, 3]) torch.Size([8000, 150])\n",
      "n=2000_seed=4.pt\n"
     ]
    },
    {
     "name": "stderr",
     "output_type": "stream",
     "text": [
      "/tmp/ipykernel_1427257/3541311555.py:5: UserWarning: To copy construct from a tensor, it is recommended to use sourceTensor.clone().detach() or sourceTensor.clone().detach().requires_grad_(True), rather than torch.tensor(sourceTensor).\n",
      "  train_X = torch.cat((train_X, torch.tensor(data['X'])))\n",
      "/tmp/ipykernel_1427257/3541311555.py:6: UserWarning: To copy construct from a tensor, it is recommended to use sourceTensor.clone().detach() or sourceTensor.clone().detach().requires_grad_(True), rather than torch.tensor(sourceTensor).\n",
      "  train_Y = torch.cat((train_Y, torch.tensor(data['Y'])))\n"
     ]
    },
    {
     "name": "stdout",
     "output_type": "stream",
     "text": [
      "torch.Size([10000, 3]) torch.Size([10000, 150])\n",
      "n=2000_seed=2.pt\n",
      "torch.Size([12000, 3]) torch.Size([12000, 150])\n",
      "n=2000_seed=11.pt\n",
      "torch.Size([14000, 3]) torch.Size([14000, 150])\n",
      "n=2000_seed=13.pt\n",
      "torch.Size([16000, 3]) torch.Size([16000, 150])\n",
      "n=2000_seed=19.pt\n",
      "torch.Size([18000, 3]) torch.Size([18000, 150])\n",
      "n=2000_seed=12.pt\n",
      "torch.Size([20000, 3]) torch.Size([20000, 150])\n",
      "n=2000_seed=9.pt\n",
      "torch.Size([22000, 3]) torch.Size([22000, 150])\n",
      "n=2000_seed=7.pt\n",
      "torch.Size([24000, 3]) torch.Size([24000, 150])\n",
      "n=2000_seed=18.pt\n",
      "torch.Size([26000, 3]) torch.Size([26000, 150])\n",
      "n=2000_seed=15.pt\n",
      "torch.Size([28000, 3]) torch.Size([28000, 150])\n",
      "n=2000_seed=10.pt\n",
      "torch.Size([30000, 3]) torch.Size([30000, 150])\n",
      "n=2000_seed=17.pt\n",
      "torch.Size([32000, 3]) torch.Size([32000, 150])\n",
      "n=2000_seed=6.pt\n",
      "torch.Size([34000, 3]) torch.Size([34000, 150])\n",
      "n=2000_seed=8.pt\n",
      "torch.Size([36000, 3]) torch.Size([36000, 150])\n",
      "n=2000_seed=14.pt\n",
      "torch.Size([38000, 3]) torch.Size([38000, 150])\n",
      "n=2000_seed=1.pt\n",
      "torch.Size([40000, 3]) torch.Size([40000, 150])\n"
     ]
    }
   ],
   "source": [
    "for data_name in data_files:\n",
    "    if data_name.startswith(\"n=2000\"):\n",
    "        print(data_name)\n",
    "        data = torch.load(os.path.join(data_path, data_name))\n",
    "        train_X = torch.cat((train_X, torch.tensor(data['X'])))\n",
    "        train_Y = torch.cat((train_Y, torch.tensor(data['Y'])))\n",
    "        print(train_X.shape, train_Y.shape)"
   ]
  },
  {
   "cell_type": "code",
   "execution_count": 23,
   "metadata": {},
   "outputs": [],
   "source": [
    "from sklearn.ensemble import GradientBoostingRegressor\n",
    "from sklearn.tree import DecisionTreeRegressor\n"
   ]
  },
  {
   "cell_type": "code",
   "execution_count": 28,
   "metadata": {},
   "outputs": [
    {
     "data": {
      "text/html": [
       "<style>#sk-container-id-6 {color: black;background-color: white;}#sk-container-id-6 pre{padding: 0;}#sk-container-id-6 div.sk-toggleable {background-color: white;}#sk-container-id-6 label.sk-toggleable__label {cursor: pointer;display: block;width: 100%;margin-bottom: 0;padding: 0.3em;box-sizing: border-box;text-align: center;}#sk-container-id-6 label.sk-toggleable__label-arrow:before {content: \"▸\";float: left;margin-right: 0.25em;color: #696969;}#sk-container-id-6 label.sk-toggleable__label-arrow:hover:before {color: black;}#sk-container-id-6 div.sk-estimator:hover label.sk-toggleable__label-arrow:before {color: black;}#sk-container-id-6 div.sk-toggleable__content {max-height: 0;max-width: 0;overflow: hidden;text-align: left;background-color: #f0f8ff;}#sk-container-id-6 div.sk-toggleable__content pre {margin: 0.2em;color: black;border-radius: 0.25em;background-color: #f0f8ff;}#sk-container-id-6 input.sk-toggleable__control:checked~div.sk-toggleable__content {max-height: 200px;max-width: 100%;overflow: auto;}#sk-container-id-6 input.sk-toggleable__control:checked~label.sk-toggleable__label-arrow:before {content: \"▾\";}#sk-container-id-6 div.sk-estimator input.sk-toggleable__control:checked~label.sk-toggleable__label {background-color: #d4ebff;}#sk-container-id-6 div.sk-label input.sk-toggleable__control:checked~label.sk-toggleable__label {background-color: #d4ebff;}#sk-container-id-6 input.sk-hidden--visually {border: 0;clip: rect(1px 1px 1px 1px);clip: rect(1px, 1px, 1px, 1px);height: 1px;margin: -1px;overflow: hidden;padding: 0;position: absolute;width: 1px;}#sk-container-id-6 div.sk-estimator {font-family: monospace;background-color: #f0f8ff;border: 1px dotted black;border-radius: 0.25em;box-sizing: border-box;margin-bottom: 0.5em;}#sk-container-id-6 div.sk-estimator:hover {background-color: #d4ebff;}#sk-container-id-6 div.sk-parallel-item::after {content: \"\";width: 100%;border-bottom: 1px solid gray;flex-grow: 1;}#sk-container-id-6 div.sk-label:hover label.sk-toggleable__label {background-color: #d4ebff;}#sk-container-id-6 div.sk-serial::before {content: \"\";position: absolute;border-left: 1px solid gray;box-sizing: border-box;top: 0;bottom: 0;left: 50%;z-index: 0;}#sk-container-id-6 div.sk-serial {display: flex;flex-direction: column;align-items: center;background-color: white;padding-right: 0.2em;padding-left: 0.2em;position: relative;}#sk-container-id-6 div.sk-item {position: relative;z-index: 1;}#sk-container-id-6 div.sk-parallel {display: flex;align-items: stretch;justify-content: center;background-color: white;position: relative;}#sk-container-id-6 div.sk-item::before, #sk-container-id-6 div.sk-parallel-item::before {content: \"\";position: absolute;border-left: 1px solid gray;box-sizing: border-box;top: 0;bottom: 0;left: 50%;z-index: -1;}#sk-container-id-6 div.sk-parallel-item {display: flex;flex-direction: column;z-index: 1;position: relative;background-color: white;}#sk-container-id-6 div.sk-parallel-item:first-child::after {align-self: flex-end;width: 50%;}#sk-container-id-6 div.sk-parallel-item:last-child::after {align-self: flex-start;width: 50%;}#sk-container-id-6 div.sk-parallel-item:only-child::after {width: 0;}#sk-container-id-6 div.sk-dashed-wrapped {border: 1px dashed gray;margin: 0 0.4em 0.5em 0.4em;box-sizing: border-box;padding-bottom: 0.4em;background-color: white;}#sk-container-id-6 div.sk-label label {font-family: monospace;font-weight: bold;display: inline-block;line-height: 1.2em;}#sk-container-id-6 div.sk-label-container {text-align: center;}#sk-container-id-6 div.sk-container {/* jupyter's `normalize.less` sets `[hidden] { display: none; }` but bootstrap.min.css set `[hidden] { display: none !important; }` so we also need the `!important` here to be able to override the default hidden behavior on the sphinx rendered scikit-learn.org. See: https://github.com/scikit-learn/scikit-learn/issues/21755 */display: inline-block !important;position: relative;}#sk-container-id-6 div.sk-text-repr-fallback {display: none;}</style><div id=\"sk-container-id-6\" class=\"sk-top-container\"><div class=\"sk-text-repr-fallback\"><pre>DecisionTreeRegressor()</pre><b>In a Jupyter environment, please rerun this cell to show the HTML representation or trust the notebook. <br />On GitHub, the HTML representation is unable to render, please try loading this page with nbviewer.org.</b></div><div class=\"sk-container\" hidden><div class=\"sk-item\"><div class=\"sk-estimator sk-toggleable\"><input class=\"sk-toggleable__control sk-hidden--visually\" id=\"sk-estimator-id-6\" type=\"checkbox\" checked><label for=\"sk-estimator-id-6\" class=\"sk-toggleable__label sk-toggleable__label-arrow\">DecisionTreeRegressor</label><div class=\"sk-toggleable__content\"><pre>DecisionTreeRegressor()</pre></div></div></div></div></div>"
      ],
      "text/plain": [
       "DecisionTreeRegressor()"
      ]
     },
     "execution_count": 28,
     "metadata": {},
     "output_type": "execute_result"
    }
   ],
   "source": [
    "reg_dt = DecisionTreeRegressor()\n",
    "reg_dt.fit(train_X.numpy(), train_Y.numpy())"
   ]
  },
  {
   "cell_type": "code",
   "execution_count": 31,
   "metadata": {},
   "outputs": [
    {
     "data": {
      "text/plain": [
       "<matplotlib.collections.PathCollection at 0x7f06a86ac6d0>"
      ]
     },
     "execution_count": 31,
     "metadata": {},
     "output_type": "execute_result"
    },
    {
     "data": {
      "image/png": "[encoded data removed]",
      "text/plain": [
       "<Figure size 432x288 with 1 Axes>"
      ]
     },
     "metadata": {
      "needs_background": "light"
     },
     "output_type": "display_data"
    }
   ],
   "source": [
    "plt.scatter(train_Y[:,70].numpy(), reg_dt.predict(train_X.numpy())[:,70])"
   ]
  },
  {
   "cell_type": "code",
   "execution_count": null,
   "metadata": {},
   "outputs": [],
   "source": [
    "# TODO: cross validation and hyperparameter tuning"
   ]
  },
  {
   "attachments": {},
   "cell_type": "markdown",
   "metadata": {},
   "source": [
    "## Construct an outcome function class that uses the surrogate model"
   ]
  },
  {
   "cell_type": "code",
   "execution_count": 32,
   "metadata": {},
   "outputs": [
    {
     "name": "stdout",
     "output_type": "stream",
     "text": [
      "/home/yz685/low_rank_BOPE/low_rank_BOPE/aux_software/spot_mini_mini/spotmicro/util/pybullet_data\n"
     ]
    },
    {
     "name": "stderr",
     "output_type": "stream",
     "text": [
      "pybullet build time: May 20 2022 19:45:31\n"
     ]
    }
   ],
   "source": [
    "from low_rank_BOPE.test_problems.robot.robot import SpotMiniMiniProblem, RobotUtil\n",
    "\n",
    "problem = SpotMiniMiniProblem()\n",
    "util_func = RobotUtil()"
   ]
  },
  {
   "cell_type": "code",
   "execution_count": 34,
   "metadata": {},
   "outputs": [],
   "source": [
    "from typing import Optional\n",
    "\n",
    "class SpotMiniMiniProblemSurrogate(SyntheticTestFunction):\n",
    "\n",
    "    param_names = [\"SwingPeriod\", \"StepVelocity\", \"ClearanceHeight\", \"roll\", \"pitch\"]\n",
    "    pi8 = np.pi / 8\n",
    "    original_bounds = torch.tensor(\n",
    "        [\n",
    "            [0.1, 0.001, 0, -pi8, -pi8],\n",
    "            [0.4, 3, 0.1, pi8, pi8],\n",
    "        ]\n",
    "    )\n",
    "    noise_std = 0.0\n",
    "\n",
    "    def __init__(\n",
    "        self, \n",
    "        model: object,\n",
    "        dim: int = 3,\n",
    "        max_timesteps: int = 50,\n",
    "        record_pos_every_n: int = 5,\n",
    "        noise_std: Optional[float] = None,\n",
    "        negate: bool = False,\n",
    "    ):\n",
    "\n",
    "        \"\"\"\n",
    "        Args:\n",
    "            model: a trained sklearn model, surrogate for the original robot trajectory simulator\n",
    "        \"\"\"\n",
    "\n",
    "        self.dim=dim\n",
    "        if dim > 5: \n",
    "            raise ValueError(\"dim should be <= 5!\")\n",
    "        self._bounds = [(0., 1.) for _ in range(dim)]\n",
    "        super().__init__(noise_std=noise_std, negate=negate)\n",
    "\n",
    "        self.max_timesteps = max_timesteps\n",
    "        self.record_pos_every_n = record_pos_every_n\n",
    "        self.outcome_dim = max_timesteps // record_pos_every_n * 3\n",
    "\n",
    "        self.surr_model = model\n",
    "    \n",
    "    def evaluate_true(self, X: Tensor) -> Tensor:\n",
    "\n",
    "        X_ = self._unstandardize_X(X, bounds = self.original_bounds[:, :self.dim].clone().detach())\n",
    "\n",
    "        return torch.tensor(self.surr_model.predict(X_.numpy()))\n",
    "    \n",
    "    \n",
    "    def _unstandardize_X(self, X, bounds):\n",
    "            \n",
    "        r\"\"\"\n",
    "        Unstandardize the input X in [0,1] to the original bounds.\n",
    "\n",
    "        Args:\n",
    "            X: `num_samples x dim` tensor of inputs\n",
    "            bounds: `2 x dim` tensor of bounds\n",
    "\n",
    "        Returns:\n",
    "            X: `num_samples x dim` tensor of unstandardized inputs\n",
    "        \"\"\"\n",
    "        return X * (bounds[1] - bounds[0]) + bounds[0]\n",
    "\n"
   ]
  },
  {
   "cell_type": "code",
   "execution_count": 35,
   "metadata": {},
   "outputs": [],
   "source": [
    "outcome_func = SpotMiniMiniProblemSurrogate(model=reg_dt, dim=3, max_timesteps=50, record_pos_every_n=1, noise_std=0.0, negate=False)"
   ]
  },
  {
   "cell_type": "code",
   "execution_count": 36,
   "metadata": {},
   "outputs": [
    {
     "data": {
      "text/plain": [
       "tensor([[-6.5725e-05, -8.1066e-05, -5.4261e-05,  ...,  1.9768e-01,\n",
       "          1.9694e-01,  1.9586e-01],\n",
       "        [-7.7914e-05, -1.0927e-04, -1.0210e-04,  ...,  2.0440e-01,\n",
       "          2.0457e-01,  2.0497e-01],\n",
       "        [-4.6706e-05, -5.4147e-05, -3.1083e-05,  ...,  1.9324e-01,\n",
       "          1.9270e-01,  1.9350e-01],\n",
       "        ...,\n",
       "        [-5.4230e-05, -6.5295e-05, -4.3106e-05,  ...,  1.9467e-01,\n",
       "          1.9502e-01,  1.9517e-01],\n",
       "        [-5.4061e-05, -7.0797e-05, -5.8541e-05,  ...,  1.9943e-01,\n",
       "          2.0043e-01,  2.0104e-01],\n",
       "        [-5.2513e-05, -6.6400e-05, -4.8088e-05,  ...,  1.9452e-01,\n",
       "          1.9359e-01,  1.9414e-01]], dtype=torch.float64)"
      ]
     },
     "execution_count": 36,
     "metadata": {},
     "output_type": "execute_result"
    }
   ],
   "source": [
    "outcome_func(train_X[:10])"
   ]
  },
  {
   "cell_type": "code",
   "execution_count": null,
   "metadata": {},
   "outputs": [],
   "source": []
  },
  {
   "attachments": {},
   "cell_type": "markdown",
   "metadata": {},
   "source": [
    "## Test that the surrogate-model based outcome function fits within the BOPE experiment framework"
   ]
  },
  {
   "cell_type": "code",
   "execution_count": 40,
   "metadata": {},
   "outputs": [],
   "source": [
    "from low_rank_BOPE.bope_class_retraining import RetrainingBopeExperiment\n",
    "\n",
    "problem = SpotMiniMiniProblemSurrogate(model=reg_dt, dim=3, max_timesteps=50, record_pos_every_n=1, noise_std=0.0, negate=False)\n",
    "\n",
    "util_func = RobotUtil()\n",
    "\n",
    "methods = [\n",
    "    # \"pca\", # unweighted PCA\n",
    "    \"pca_rt\",\n",
    "    # \"pca_norefit_rt\",\n",
    "    # \"pca_all_rt\", # unweighted PCA with retraining\n",
    "    # \"pca_eubo_rt\",\n",
    "    # \"pca_postmax_rt\",\n",
    "    # \"wpca_true_rt\", # PCA with true-util-value based rank weights\n",
    "    # \"wpca_est_rt\",\n",
    "    # \"spca_true_rt\",\n",
    "    # \"spca_est_rt\",\n",
    "    # \"st\", # indep GP\n",
    "    # \"random_linear_proj\",\n",
    "    # \"random_subset\",\n",
    "    # \"random_search\",\n",
    "    # \"pbo\"\n",
    "]\n",
    "\n",
    "exp = RetrainingBopeExperiment(\n",
    "    problem = problem,\n",
    "    util_func=util_func,\n",
    "    methods=methods,\n",
    "    # pe_strategies = [\"EUBO-zeta\"],\n",
    "    pe_strategies = {\n",
    "        \"pca_rt\": [\"EUBO-zeta\"], \n",
    "        # \"pbo\": [\"TS\", \"EUBO-zeta\"],\n",
    "        # \"random_search\": [\"EUBO-zeta\"]\n",
    "    },\n",
    "    trial_idx=324,\n",
    "    output_path=\"dummy\",\n",
    "    n_check_post_mean = 3,\n",
    "    every_n_comps = 2,\n",
    "    initial_experimentation_batch = 16,\n",
    "    pca_var_threshold = 0.9,\n",
    "    n_BO_iters = 1,\n",
    "    standardize = False, # don't standardize for shapes!\n",
    "    include_xp1_candidates = True, \n",
    "    BO_batch_size = 4,\n",
    "    n_meta_iters = 2, # test interactive\n",
    "    save_results=False\n",
    ")"
   ]
  },
  {
   "cell_type": "code",
   "execution_count": 41,
   "metadata": {},
   "outputs": [],
   "source": [
    "exp.generate_random_experiment_data(16)"
   ]
  },
  {
   "cell_type": "code",
   "execution_count": 42,
   "metadata": {},
   "outputs": [
    {
     "name": "stderr",
     "output_type": "stream",
     "text": [
      "/home/yz685/anaconda3/envs/bope_pca/lib/python3.9/site-packages/botorch/optim/optimize.py:369: RuntimeWarning: Optimization failed in `gen_candidates_scipy` with the following warning(s):\n",
      "[OptimizationWarning('Optimization failed within `scipy.optimize.minimize` with status 2 and message ABNORMAL_TERMINATION_IN_LNSRCH.')]\n",
      "Trying again with a new set of initial conditions.\n",
      "  warnings.warn(first_warn_msg, RuntimeWarning)\n",
      "/home/yz685/anaconda3/envs/bope_pca/lib/python3.9/site-packages/linear_operator/utils/cholesky.py:40: NumericalWarning: A not p.d., added jitter of 1.0e-06 to the diagonal\n",
      "  warnings.warn(\n",
      "/home/yz685/anaconda3/envs/bope_pca/lib/python3.9/site-packages/linear_operator/utils/cholesky.py:40: NumericalWarning: A not p.d., added jitter of 1.0e-06 to the diagonal\n",
      "  warnings.warn(\n",
      "/home/yz685/anaconda3/envs/bope_pca/lib/python3.9/site-packages/linear_operator/utils/cholesky.py:40: NumericalWarning: A not p.d., added jitter of 1.0e-06 to the diagonal\n",
      "  warnings.warn(\n",
      "/home/yz685/anaconda3/envs/bope_pca/lib/python3.9/site-packages/linear_operator/utils/cholesky.py:40: NumericalWarning: A not p.d., added jitter of 1.0e-06 to the diagonal\n",
      "  warnings.warn(\n",
      "/home/yz685/anaconda3/envs/bope_pca/lib/python3.9/site-packages/linear_operator/utils/cholesky.py:40: NumericalWarning: A not p.d., added jitter of 1.0e-06 to the diagonal\n",
      "  warnings.warn(\n",
      "/home/yz685/anaconda3/envs/bope_pca/lib/python3.9/site-packages/linear_operator/utils/cholesky.py:40: NumericalWarning: A not p.d., added jitter of 1.0e-06 to the diagonal\n",
      "  warnings.warn(\n",
      "/home/yz685/anaconda3/envs/bope_pca/lib/python3.9/site-packages/linear_operator/utils/cholesky.py:40: NumericalWarning: A not p.d., added jitter of 1.0e-06 to the diagonal\n",
      "  warnings.warn(\n",
      "/home/yz685/anaconda3/envs/bope_pca/lib/python3.9/site-packages/linear_operator/utils/cholesky.py:40: NumericalWarning: A not p.d., added jitter of 1.0e-06 to the diagonal\n",
      "  warnings.warn(\n",
      "/home/yz685/anaconda3/envs/bope_pca/lib/python3.9/site-packages/linear_operator/utils/cholesky.py:40: NumericalWarning: A not p.d., added jitter of 1.0e-06 to the diagonal\n",
      "  warnings.warn(\n",
      "/home/yz685/anaconda3/envs/bope_pca/lib/python3.9/site-packages/linear_operator/utils/cholesky.py:40: NumericalWarning: A not p.d., added jitter of 1.0e-06 to the diagonal\n",
      "  warnings.warn(\n",
      "/home/yz685/anaconda3/envs/bope_pca/lib/python3.9/site-packages/linear_operator/utils/cholesky.py:40: NumericalWarning: A not p.d., added jitter of 1.0e-06 to the diagonal\n",
      "  warnings.warn(\n",
      "/home/yz685/anaconda3/envs/bope_pca/lib/python3.9/site-packages/linear_operator/utils/cholesky.py:40: NumericalWarning: A not p.d., added jitter of 1.0e-06 to the diagonal\n",
      "  warnings.warn(\n",
      "/home/yz685/anaconda3/envs/bope_pca/lib/python3.9/site-packages/linear_operator/utils/cholesky.py:40: NumericalWarning: A not p.d., added jitter of 1.0e-06 to the diagonal\n",
      "  warnings.warn(\n",
      "/home/yz685/anaconda3/envs/bope_pca/lib/python3.9/site-packages/linear_operator/utils/cholesky.py:40: NumericalWarning: A not p.d., added jitter of 1.0e-06 to the diagonal\n",
      "  warnings.warn(\n",
      "/home/yz685/anaconda3/envs/bope_pca/lib/python3.9/site-packages/linear_operator/utils/cholesky.py:40: NumericalWarning: A not p.d., added jitter of 1.0e-06 to the diagonal\n",
      "  warnings.warn(\n",
      "/home/yz685/anaconda3/envs/bope_pca/lib/python3.9/site-packages/linear_operator/utils/cholesky.py:40: NumericalWarning: A not p.d., added jitter of 1.0e-06 to the diagonal\n",
      "  warnings.warn(\n",
      "/home/yz685/anaconda3/envs/bope_pca/lib/python3.9/site-packages/linear_operator/utils/cholesky.py:40: NumericalWarning: A not p.d., added jitter of 1.0e-06 to the diagonal\n",
      "  warnings.warn(\n",
      "/home/yz685/anaconda3/envs/bope_pca/lib/python3.9/site-packages/linear_operator/utils/cholesky.py:40: NumericalWarning: A not p.d., added jitter of 1.0e-06 to the diagonal\n",
      "  warnings.warn(\n",
      "/home/yz685/anaconda3/envs/bope_pca/lib/python3.9/site-packages/botorch/optim/optimize.py:369: RuntimeWarning: Optimization failed in `gen_candidates_scipy` with the following warning(s):\n",
      "[OptimizationWarning('Optimization failed within `scipy.optimize.minimize` with status 2 and message ABNORMAL_TERMINATION_IN_LNSRCH.')]\n",
      "Trying again with a new set of initial conditions.\n",
      "  warnings.warn(first_warn_msg, RuntimeWarning)\n",
      "/home/yz685/anaconda3/envs/bope_pca/lib/python3.9/site-packages/botorch/optim/optimize.py:369: RuntimeWarning: Optimization failed in `gen_candidates_scipy` with the following warning(s):\n",
      "[OptimizationWarning('Optimization failed within `scipy.optimize.minimize` with status 2 and message ABNORMAL_TERMINATION_IN_LNSRCH.')]\n",
      "Trying again with a new set of initial conditions.\n",
      "  warnings.warn(first_warn_msg, RuntimeWarning)\n"
     ]
    }
   ],
   "source": [
    "exp.run_BOPE_loop()"
   ]
  },
  {
   "cell_type": "code",
   "execution_count": null,
   "metadata": {},
   "outputs": [],
   "source": []
  }
 ],
 "metadata": {
  "kernelspec": {
   "display_name": "bope_pca",
   "language": "python",
   "name": "python3"
  },
  "language_info": {
   "codemirror_mode": {
    "name": "ipython",
    "version": 3
   },
   "file_extension": ".py",
   "mimetype": "text/x-python",
   "name": "python",
   "nbconvert_exporter": "python",
   "pygments_lexer": "ipython3",
   "version": "3.9.0"
  },
  "orig_nbformat": 4
 },
 "nbformat": 4,
 "nbformat_minor": 2
}
