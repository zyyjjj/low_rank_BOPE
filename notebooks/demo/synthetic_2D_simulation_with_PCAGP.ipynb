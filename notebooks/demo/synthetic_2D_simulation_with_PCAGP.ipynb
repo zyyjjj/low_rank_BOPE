{
  "cells": [
    {
      "cell_type": "code",
      "execution_count": 418,
      "metadata": {
        "code_folding": [],
        "collapsed": false,
        "customOutput": null,
        "executionStartTime": 1673017165515,
        "executionStopTime": 1673017169427,
        "hidden_ranges": [],
        "originalKey": "ed006d17-14ef-41a2-9b4f-6163953a6ec9",
        "requestMsgId": "c593f2fe-2fb2-4595-9412-d4a68b8971a6",
        "trusted": true
      },
      "outputs": [
        {
          "name": "stdout",
          "output_type": "stream",
          "text": [
            "The autoreload extension is already loaded. To reload it, use:\n",
            "  %reload_ext autoreload\n"
          ]
        }
      ],
      "source": [
        "%load_ext autoreload\n",
        "%autoreload 2\n",
        "\n",
        "import os, sys\n",
        "# file_dir = os.path.dirname(__file__)\n",
        "# sys.path.append(file_dir)\n",
        "sys.path.append('/home/yz685/low_rank_BOPE')\n",
        "sys.path.append('/home/yz685/low_rank_BOPE/low_rank_BOPE')\n",
        "import warnings\n",
        "import math\n",
        "import matplotlib.pyplot as plt\n",
        "import numpy as np\n",
        "import scipy.linalg\n",
        "import torch\n",
        "from torch import Tensor\n",
        "\n",
        "from test_problems.synthetic_problem import generate_principal_axes, PCATestProblem\n",
        "from src.transforms import (\n",
        "    generate_random_projection,\n",
        "    InputCenter,\n",
        "    LinearProjectionInputTransform,\n",
        "    LinearProjectionOutcomeTransform,\n",
        "    PCAInputTransform,\n",
        "    PCAOutcomeTransform,\n",
        "    SubsetOutcomeTransform,\n",
        ")\n",
        "from src.pref_learning_helpers import gen_initial_real_data, fit_pref_model\n",
        "from src.diagnostics import check_util_model_fit\n",
        "from src.models import make_modified_kernel\n",
        "\n",
        "# import botorch, gpytorch functions\n",
        "from botorch import fit_gpytorch_model, fit_gpytorch_mll\n",
        "from botorch.optim.fit import fit_gpytorch_scipy\n",
        "from botorch.optim.utils import _filter_kwargs\n",
        "from botorch.utils.sampling import draw_sobol_samples\n",
        "from botorch.models import SingleTaskGP\n",
        "from botorch.models.transforms.outcome import ChainedOutcomeTransform, Standardize\n",
        "from botorch.models.transforms.input import (\n",
        "    ChainedInputTransform,\n",
        "    FilterFeatures,\n",
        "    Normalize,\n",
        ")\n",
        "\n",
        "from gpytorch.kernels import MaternKernel\n",
        "from gpytorch.mlls import ExactMarginalLogLikelihood\n",
        "from gpytorch.likelihoods import GaussianLikelihood\n",
        "from gpytorch.priors import GammaPrior\n",
        "\n",
        "warnings.filterwarnings(\"ignore\")\n"
      ]
    },
    {
      "cell_type": "markdown",
      "metadata": {
        "code_folding": [],
        "customInput": null,
        "hidden_ranges": [],
        "originalKey": "c2748393-d4ea-4830-94f2-145dc2fb0c14",
        "showInput": false
      },
      "source": [
        "# Overview\n",
        "\n",
        "In this notebook, we generate synthetic metric data and test two modeling approaches, namely\n",
        "\n",
        "- [baseline] fit a single-task GP to each metric\n",
        "- [proposed] perform PCA on the metric data, and fit single-task GPs to the principal components (PCs)\n",
        "\n",
        "## TL;DR: \n",
        "We use a toy example to show that using all the principal axes (same number as output space dimension) achieves a better model fit than fitting independent single-task GPs.\n",
        "\n",
        "(Next steps would be to increase the dimensionality and use fewer principal axes.)\n",
        "\n",
        "As a toy example, we work with a one-dimensional input space [0, 1] and two-dimensional output space (i.e., metric space). We fix two ground-truth principal axes and generate scalar PC values from two single-task GPs with different lengthscales, so that the first principal axis is more dominant."
      ]
    },
    {
      "cell_type": "code",
      "execution_count": 4,
      "metadata": {},
      "outputs": [],
      "source": [
        "tkwargs = {\n",
        "    \"dtype\": torch.double,\n",
        "    \"device\": torch.device(\"cuda\" if torch.cuda.is_available() else \"cpu\"),\n",
        "}"
      ]
    },
    {
      "cell_type": "code",
      "execution_count": 28,
      "metadata": {
        "code_folding": [],
        "collapsed": false,
        "customInput": null,
        "customOutput": null,
        "executionStartTime": 1673017563765,
        "executionStopTime": 1673017563980,
        "hidden_ranges": [],
        "originalKey": "48248faf-f3e3-457b-9813-4b748fc7e936",
        "requestMsgId": "192f40a9-5c22-4d81-b363-a1b4f4e54c95",
        "showInput": true
      },
      "outputs": [],
      "source": [
        "config = {\n",
        "    \"input_dim\": 1,\n",
        "    \"outcome_dim\": 2,\n",
        "    \"latent_dim\": 2,\n",
        "    \"PC_noise_level\": 0,\n",
        "    \"noise_std\": 0.2,\n",
        "    \"num_initial_samples\": 20,\n",
        "    \"num_sample_points\": 30,\n",
        "    \"jitter\": 0.00001,  # noqa\n",
        "    \"ground_truth_principal_axes\": torch.Tensor([[0.707, 0.707], [-0.707, 0.707]]),\n",
        "    \"PC_lengthscales\": [0.1, 0.5],\n",
        "    \"PC_scaling_factors\": [2, 1],\n",
        "    \"variance_explained_threshold\": 0.99,\n",
        "}\n",
        "\n",
        "torch.manual_seed(1234)\n",
        "\n",
        "full_axes = generate_principal_axes(\n",
        "    output_dim=config[\"outcome_dim\"], num_axes=config[\"outcome_dim\"], **tkwargs\n",
        ")\n",
        "\n",
        "ground_truth_principal_axes = full_axes[: config[\"latent_dim\"]]\n",
        "initial_X = torch.randn((config[\"num_initial_samples\"], config[\"input_dim\"]), **tkwargs)\n",
        "\n",
        "obj_indices = list(range(config[\"outcome_dim\"]))\n",
        "cons_indices = []\n",
        "\n",
        "problem = PCATestProblem(\n",
        "    opt_config=(obj_indices, cons_indices),\n",
        "    initial_X=initial_X,\n",
        "    bounds=torch.Tensor([[0, 1]] * config[\"input_dim\"]),\n",
        "    ground_truth_principal_axes=ground_truth_principal_axes,\n",
        "    noise_std=config[\"noise_std\"],\n",
        "    PC_lengthscales=Tensor(config[\"PC_lengthscales\"]),\n",
        "    PC_scaling_factors=Tensor(config[\"PC_scaling_factors\"]),\n",
        "    dtype=torch.double,\n",
        ")"
      ]
    },
    {
      "cell_type": "code",
      "execution_count": 30,
      "metadata": {
        "collapsed": false,
        "customInput": null,
        "customOutput": null,
        "executionStartTime": 1673017567181,
        "executionStopTime": 1673017567193,
        "originalKey": "a0891acf-61cd-45f5-90c5-6b502b0b8f20",
        "requestMsgId": "2cb873d7-c336-4ab6-b41a-4c3e0758e58f",
        "showInput": true
      },
      "outputs": [],
      "source": [
        "torch.manual_seed(123)\n",
        "\n",
        "train_X = (\n",
        "    draw_sobol_samples(bounds=problem.bounds, n=1, q=20)\n",
        "    .squeeze(0)\n",
        "    .to(torch.double)\n",
        ")\n",
        "\n",
        "train_Y = problem.eval_metrics_noisy(train_X).detach()\n",
        "train_Y = train_Y - torch.mean(train_Y, dim = 0)"
      ]
    },
    {
      "cell_type": "code",
      "execution_count": 31,
      "metadata": {
        "collapsed": false,
        "customInput": null,
        "customOutput": null,
        "executionStartTime": 1673017567691,
        "executionStopTime": 1673017568067,
        "originalKey": "76cb9c50-b7c9-4337-ba39-228ec1d9c9ea",
        "requestMsgId": "496d9ae6-1cfd-4129-a768-268d8ac227d4",
        "showInput": true
      },
      "outputs": [
        {
          "data": {
            "text/plain": [
              "ExactMarginalLogLikelihood(\n",
              "  (likelihood): GaussianLikelihood(\n",
              "    (noise_covar): HomoskedasticNoise(\n",
              "      (noise_prior): GammaPrior()\n",
              "      (raw_noise_constraint): GreaterThan(1.000E-04)\n",
              "    )\n",
              "  )\n",
              "  (model): SingleTaskGP(\n",
              "    (likelihood): GaussianLikelihood(\n",
              "      (noise_covar): HomoskedasticNoise(\n",
              "        (noise_prior): GammaPrior()\n",
              "        (raw_noise_constraint): GreaterThan(1.000E-04)\n",
              "      )\n",
              "    )\n",
              "    (mean_module): ConstantMean()\n",
              "    (covar_module): MaternKernel(\n",
              "      (lengthscale_prior): GammaPrior()\n",
              "      (raw_lengthscale_constraint): Positive()\n",
              "    )\n",
              "  )\n",
              ")"
            ]
          },
          "execution_count": 31,
          "metadata": {},
          "output_type": "execute_result"
        }
      ],
      "source": [
        "st_model = SingleTaskGP(\n",
        "    train_X,\n",
        "    train_Y,\n",
        "    covar_module = MaternKernel(lengthscale_prior = GammaPrior(3,6))\n",
        ")\n",
        "st_mll = ExactMarginalLogLikelihood(st_model.likelihood, st_model)\n",
        "fit_gpytorch_model(st_mll)"
      ]
    },
    {
      "cell_type": "code",
      "execution_count": 32,
      "metadata": {
        "collapsed": false,
        "customInput": null,
        "customOutput": null,
        "executionStartTime": 1673017568506,
        "executionStopTime": 1673017568730,
        "originalKey": "e8c74474-e682-4fc2-86a7-751fdb03ef43",
        "requestMsgId": "3d669a37-69b5-475d-8a1f-83df7c891534",
        "showInput": true
      },
      "outputs": [
        {
          "name": "stderr",
          "output_type": "stream",
          "text": [
            "/home/yz685/low_rank_BOPE/low_rank_BOPE/src/transforms.py:84: UserWarning: To copy construct from a tensor, it is recommended to use sourceTensor.clone().detach() or sourceTensor.clone().detach().requires_grad_(True), rather than torch.tensor(sourceTensor).\n",
            "  self.axes_learned = torch.tensor(axes_learned, **tkwargs)\n"
          ]
        },
        {
          "data": {
            "text/plain": [
              "ExactMarginalLogLikelihood(\n",
              "  (likelihood): GaussianLikelihood(\n",
              "    (noise_covar): HomoskedasticNoise(\n",
              "      (noise_prior): GammaPrior()\n",
              "      (raw_noise_constraint): GreaterThan(1.000E-04)\n",
              "    )\n",
              "  )\n",
              "  (model): SingleTaskGP(\n",
              "    (likelihood): GaussianLikelihood(\n",
              "      (noise_covar): HomoskedasticNoise(\n",
              "        (noise_prior): GammaPrior()\n",
              "        (raw_noise_constraint): GreaterThan(1.000E-04)\n",
              "      )\n",
              "    )\n",
              "    (mean_module): ConstantMean()\n",
              "    (covar_module): ScaleKernel(\n",
              "      (base_kernel): MaternKernel(\n",
              "        (lengthscale_prior): GammaPrior()\n",
              "        (raw_lengthscale_constraint): Positive()\n",
              "      )\n",
              "      (outputscale_prior): GammaPrior()\n",
              "      (raw_outputscale_constraint): Positive()\n",
              "    )\n",
              "    (outcome_transform): ChainedOutcomeTransform(\n",
              "      (standardize): Standardize()\n",
              "      (pca): PCAOutcomeTransform()\n",
              "    )\n",
              "  )\n",
              ")"
            ]
          },
          "execution_count": 32,
          "metadata": {},
          "output_type": "execute_result"
        }
      ],
      "source": [
        "options = {\"maxiter\": 1000}\n",
        "\n",
        "pca_model = SingleTaskGP(\n",
        "    train_X,\n",
        "    train_Y,\n",
        "    outcome_transform=ChainedOutcomeTransform(\n",
        "        **{\n",
        "            \"standardize\": Standardize(2, min_stdv=10),\n",
        "            \"pca\": PCAOutcomeTransform(num_axes=1),\n",
        "        }\n",
        "    ),\n",
        "    likelihood=GaussianLikelihood(noise_prior=GammaPrior(0.9, 10)),\n",
        ")\n",
        "pca_mll = ExactMarginalLogLikelihood(pca_model.likelihood, pca_model)\n",
        "\n",
        "# train PCA model and log training stats\n",
        "# fit_gpytorch_scipy(pca_mll, options=options)\n",
        "fit_gpytorch_model(pca_mll)"
      ]
    },
    {
      "cell_type": "code",
      "execution_count": 33,
      "metadata": {
        "collapsed": false,
        "customInput": null,
        "customOutput": null,
        "executionStartTime": 1673017569373,
        "executionStopTime": 1673017569472,
        "originalKey": "86b9106b-6a7c-40cc-9654-37ecaa1dcaa5",
        "requestMsgId": "6cc30a46-0d37-4d56-aba0-0c8126335bc0",
        "showInput": true
      },
      "outputs": [
        {
          "data": {
            "text/plain": [
              "tensor([[-0.6400, -0.7684]], dtype=torch.float64)"
            ]
          },
          "execution_count": 33,
          "metadata": {},
          "output_type": "execute_result"
        }
      ],
      "source": [
        "axes_learned_tensor = pca_model.outcome_transform['pca'].axes_learned\n",
        "# axes_learned_tensor = pca_model.outcome_transform.axes_learned\n",
        "axes_learned_tensor"
      ]
    },
    {
      "cell_type": "code",
      "execution_count": 34,
      "metadata": {
        "collapsed": false,
        "customInput": null,
        "customOutput": null,
        "executionStartTime": 1673017570140,
        "executionStopTime": 1673017570159,
        "originalKey": "34fa794c-5107-41a1-8630-9002784fa3fd",
        "requestMsgId": "1520a717-662c-40a7-be9c-608c2884afa6",
        "showInput": true
      },
      "outputs": [],
      "source": [
        "axes_learned = axes_learned_tensor.detach().numpy()"
      ]
    },
    {
      "cell_type": "code",
      "execution_count": 35,
      "metadata": {
        "collapsed": false,
        "customInput": null,
        "executionStartTime": 1673017570613,
        "executionStopTime": 1673017570640,
        "originalKey": "922bb16e-17cd-486d-a12c-3aa18a9ea82f",
        "requestMsgId": "0d2005c2-66ab-448f-bd0a-968a60ea8b57",
        "showInput": true
      },
      "outputs": [
        {
          "data": {
            "text/plain": [
              "{'training': False,\n",
              " '_parameters': OrderedDict(),\n",
              " '_buffers': OrderedDict(),\n",
              " '_non_persistent_buffers_set': set(),\n",
              " '_backward_hooks': OrderedDict(),\n",
              " '_is_full_backward_hook': None,\n",
              " '_forward_hooks': OrderedDict(),\n",
              " '_forward_pre_hooks': OrderedDict(),\n",
              " '_state_dict_hooks': OrderedDict(),\n",
              " '_load_state_dict_pre_hooks': OrderedDict(),\n",
              " '_load_state_dict_post_hooks': OrderedDict(),\n",
              " '_modules': OrderedDict(),\n",
              " 'variance_explained_threshold': 0.9,\n",
              " 'num_axes': 1,\n",
              " 'PCA_explained_variance': tensor(0.9659, dtype=torch.float64),\n",
              " 'axes_learned': tensor([[-0.6400, -0.7684]], dtype=torch.float64)}"
            ]
          },
          "execution_count": 35,
          "metadata": {},
          "output_type": "execute_result"
        }
      ],
      "source": [
        "pca_model.outcome_transform[\"pca\"].__dict__"
      ]
    },
    {
      "cell_type": "code",
      "execution_count": 36,
      "metadata": {
        "collapsed": false,
        "customInput": null,
        "executionStartTime": 1673017571573,
        "executionStopTime": 1673017571852,
        "originalKey": "40bf5736-b91b-43fb-8d79-4fb3c5d9f7e6",
        "requestMsgId": "a1b18084-f001-42ca-a56a-21d7f8ccd06d",
        "showInput": true
      },
      "outputs": [
        {
          "data": {
            "image/png": "[encoded data removed]",
            "text/plain": [
              "<Figure size 432x288 with 1 Axes>"
            ]
          },
          "metadata": {
            "needs_background": "light"
          },
          "output_type": "display_data"
        }
      ],
      "source": [
        "# plot the observed metric data, the ground truth principal axes, and the learned principal axes\n",
        "\n",
        "plt.scatter(train_Y.numpy()[:, 0], train_Y.numpy()[:, 1])\n",
        "plt.title(\"Observed data\")\n",
        "plt.xlabel(\"Metric 0\")\n",
        "plt.ylabel(\"Metric 1\")\n",
        "plt.xlim([-2.5, 2.5])\n",
        "plt.ylim([-2.5, 2.5])\n",
        "plt.gca().set_aspect(\"equal\")\n",
        "\n",
        "plt.savefig('WPnote_2Dproblem_PCAplot_noaxis.png')"
      ]
    },
    {
      "cell_type": "code",
      "execution_count": 37,
      "metadata": {
        "code_folding": [],
        "collapsed": false,
        "customInput": null,
        "customOutput": null,
        "executionStartTime": 1673017573160,
        "executionStopTime": 1673017573452,
        "hidden_ranges": [],
        "originalKey": "433c7347-0c08-45fd-9cae-3545eccc6318",
        "requestMsgId": "ef3d1b06-d8fe-47b4-9c45-95e9f8d39046",
        "showInput": true
      },
      "outputs": [
        {
          "data": {
            "image/png": "[encoded data removed]",
            "text/plain": [
              "<Figure size 432x288 with 1 Axes>"
            ]
          },
          "metadata": {
            "needs_background": "light"
          },
          "output_type": "display_data"
        }
      ],
      "source": [
        "# plot the observed metric data, the ground truth principal axes, and the learned principal axes\n",
        "\n",
        "plt.scatter(train_Y.numpy()[:, 0], train_Y.numpy()[:, 1])\n",
        "plt.title(\"Performing PCA on data\")\n",
        "plt.xlabel(\"Metric 0\")\n",
        "plt.ylabel(\"Metric 1\")\n",
        "plt.xlim([-2.5, 2.5])\n",
        "plt.ylim([-2.5, 2.5])\n",
        "plt.gca().set_aspect(\"equal\")\n",
        "\n",
        "# axes = kwargs[\"ground_truth_principal_axes\"]\n",
        "\n",
        "# true_axis_0 = plt.arrow(x=0, y=0, dx=2 * axes_learned[0, 0], dy=2 * axes[0, 1], width=0.1, color=\"blue\")\n",
        "# true_axis_1 = plt.arrow(x=0, y=0, dx=axes[1, 0] / 5, dy=axes[1, 1] / 5, width=0.02, color=\"blue\")\n",
        "\n",
        "learned_axis_0 = plt.arrow(x=0, y=0, dx=2 * axes_learned[0, 0], dy=2 * axes_learned[0, 1], width=0.1, color=\"orange\")\n",
        "\n",
        "# plt.legend([true_axis_0, learned_axis_0], [\"true axis\", \"learned axis\"])\n",
        "# plt.savefig(\"2Dexample.png\", dpi=1200, bbox_inches='tight')\n",
        "\n",
        "plt.savefig('WPnote_2Dproblem_PCAplot.png')"
      ]
    },
    {
      "cell_type": "code",
      "execution_count": 38,
      "metadata": {
        "collapsed": false,
        "customInput": null,
        "customOutput": null,
        "executionStartTime": 1673017574716,
        "executionStopTime": 1673017574758,
        "originalKey": "35c248d2-bf36-4bfb-b725-a34ca0055b53",
        "requestMsgId": "5c621188-333b-4783-8fc6-edded39a52b9",
        "showInput": true
      },
      "outputs": [],
      "source": [
        "PC_learned = torch.matmul(train_Y, torch.transpose(axes_learned_tensor, 0, 1))"
      ]
    },
    {
      "cell_type": "code",
      "execution_count": 39,
      "metadata": {
        "collapsed": false,
        "customInput": null,
        "customOutput": null,
        "executionStartTime": 1673017574963,
        "executionStopTime": 1673017575324,
        "originalKey": "b5179e83-e99b-4278-8918-47e3c7fca079",
        "requestMsgId": "f86b2e1c-1fed-4048-a66c-c7d3ea758e71",
        "showInput": true
      },
      "outputs": [
        {
          "data": {
            "text/plain": [
              "ExactMarginalLogLikelihood(\n",
              "  (likelihood): GaussianLikelihood(\n",
              "    (noise_covar): HomoskedasticNoise(\n",
              "      (noise_prior): GammaPrior()\n",
              "      (raw_noise_constraint): GreaterThan(1.000E-04)\n",
              "    )\n",
              "  )\n",
              "  (model): SingleTaskGP(\n",
              "    (likelihood): GaussianLikelihood(\n",
              "      (noise_covar): HomoskedasticNoise(\n",
              "        (noise_prior): GammaPrior()\n",
              "        (raw_noise_constraint): GreaterThan(1.000E-04)\n",
              "      )\n",
              "    )\n",
              "    (mean_module): ConstantMean()\n",
              "    (covar_module): ScaleKernel(\n",
              "      (base_kernel): MaternKernel(\n",
              "        (lengthscale_prior): GammaPrior()\n",
              "        (raw_lengthscale_constraint): Positive()\n",
              "      )\n",
              "      (outputscale_prior): GammaPrior()\n",
              "      (raw_outputscale_constraint): Positive()\n",
              "    )\n",
              "  )\n",
              ")"
            ]
          },
          "execution_count": 39,
          "metadata": {},
          "output_type": "execute_result"
        }
      ],
      "source": [
        "model_pc = SingleTaskGP(\n",
        "    train_X, PC_learned,\n",
        "    # covar_module = MaternKernel(lengthscale_prior = GammaPrior(3,6))\n",
        "    )\n",
        "pc_mll = ExactMarginalLogLikelihood(pca_model.likelihood, model_pc)\n",
        "\n",
        "fit_gpytorch_model(pc_mll)"
      ]
    },
    {
      "cell_type": "code",
      "execution_count": 40,
      "metadata": {
        "collapsed": false,
        "customInput": null,
        "executionStartTime": 1673017576135,
        "executionStopTime": 1673017577091,
        "originalKey": "4b7c3c8f-46e3-43f1-a1f9-7d8f3f06007e",
        "requestMsgId": "531d861f-daf3-4586-8708-70eb34ff6437",
        "showInput": true
      },
      "outputs": [
        {
          "name": "stdout",
          "output_type": "stream",
          "text": [
            "torch.Size([101]) torch.Size([101])\n"
          ]
        },
        {
          "data": {
            "image/png": "[encoded data removed]",
            "text/plain": [
              "<Figure size 432x288 with 1 Axes>"
            ]
          },
          "metadata": {
            "needs_background": "light"
          },
          "output_type": "display_data"
        }
      ],
      "source": [
        "plt.plot(\n",
        "    train_X.detach().numpy(), PC_learned.detach().numpy()[:, 0], \"k*\", label=\"observed\"\n",
        ")\n",
        "\n",
        "plt.tight_layout()\n",
        "plt.title(\"PC along learned axis\")\n",
        "\n",
        "num_test_points = 101\n",
        "test_X = torch.linspace(0, 1, num_test_points).unsqueeze(1).to(**tkwargs)\n",
        "test_PC_posterior_mean = model_pc.posterior(test_X).mean.squeeze(1)\n",
        "test_PC_posterior_var = model_pc.posterior(test_X).variance.squeeze(1)\n",
        "print(test_PC_posterior_mean.shape, test_PC_posterior_var.shape)\n",
        "lower = test_PC_posterior_mean - 1.96 * torch.sqrt(test_PC_posterior_var)\n",
        "upper = test_PC_posterior_mean + 1.96 * torch.sqrt(test_PC_posterior_var)\n",
        "\n",
        "plt.fill_between(\n",
        "    test_X.squeeze(1),\n",
        "    lower.detach().numpy(),\n",
        "    upper.detach().numpy(),\n",
        "    alpha=0.5,\n",
        "    label=\"posterior uncertainty\",\n",
        ")\n",
        "\n",
        "plt.plot(test_X, test_PC_posterior_mean.detach().numpy(), label=\"posterior mean\")\n",
        "\n",
        "plt.legend(fontsize=12.5)\n",
        "\n",
        "plt.savefig('WPnote_2Dproblem_GPonPC.png', bbox_inches='tight')"
      ]
    },
    {
      "cell_type": "code",
      "execution_count": 54,
      "metadata": {
        "collapsed": false,
        "customInput": null,
        "customOutput": null,
        "executionStartTime": 1673017616192,
        "executionStopTime": 1673017616211,
        "originalKey": "286d2c88-0717-4286-be1a-e8d8c0dbdb12",
        "requestMsgId": "613fbf8a-3d41-4694-8ecb-e3deca5e0c43",
        "showInput": true
      },
      "outputs": [],
      "source": [
        "def plotting_helper(num_test_points, models_dict, outcome_idxs):\n",
        "\n",
        "    f, axs = plt.subplots(1, len(outcome_idxs), figsize = (12,4))\n",
        "\n",
        "    test_X = torch.linspace(0, 1, num_test_points).unsqueeze(1).to(**tkwargs)\n",
        "\n",
        "    test_Y = problem.eval_metrics_true(test_X).detach()\n",
        "\n",
        "    # test_Y = problem.evaluate_true(test_X).detach()[:, outcome_idx]\n",
        "    # plt.scatter(test_X, test_Y)\n",
        "\n",
        "    for outcome_idx in outcome_idxs:\n",
        "\n",
        "        axs[outcome_idx].plot(train_X, train_Y[:, outcome_idx].detach().numpy(), 'k*', label = 'observed')\n",
        "\n",
        "        for model_name, model in models_dict.items():\n",
        "\n",
        "            test_Y_posterior_mean = model.posterior(test_X).mean[:, outcome_idx]\n",
        "            test_Y_posterior_var = model.posterior(test_X).variance[:, outcome_idx]\n",
        "            lower = test_Y_posterior_mean - 1.96 * torch.sqrt(test_Y_posterior_var)\n",
        "            upper = test_Y_posterior_mean + 1.96 * torch.sqrt(test_Y_posterior_var)\n",
        "\n",
        "            axs[outcome_idx].fill_between(\n",
        "                test_X.squeeze(1),\n",
        "                lower.detach().numpy(),\n",
        "                upper.detach().numpy(),\n",
        "                alpha=0.5,\n",
        "                label = model_name + ' posterior uncertainty'\n",
        "            )\n",
        "\n",
        "            axs[outcome_idx].set_title(f\"{model_name} fitted outcome {outcome_idx}\")\n",
        "\n",
        "            axs[outcome_idx].plot(test_X, test_Y_posterior_mean.detach().numpy(), label = model_name + ' posterior mean')\n",
        "\n",
        "            print(model_name, 'outcome', outcome_idx, 'RMSE', torch.sqrt(torch.mean(torch.square(test_Y_posterior_mean - test_Y[:,outcome_idx]))).item())\n",
        "\n",
        "            axs[outcome_idx].legend(fontsize = 12.5)"
      ]
    },
    {
      "cell_type": "code",
      "execution_count": 55,
      "metadata": {},
      "outputs": [
        {
          "name": "stdout",
          "output_type": "stream",
          "text": [
            "PCA outcome 0 RMSE 1.276985429538041\n",
            "Indep outcome 0 RMSE 1.1402821112574273\n",
            "PCA outcome 1 RMSE 1.4581521452190997\n",
            "Indep outcome 1 RMSE 1.4772723801865295\n"
          ]
        },
        {
          "data": {
            "image/png": "[encoded data removed]",
            "text/plain": [
              "<Figure size 864x288 with 2 Axes>"
            ]
          },
          "metadata": {
            "needs_background": "light"
          },
          "output_type": "display_data"
        }
      ],
      "source": [
        "plotting_helper(101, {\"PCA\": pca_model, \"Indep\": st_model}, [0,1])"
      ]
    },
    {
      "cell_type": "code",
      "execution_count": 343,
      "metadata": {
        "collapsed": false,
        "customInput": null,
        "executionStartTime": 1671684233037,
        "executionStopTime": 1671684233076,
        "originalKey": "ae240952-248e-4255-94db-4ce75365cdf7",
        "requestMsgId": "ae240952-248e-4255-94db-4ce75365cdf7",
        "showInput": true
      },
      "outputs": [],
      "source": [
        "# next: "
      ]
    },
    {
      "cell_type": "markdown",
      "metadata": {},
      "source": [
        "# Try outcome dimensionality = 100, rank = 1"
      ]
    },
    {
      "cell_type": "code",
      "execution_count": null,
      "metadata": {
        "customInput": null,
        "originalKey": "06db482b-7811-4d0c-bcbc-ba2d8c2b3c95",
        "showInput": true
      },
      "outputs": [],
      "source": []
    },
    {
      "cell_type": "code",
      "execution_count": 378,
      "metadata": {
        "code_folding": [],
        "collapsed": false,
        "customInput": null,
        "customOutput": null,
        "executionStopTime": 1654062966426,
        "hidden_ranges": [],
        "originalKey": "61a998be-17b2-430a-bb83-f540b1c4ae41",
        "requestMsgId": "61a998be-17b2-430a-bb83-f540b1c4ae41",
        "showInput": true
      },
      "outputs": [
        {
          "name": "stderr",
          "output_type": "stream",
          "text": [
            "/home/yz685/anaconda3/envs/bope_pca/lib/python3.9/site-packages/botorch/test_functions/base.py:39: UserWarning: To copy construct from a tensor, it is recommended to use sourceTensor.clone().detach() or sourceTensor.clone().detach().requires_grad_(True), rather than torch.tensor(sourceTensor).\n",
            "  \"bounds\", torch.tensor(self._bounds, dtype=torch.float).transpose(-1, -2)\n"
          ]
        }
      ],
      "source": [
        "config = {\n",
        "    \"input_dim\": 1,\n",
        "    \"outcome_dim\": 100,\n",
        "    \"latent_dim\": 1,\n",
        "    \"PC_noise_level\": 0,\n",
        "    \"noise_std\": 0.1,\n",
        "    \"num_initial_samples\": 20,\n",
        "    \"num_sample_points\": 30,\n",
        "    \"jitter\": 0.00001,  # noqa\n",
        "    \"ground_truth_principal_axes\": torch.Tensor([1]*100),\n",
        "    \"PC_lengthscales\": [0.1],\n",
        "    \"PC_scaling_factors\": [2],\n",
        "    \"variance_explained_threshold\": 0.99,\n",
        "}\n",
        "\n",
        "torch.manual_seed(1234)\n",
        "\n",
        "ground_truth_principal_axes = config['ground_truth_principal_axes'].unsqueeze(0)\n",
        "\n",
        "initial_X = torch.randn((config[\"num_initial_samples\"], config[\"input_dim\"]), **tkwargs)\n",
        "\n",
        "obj_indices = list(range(config[\"outcome_dim\"]))\n",
        "cons_indices = []\n",
        "\n",
        "problem = PCATestProblem(\n",
        "    opt_config=(obj_indices, cons_indices),\n",
        "    initial_X=initial_X,\n",
        "    bounds=torch.Tensor([[0, 1]] * config[\"input_dim\"]),\n",
        "    ground_truth_principal_axes=ground_truth_principal_axes,\n",
        "    noise_std=config[\"noise_std\"],\n",
        "    PC_lengthscales=Tensor(config[\"PC_lengthscales\"]),\n",
        "    PC_scaling_factors=Tensor(config[\"PC_scaling_factors\"]),\n",
        "    dtype=torch.double,\n",
        ")"
      ]
    },
    {
      "cell_type": "code",
      "execution_count": 174,
      "metadata": {},
      "outputs": [],
      "source": [
        "class LinearUtil(torch.nn.Module):\n",
        "    def __init__(self, beta: torch.Tensor):\n",
        "        \"\"\"\n",
        "        Args:\n",
        "            beta: size `output_dim` tensor\n",
        "        \"\"\"\n",
        "        super().__init__()\n",
        "        self.register_buffer(\"beta\", beta)\n",
        "\n",
        "    def calc_raw_util_per_dim(self, Y):\n",
        "        return Y * self.beta.to(Y)\n",
        "\n",
        "    def forward(self, Y, X=None):\n",
        "        return Y @ self.beta.to(Y)\n",
        "\n",
        "class SumOfSquaresUtil(torch.nn.Module):\n",
        "    def __init__(self, beta: torch.Tensor):\n",
        "        \"\"\"\n",
        "        Args:\n",
        "            beta: size `output_dim` tensor\n",
        "        \"\"\"\n",
        "        super().__init__()\n",
        "        self.register_buffer(\"beta\", beta)\n",
        "\n",
        "    def calc_raw_util_per_dim(self, Y):\n",
        "        return torch.square(Y) * self.beta.to(Y)\n",
        "\n",
        "    def forward(self, Y, X=None):\n",
        "        return torch.square(Y) @ self.beta.to(Y)"
      ]
    },
    {
      "cell_type": "code",
      "execution_count": 400,
      "metadata": {},
      "outputs": [],
      "source": [
        "torch.manual_seed(123)\n",
        "\n",
        "beta = torch.tensor([1]*config[\"outcome_dim\"], **tkwargs)\n",
        "util_func = LinearUtil(beta=beta)\n",
        "\n",
        "train_X, train_Y, util_vals, comps = gen_initial_real_data(n=400, problem=problem, util_func=util_func)\n",
        "\n",
        "# train_Y = train_Y - torch.mean(train_Y, dim = 0)"
      ]
    },
    {
      "cell_type": "code",
      "execution_count": null,
      "metadata": {},
      "outputs": [],
      "source": []
    },
    {
      "cell_type": "code",
      "execution_count": 389,
      "metadata": {},
      "outputs": [
        {
          "data": {
            "text/plain": [
              "(torch.Size([200, 1]), torch.Size([200, 100]))"
            ]
          },
          "execution_count": 389,
          "metadata": {},
          "output_type": "execute_result"
        }
      ],
      "source": [
        "train_X.shape, train_Y.shape"
      ]
    },
    {
      "cell_type": "code",
      "execution_count": 401,
      "metadata": {},
      "outputs": [
        {
          "data": {
            "text/plain": [
              "ExactMarginalLogLikelihood(\n",
              "  (likelihood): GaussianLikelihood(\n",
              "    (noise_covar): HomoskedasticNoise(\n",
              "      (noise_prior): GammaPrior()\n",
              "      (raw_noise_constraint): GreaterThan(1.000E-04)\n",
              "    )\n",
              "  )\n",
              "  (model): SingleTaskGP(\n",
              "    (likelihood): GaussianLikelihood(\n",
              "      (noise_covar): HomoskedasticNoise(\n",
              "        (noise_prior): GammaPrior()\n",
              "        (raw_noise_constraint): GreaterThan(1.000E-04)\n",
              "      )\n",
              "    )\n",
              "    (mean_module): ConstantMean()\n",
              "    (covar_module): MaternKernel(\n",
              "      (lengthscale_prior): GammaPrior()\n",
              "      (raw_lengthscale_constraint): Positive()\n",
              "    )\n",
              "  )\n",
              ")"
            ]
          },
          "execution_count": 401,
          "metadata": {},
          "output_type": "execute_result"
        }
      ],
      "source": [
        "st_model = SingleTaskGP(\n",
        "    train_X,\n",
        "    train_Y,\n",
        "    covar_module = MaternKernel(lengthscale_prior = GammaPrior(3,6))\n",
        ")\n",
        "st_mll = ExactMarginalLogLikelihood(st_model.likelihood, st_model)\n",
        "fit_gpytorch_model(st_mll)"
      ]
    },
    {
      "cell_type": "code",
      "execution_count": 402,
      "metadata": {},
      "outputs": [
        {
          "name": "stderr",
          "output_type": "stream",
          "text": [
            "/home/yz685/low_rank_BOPE/low_rank_BOPE/src/transforms.py:84: UserWarning: To copy construct from a tensor, it is recommended to use sourceTensor.clone().detach() or sourceTensor.clone().detach().requires_grad_(True), rather than torch.tensor(sourceTensor).\n",
            "  self.axes_learned = torch.tensor(axes_learned, **tkwargs)\n"
          ]
        },
        {
          "name": "stdout",
          "output_type": "stream",
          "text": [
            "tensor([[0.1004, 0.0999, 0.0998, 0.0999, 0.1003, 0.1006, 0.0994, 0.0999, 0.1002,\n",
            "         0.0994, 0.1002, 0.0998, 0.1000, 0.0996, 0.1001, 0.1003, 0.1002, 0.1001,\n",
            "         0.1005, 0.0997, 0.0999, 0.1002, 0.0996, 0.1000, 0.0999, 0.1000, 0.0997,\n",
            "         0.0998, 0.1007, 0.0997, 0.1004, 0.0998, 0.0996, 0.0994, 0.1002, 0.1004,\n",
            "         0.0999, 0.0994, 0.0996, 0.1000, 0.0999, 0.1003, 0.1000, 0.1000, 0.1003,\n",
            "         0.1004, 0.1000, 0.0999, 0.1000, 0.0998, 0.1000, 0.1000, 0.1000, 0.1000,\n",
            "         0.1003, 0.0997, 0.0995, 0.0997, 0.1003, 0.0997, 0.1003, 0.1003, 0.1002,\n",
            "         0.0997, 0.0998, 0.0996, 0.1004, 0.1002, 0.0997, 0.1001, 0.1005, 0.0997,\n",
            "         0.1003, 0.1002, 0.1000, 0.1005, 0.1001, 0.0998, 0.1005, 0.1001, 0.0998,\n",
            "         0.1003, 0.1003, 0.1000, 0.0999, 0.1002, 0.0999, 0.0998, 0.1002, 0.1001,\n",
            "         0.0993, 0.1000, 0.0999, 0.0998, 0.0999, 0.1001, 0.0997, 0.1003, 0.1001,\n",
            "         0.0995]], dtype=torch.float64)\n"
          ]
        }
      ],
      "source": [
        "options = {\"maxiter\": 1000}\n",
        "\n",
        "pca_model = SingleTaskGP(\n",
        "    train_X,\n",
        "    train_Y,\n",
        "    outcome_transform=ChainedOutcomeTransform(\n",
        "        **{\n",
        "            \"standardize\": Standardize(config[\"outcome_dim\"], min_stdv=100),\n",
        "            \"pca\": PCAOutcomeTransform(num_axes=1),\n",
        "        }\n",
        "    ),\n",
        "    likelihood=GaussianLikelihood(noise_prior=GammaPrior(0.9, 10)),\n",
        ")\n",
        "pca_mll = ExactMarginalLogLikelihood(pca_model.likelihood, pca_model)\n",
        "\n",
        "# train PCA model and log training stats\n",
        "# fit_gpytorch_scipy(pca_mll, options=options)\n",
        "fit_gpytorch_model(pca_mll)\n",
        "\n",
        "print(pca_model.outcome_transform['pca'].axes_learned)"
      ]
    },
    {
      "cell_type": "code",
      "execution_count": 403,
      "metadata": {},
      "outputs": [],
      "source": [
        "def helper(num_test_points, models_dict, outcome_idxs):\n",
        "\n",
        "    test_X = torch.linspace(0, 1, num_test_points).unsqueeze(1).to(**tkwargs)\n",
        "    test_Y = problem.eval_metrics_true(test_X).detach()\n",
        "\n",
        "    for outcome_idx in outcome_idxs:\n",
        "\n",
        "        for model_name, model in models_dict.items():\n",
        "\n",
        "            test_Y_posterior_mean = model.posterior(test_X).mean[:, outcome_idx]\n",
        "           \n",
        "            print(model_name, 'outcome', outcome_idx, 'RMSE', torch.sqrt(torch.mean(torch.square(test_Y_posterior_mean - test_Y[:,outcome_idx]))).item())\n",
        "\n"
      ]
    },
    {
      "cell_type": "code",
      "execution_count": 404,
      "metadata": {},
      "outputs": [
        {
          "name": "stdout",
          "output_type": "stream",
          "text": [
            "PCA outcome 0 RMSE 0.008200884253910034\n",
            "Indep outcome 0 RMSE 0.02727356707211266\n",
            "PCA outcome 1 RMSE 0.004601200683056062\n",
            "Indep outcome 1 RMSE 0.032524029869679234\n",
            "PCA outcome 2 RMSE 0.00804417389306083\n",
            "Indep outcome 2 RMSE 0.02730499678053859\n",
            "PCA outcome 3 RMSE 0.004627929602129128\n",
            "Indep outcome 3 RMSE 0.029218666175246405\n",
            "PCA outcome 4 RMSE 0.006825502214449847\n",
            "Indep outcome 4 RMSE 0.03586032176823077\n",
            "PCA outcome 5 RMSE 0.011118594940917506\n",
            "Indep outcome 5 RMSE 0.024080033162356018\n",
            "PCA outcome 6 RMSE 0.013591836111516247\n",
            "Indep outcome 6 RMSE 0.03410550885710688\n",
            "PCA outcome 7 RMSE 0.007814374488643598\n",
            "Indep outcome 7 RMSE 0.03339640597236642\n",
            "PCA outcome 8 RMSE 0.005694089651069442\n",
            "Indep outcome 8 RMSE 0.029611091609090073\n",
            "PCA outcome 9 RMSE 0.011287635066612912\n",
            "Indep outcome 9 RMSE 0.027949055749865837\n"
          ]
        }
      ],
      "source": [
        "helper(101, {\"PCA\": pca_model, \"Indep\": st_model}, [0,1,2,3,4,5,6,7,8,9])"
      ]
    },
    {
      "cell_type": "code",
      "execution_count": 405,
      "metadata": {},
      "outputs": [
        {
          "name": "stderr",
          "output_type": "stream",
          "text": [
            "/home/yz685/anaconda3/envs/bope_pca/lib/python3.9/site-packages/linear_operator/utils/cholesky.py:40: NumericalWarning: A not p.d., added jitter of 1.0e-06 to the diagonal\n",
            "  warnings.warn(\n",
            "/home/yz685/anaconda3/envs/bope_pca/lib/python3.9/site-packages/linear_operator/utils/cholesky.py:40: NumericalWarning: A not p.d., added jitter of 1.0e-06 to the diagonal\n",
            "  warnings.warn(\n",
            "/home/yz685/anaconda3/envs/bope_pca/lib/python3.9/site-packages/linear_operator/utils/cholesky.py:40: NumericalWarning: A not p.d., added jitter of 1.0e-06 to the diagonal\n",
            "  warnings.warn(\n",
            "/home/yz685/anaconda3/envs/bope_pca/lib/python3.9/site-packages/linear_operator/utils/cholesky.py:40: NumericalWarning: A not p.d., added jitter of 1.0e-06 to the diagonal\n",
            "  warnings.warn(\n",
            "/home/yz685/anaconda3/envs/bope_pca/lib/python3.9/site-packages/linear_operator/utils/cholesky.py:40: NumericalWarning: A not p.d., added jitter of 1.0e-06 to the diagonal\n",
            "  warnings.warn(\n",
            "/home/yz685/anaconda3/envs/bope_pca/lib/python3.9/site-packages/linear_operator/utils/cholesky.py:40: NumericalWarning: A not p.d., added jitter of 1.0e-06 to the diagonal\n",
            "  warnings.warn(\n",
            "/home/yz685/anaconda3/envs/bope_pca/lib/python3.9/site-packages/linear_operator/utils/cholesky.py:40: NumericalWarning: A not p.d., added jitter of 1.0e-06 to the diagonal\n",
            "  warnings.warn(\n",
            "/home/yz685/anaconda3/envs/bope_pca/lib/python3.9/site-packages/linear_operator/utils/cholesky.py:40: NumericalWarning: A not p.d., added jitter of 1.0e-06 to the diagonal\n",
            "  warnings.warn(\n",
            "/home/yz685/anaconda3/envs/bope_pca/lib/python3.9/site-packages/linear_operator/utils/cholesky.py:40: NumericalWarning: A not p.d., added jitter of 1.0e-06 to the diagonal\n",
            "  warnings.warn(\n",
            "/home/yz685/anaconda3/envs/bope_pca/lib/python3.9/site-packages/linear_operator/utils/cholesky.py:40: NumericalWarning: A not p.d., added jitter of 1.0e-06 to the diagonal\n",
            "  warnings.warn(\n",
            "/home/yz685/anaconda3/envs/bope_pca/lib/python3.9/site-packages/linear_operator/utils/cholesky.py:40: NumericalWarning: A not p.d., added jitter of 1.0e-06 to the diagonal\n",
            "  warnings.warn(\n",
            "/home/yz685/anaconda3/envs/bope_pca/lib/python3.9/site-packages/linear_operator/utils/cholesky.py:40: NumericalWarning: A not p.d., added jitter of 1.0e-06 to the diagonal\n",
            "  warnings.warn(\n",
            "/home/yz685/anaconda3/envs/bope_pca/lib/python3.9/site-packages/linear_operator/utils/cholesky.py:40: NumericalWarning: A not p.d., added jitter of 1.0e-06 to the diagonal\n",
            "  warnings.warn(\n",
            "/home/yz685/anaconda3/envs/bope_pca/lib/python3.9/site-packages/linear_operator/utils/cholesky.py:40: NumericalWarning: A not p.d., added jitter of 1.0e-06 to the diagonal\n",
            "  warnings.warn(\n",
            "/home/yz685/anaconda3/envs/bope_pca/lib/python3.9/site-packages/linear_operator/utils/cholesky.py:40: NumericalWarning: A not p.d., added jitter of 1.0e-06 to the diagonal\n",
            "  warnings.warn(\n",
            "/home/yz685/anaconda3/envs/bope_pca/lib/python3.9/site-packages/linear_operator/utils/cholesky.py:40: NumericalWarning: A not p.d., added jitter of 1.0e-06 to the diagonal\n",
            "  warnings.warn(\n",
            "/home/yz685/anaconda3/envs/bope_pca/lib/python3.9/site-packages/linear_operator/utils/cholesky.py:40: NumericalWarning: A not p.d., added jitter of 1.0e-06 to the diagonal\n",
            "  warnings.warn(\n",
            "/home/yz685/anaconda3/envs/bope_pca/lib/python3.9/site-packages/linear_operator/utils/cholesky.py:40: NumericalWarning: A not p.d., added jitter of 1.0e-06 to the diagonal\n",
            "  warnings.warn(\n",
            "/home/yz685/anaconda3/envs/bope_pca/lib/python3.9/site-packages/linear_operator/utils/cholesky.py:40: NumericalWarning: A not p.d., added jitter of 1.0e-06 to the diagonal\n",
            "  warnings.warn(\n",
            "/home/yz685/anaconda3/envs/bope_pca/lib/python3.9/site-packages/linear_operator/utils/cholesky.py:40: NumericalWarning: A not p.d., added jitter of 1.0e-06 to the diagonal\n",
            "  warnings.warn(\n",
            "/home/yz685/anaconda3/envs/bope_pca/lib/python3.9/site-packages/linear_operator/utils/cholesky.py:40: NumericalWarning: A not p.d., added jitter of 1.0e-06 to the diagonal\n",
            "  warnings.warn(\n",
            "/home/yz685/anaconda3/envs/bope_pca/lib/python3.9/site-packages/linear_operator/utils/cholesky.py:40: NumericalWarning: A not p.d., added jitter of 1.0e-06 to the diagonal\n",
            "  warnings.warn(\n",
            "/home/yz685/anaconda3/envs/bope_pca/lib/python3.9/site-packages/linear_operator/utils/cholesky.py:40: NumericalWarning: A not p.d., added jitter of 1.0e-06 to the diagonal\n",
            "  warnings.warn(\n",
            "/home/yz685/anaconda3/envs/bope_pca/lib/python3.9/site-packages/linear_operator/utils/cholesky.py:40: NumericalWarning: A not p.d., added jitter of 1.0e-06 to the diagonal\n",
            "  warnings.warn(\n",
            "/home/yz685/anaconda3/envs/bope_pca/lib/python3.9/site-packages/linear_operator/utils/cholesky.py:40: NumericalWarning: A not p.d., added jitter of 1.0e-06 to the diagonal\n",
            "  warnings.warn(\n",
            "/home/yz685/anaconda3/envs/bope_pca/lib/python3.9/site-packages/linear_operator/utils/cholesky.py:40: NumericalWarning: A not p.d., added jitter of 1.0e-06 to the diagonal\n",
            "  warnings.warn(\n",
            "/home/yz685/anaconda3/envs/bope_pca/lib/python3.9/site-packages/linear_operator/utils/cholesky.py:40: NumericalWarning: A not p.d., added jitter of 1.0e-06 to the diagonal\n",
            "  warnings.warn(\n",
            "/home/yz685/anaconda3/envs/bope_pca/lib/python3.9/site-packages/linear_operator/utils/cholesky.py:40: NumericalWarning: A not p.d., added jitter of 1.0e-06 to the diagonal\n",
            "  warnings.warn(\n",
            "/home/yz685/anaconda3/envs/bope_pca/lib/python3.9/site-packages/linear_operator/utils/cholesky.py:40: NumericalWarning: A not p.d., added jitter of 1.0e-06 to the diagonal\n",
            "  warnings.warn(\n",
            "/home/yz685/anaconda3/envs/bope_pca/lib/python3.9/site-packages/linear_operator/utils/cholesky.py:40: NumericalWarning: A not p.d., added jitter of 1.0e-06 to the diagonal\n",
            "  warnings.warn(\n",
            "/home/yz685/anaconda3/envs/bope_pca/lib/python3.9/site-packages/linear_operator/utils/cholesky.py:40: NumericalWarning: A not p.d., added jitter of 1.0e-06 to the diagonal\n",
            "  warnings.warn(\n",
            "/home/yz685/anaconda3/envs/bope_pca/lib/python3.9/site-packages/linear_operator/utils/cholesky.py:40: NumericalWarning: A not p.d., added jitter of 1.0e-06 to the diagonal\n",
            "  warnings.warn(\n"
          ]
        },
        {
          "data": {
            "text/plain": [
              "ExactMarginalLogLikelihood(\n",
              "  (likelihood): GaussianLikelihood(\n",
              "    (noise_covar): HomoskedasticNoise(\n",
              "      (noise_prior): GammaPrior()\n",
              "      (raw_noise_constraint): GreaterThan(1.000E-04)\n",
              "    )\n",
              "  )\n",
              "  (model): SingleTaskGP(\n",
              "    (likelihood): GaussianLikelihood(\n",
              "      (noise_covar): HomoskedasticNoise(\n",
              "        (noise_prior): GammaPrior()\n",
              "        (raw_noise_constraint): GreaterThan(1.000E-04)\n",
              "      )\n",
              "    )\n",
              "    (mean_module): ConstantMean()\n",
              "    (covar_module): ScaleKernel(\n",
              "      (base_kernel): RBFKernel(\n",
              "        (lengthscale_prior): GammaPrior()\n",
              "        (raw_lengthscale_constraint): GreaterThan(1.000E-04)\n",
              "      )\n",
              "      (outputscale_prior): SmoothedBoxPrior()\n",
              "      (raw_outputscale_constraint): Interval(2.000E-01, 5.000E+00)\n",
              "    )\n",
              "    (input_transform): ChainedInputTransform(\n",
              "      (center): InputCenter()\n",
              "      (pca): PCAInputTransform()\n",
              "    )\n",
              "  )\n",
              ")"
            ]
          },
          "execution_count": 405,
          "metadata": {},
          "output_type": "execute_result"
        }
      ],
      "source": [
        "pca_util_model = fit_pref_model(\n",
        "    train_Y, \n",
        "    comps, \n",
        "    input_transform=ChainedInputTransform(\n",
        "                    **{\n",
        "                        \"center\": InputCenter(config[\"outcome_dim\"]),\n",
        "                        \"pca\": PCAInputTransform(pca_model.outcome_transform['pca'].axes_learned),\n",
        "                    }\n",
        "                ),\n",
        "    covar_module = make_modified_kernel(ard_num_dims = 1)\n",
        ")\n",
        "\n",
        "pca_util_model_oracle = SingleTaskGP(\n",
        "    train_Y, \n",
        "    util_vals.unsqueeze(1), \n",
        "    input_transform=ChainedInputTransform(\n",
        "                    **{\n",
        "                        \"center\": InputCenter(config[\"outcome_dim\"]),\n",
        "                        \"pca\": PCAInputTransform(pca_model.outcome_transform['pca'].axes_learned),\n",
        "                    }\n",
        "                ),\n",
        "    covar_module = make_modified_kernel(ard_num_dims = 1)\n",
        ")\n",
        "\n",
        "mll = ExactMarginalLogLikelihood(pca_util_model_oracle.likelihood, pca_util_model_oracle)\n",
        "fit_gpytorch_model(mll)"
      ]
    },
    {
      "cell_type": "code",
      "execution_count": 406,
      "metadata": {},
      "outputs": [
        {
          "name": "stderr",
          "output_type": "stream",
          "text": [
            "/home/yz685/anaconda3/envs/bope_pca/lib/python3.9/site-packages/linear_operator/utils/cholesky.py:40: NumericalWarning: A not p.d., added jitter of 1.0e-06 to the diagonal\n",
            "  warnings.warn(\n",
            "/home/yz685/anaconda3/envs/bope_pca/lib/python3.9/site-packages/linear_operator/utils/cholesky.py:40: NumericalWarning: A not p.d., added jitter of 1.0e-06 to the diagonal\n",
            "  warnings.warn(\n",
            "/home/yz685/anaconda3/envs/bope_pca/lib/python3.9/site-packages/linear_operator/utils/cholesky.py:40: NumericalWarning: A not p.d., added jitter of 1.0e-06 to the diagonal\n",
            "  warnings.warn(\n",
            "/home/yz685/anaconda3/envs/bope_pca/lib/python3.9/site-packages/linear_operator/utils/cholesky.py:40: NumericalWarning: A not p.d., added jitter of 1.0e-06 to the diagonal\n",
            "  warnings.warn(\n"
          ]
        },
        {
          "data": {
            "text/plain": [
              "ExactMarginalLogLikelihood(\n",
              "  (likelihood): GaussianLikelihood(\n",
              "    (noise_covar): HomoskedasticNoise(\n",
              "      (noise_prior): GammaPrior()\n",
              "      (raw_noise_constraint): GreaterThan(1.000E-04)\n",
              "    )\n",
              "  )\n",
              "  (model): SingleTaskGP(\n",
              "    (likelihood): GaussianLikelihood(\n",
              "      (noise_covar): HomoskedasticNoise(\n",
              "        (noise_prior): GammaPrior()\n",
              "        (raw_noise_constraint): GreaterThan(1.000E-04)\n",
              "      )\n",
              "    )\n",
              "    (mean_module): ConstantMean()\n",
              "    (covar_module): ScaleKernel(\n",
              "      (base_kernel): RBFKernel(\n",
              "        (lengthscale_prior): GammaPrior()\n",
              "        (raw_lengthscale_constraint): GreaterThan(1.000E-04)\n",
              "      )\n",
              "      (outputscale_prior): SmoothedBoxPrior()\n",
              "      (raw_outputscale_constraint): Interval(2.000E-01, 5.000E+00)\n",
              "    )\n",
              "  )\n",
              ")"
            ]
          },
          "execution_count": 406,
          "metadata": {},
          "output_type": "execute_result"
        }
      ],
      "source": [
        "st_util_model = fit_pref_model(\n",
        "    train_Y, \n",
        "    comps, \n",
        "    # input_transform=Normalize(config[\"outcome_dim\"]),\n",
        "    covar_module = make_modified_kernel(ard_num_dims = 100)\n",
        ")\n",
        "\n",
        "st_util_model_oracle = SingleTaskGP(\n",
        "    train_Y, \n",
        "    util_vals.unsqueeze(1), \n",
        "    covar_module = make_modified_kernel(ard_num_dims = 100)\n",
        ")\n",
        "\n",
        "mll = ExactMarginalLogLikelihood(st_util_model_oracle.likelihood, st_util_model_oracle)\n",
        "fit_gpytorch_model(mll)"
      ]
    },
    {
      "cell_type": "code",
      "execution_count": 407,
      "metadata": {},
      "outputs": [
        {
          "name": "stderr",
          "output_type": "stream",
          "text": [
            "/home/yz685/anaconda3/envs/bope_pca/lib/python3.9/site-packages/linear_operator/utils/cholesky.py:40: NumericalWarning: A not p.d., added jitter of 1.0e-06 to the diagonal\n",
            "  warnings.warn(\n"
          ]
        },
        {
          "name": "stdout",
          "output_type": "stream",
          "text": [
            "pca util accuracy:  0.9980000257492065\n",
            "pca oracle util accuracy:  0.9300000071525574\n"
          ]
        }
      ],
      "source": [
        "torch.manual_seed(0)\n",
        "test_util_vals_pca, pred_util_vals_pca, util_acc_pca = check_util_model_fit(\n",
        "    pref_model = pca_util_model,\n",
        "    problem=problem,\n",
        "    util_func=util_func,\n",
        "    n_test=1000,\n",
        "    batch_eval=True,\n",
        "    return_util_vals = True\n",
        ")\n",
        "print('pca util accuracy: ', util_acc_pca)\n",
        "\n",
        "test_util_vals_pca_oracle, pred_util_vals_pca_oracle, util_acc_pca_oracle = check_util_model_fit(\n",
        "    pref_model = pca_util_model_oracle,\n",
        "    problem=problem,\n",
        "    util_func=util_func,\n",
        "    n_test=1000,\n",
        "    batch_eval=True,\n",
        "    return_util_vals = True\n",
        ")\n",
        "print('pca oracle util accuracy: ', util_acc_pca_oracle)"
      ]
    },
    {
      "cell_type": "code",
      "execution_count": 408,
      "metadata": {},
      "outputs": [
        {
          "name": "stdout",
          "output_type": "stream",
          "text": [
            "ST util accuracy:  0.9300000071525574\n",
            "st oracle util accuracy:  0.8960000276565552\n"
          ]
        }
      ],
      "source": [
        "torch.manual_seed(0)\n",
        "test_util_vals_st, pred_util_vals_st, util_acc_st = check_util_model_fit(\n",
        "    pref_model = st_util_model,\n",
        "    problem=problem,\n",
        "    util_func=util_func,\n",
        "    n_test=1000,\n",
        "    batch_eval=True,\n",
        "    return_util_vals = True\n",
        ")\n",
        "print('ST util accuracy: ', util_acc_st)\n",
        "\n",
        "test_util_vals_st_oracle, pred_util_vals_st_oracle, util_acc_st_oracle = check_util_model_fit(\n",
        "    pref_model = st_util_model_oracle,\n",
        "    problem=problem,\n",
        "    util_func=util_func,\n",
        "    n_test=1000,\n",
        "    batch_eval=True,\n",
        "    return_util_vals = True\n",
        ")\n",
        "print('st oracle util accuracy: ', util_acc_st_oracle)"
      ]
    },
    {
      "cell_type": "code",
      "execution_count": 398,
      "metadata": {},
      "outputs": [
        {
          "data": {
            "text/plain": [
              "(array([205.,  80., 126., 141., 138.,  83.,  60.,  34.,  44.,  89.]),\n",
              " array([-141.55967544,  -76.80656582,  -12.05345621,   52.6996534 ,\n",
              "         117.45276301,  182.20587262,  246.95898223,  311.71209184,\n",
              "         376.46520145,  441.21831106,  505.97142067]),\n",
              " <BarContainer object of 10 artists>)"
            ]
          },
          "execution_count": 398,
          "metadata": {},
          "output_type": "execute_result"
        },
        {
          "data": {
            "image/png": "[encoded data removed]",
            "text/plain": [
              "<Figure size 432x288 with 1 Axes>"
            ]
          },
          "metadata": {
            "needs_background": "light"
          },
          "output_type": "display_data"
        }
      ],
      "source": [
        "plt.hist(test_util_vals_st.detach().numpy())"
      ]
    },
    {
      "cell_type": "code",
      "execution_count": 353,
      "metadata": {},
      "outputs": [
        {
          "data": {
            "text/plain": [
              "Text(0.5, 1.0, 'difference in true test utility values')"
            ]
          },
          "execution_count": 353,
          "metadata": {},
          "output_type": "execute_result"
        },
        {
          "data": {
            "image/png": "[encoded data removed]",
            "text/plain": [
              "<Figure size 432x288 with 1 Axes>"
            ]
          },
          "metadata": {
            "needs_background": "light"
          },
          "output_type": "display_data"
        }
      ],
      "source": [
        "# can confirm that the test points are the same for PCA and ST \n",
        "plt.hist((test_util_vals_st - test_util_vals_pca).detach().numpy())\n",
        "plt.title('difference in true test utility values')"
      ]
    },
    {
      "cell_type": "code",
      "execution_count": 354,
      "metadata": {},
      "outputs": [
        {
          "data": {
            "text/plain": [
              "Text(0.5, 1.0, 'difference in predicted test utility values')"
            ]
          },
          "execution_count": 354,
          "metadata": {},
          "output_type": "execute_result"
        },
        {
          "data": {
            "image/png": "[encoded data removed]",
            "text/plain": [
              "<Figure size 432x288 with 1 Axes>"
            ]
          },
          "metadata": {
            "needs_background": "light"
          },
          "output_type": "display_data"
        }
      ],
      "source": [
        "plt.hist((pred_util_vals_st - pred_util_vals_pca).detach().numpy())\n",
        "plt.title('difference in predicted test utility values')"
      ]
    },
    {
      "cell_type": "code",
      "execution_count": 409,
      "metadata": {},
      "outputs": [
        {
          "name": "stdout",
          "output_type": "stream",
          "text": [
            "mean difference in relative error of utility prediction -0.0004703336967288416\n",
            "SD of difference in relative error of utility prediction 0.6295576221525078\n"
          ]
        },
        {
          "data": {
            "text/plain": [
              "Text(0.5, 1.0, 'difference in relative error of predicted test utility values')"
            ]
          },
          "execution_count": 409,
          "metadata": {},
          "output_type": "execute_result"
        },
        {
          "data": {
            "image/png": "[encoded data removed]",
            "text/plain": [
              "<Figure size 432x288 with 1 Axes>"
            ]
          },
          "metadata": {
            "needs_background": "light"
          },
          "output_type": "display_data"
        }
      ],
      "source": [
        "print(\n",
        "    'mean difference in relative error of utility prediction', \n",
        "    torch.mean((pred_util_vals_st_oracle - pred_util_vals_pca_oracle)/test_util_vals_st).item()\n",
        ")\n",
        "\n",
        "print(\n",
        "    'SD of difference in relative error of utility prediction', \n",
        "    torch.std((pred_util_vals_st_oracle - pred_util_vals_pca_oracle)/test_util_vals_st).item()\n",
        ")\n",
        "\n",
        "plt.hist(((pred_util_vals_st_oracle - pred_util_vals_pca_oracle)/test_util_vals_st).detach().numpy())\n",
        "plt.title('difference in relative error of predicted test utility values')"
      ]
    },
    {
      "cell_type": "code",
      "execution_count": null,
      "metadata": {},
      "outputs": [],
      "source": [
        "# Next TODO:\n",
        "\n",
        "# look at nonlinear utility\n",
        "# math derivation"
      ]
    },
    {
      "cell_type": "markdown",
      "metadata": {},
      "source": [
        "# Try outcome dimensionality = 20, rank = 1"
      ]
    },
    {
      "cell_type": "code",
      "execution_count": 438,
      "metadata": {},
      "outputs": [],
      "source": [
        "config = {\n",
        "    \"input_dim\": 1,\n",
        "    \"outcome_dim\": 20,\n",
        "    \"latent_dim\": 1,\n",
        "    \"PC_noise_level\": 0,\n",
        "    \"noise_std\": 0.1,\n",
        "    \"num_initial_samples\": 20,\n",
        "    \"num_sample_points\": 30,\n",
        "    \"jitter\": 0.00001,  # noqa\n",
        "    \"ground_truth_principal_axes\": torch.Tensor([1]*20),\n",
        "    \"PC_lengthscales\": [0.1],\n",
        "    \"PC_scaling_factors\": [2],\n",
        "    \"variance_explained_threshold\": 0.99,\n",
        "}\n",
        "\n",
        "torch.manual_seed(1234)\n",
        "\n",
        "ground_truth_principal_axes = config['ground_truth_principal_axes'].unsqueeze(0)\n",
        "\n",
        "initial_X = torch.randn((config[\"num_initial_samples\"], config[\"input_dim\"]), **tkwargs)\n",
        "\n",
        "obj_indices = list(range(config[\"outcome_dim\"]))\n",
        "cons_indices = []\n",
        "\n",
        "problem = PCATestProblem(\n",
        "    opt_config=(obj_indices, cons_indices),\n",
        "    initial_X=initial_X,\n",
        "    bounds=torch.Tensor([[0, 1]] * config[\"input_dim\"]),\n",
        "    ground_truth_principal_axes=ground_truth_principal_axes,\n",
        "    noise_std=config[\"noise_std\"],\n",
        "    PC_lengthscales=Tensor(config[\"PC_lengthscales\"]),\n",
        "    PC_scaling_factors=Tensor(config[\"PC_scaling_factors\"]),\n",
        "    dtype=torch.double,\n",
        ")\n",
        "\n",
        "use_modified_kernel = False"
      ]
    },
    {
      "cell_type": "code",
      "execution_count": 439,
      "metadata": {},
      "outputs": [],
      "source": [
        "torch.manual_seed(123)\n",
        "\n",
        "beta = torch.tensor([1]*config[\"outcome_dim\"], **tkwargs)\n",
        "util_func = LinearUtil(beta=beta)\n",
        "\n",
        "train_X, train_Y, util_vals, comps = gen_initial_real_data(n=100, problem=problem, util_func=util_func)\n"
      ]
    },
    {
      "cell_type": "code",
      "execution_count": 440,
      "metadata": {},
      "outputs": [
        {
          "data": {
            "text/plain": [
              "(torch.Size([100, 20]), torch.Size([100]), torch.Size([50, 2]))"
            ]
          },
          "execution_count": 440,
          "metadata": {},
          "output_type": "execute_result"
        }
      ],
      "source": [
        "train_Y.shape, util_vals.shape, comps.shape"
      ]
    },
    {
      "cell_type": "code",
      "execution_count": 441,
      "metadata": {},
      "outputs": [
        {
          "data": {
            "text/plain": [
              "ExactMarginalLogLikelihood(\n",
              "  (likelihood): GaussianLikelihood(\n",
              "    (noise_covar): HomoskedasticNoise(\n",
              "      (noise_prior): GammaPrior()\n",
              "      (raw_noise_constraint): GreaterThan(1.000E-04)\n",
              "    )\n",
              "  )\n",
              "  (model): SingleTaskGP(\n",
              "    (likelihood): GaussianLikelihood(\n",
              "      (noise_covar): HomoskedasticNoise(\n",
              "        (noise_prior): GammaPrior()\n",
              "        (raw_noise_constraint): GreaterThan(1.000E-04)\n",
              "      )\n",
              "    )\n",
              "    (mean_module): ConstantMean()\n",
              "    (covar_module): MaternKernel(\n",
              "      (lengthscale_prior): GammaPrior()\n",
              "      (raw_lengthscale_constraint): Positive()\n",
              "    )\n",
              "  )\n",
              ")"
            ]
          },
          "execution_count": 441,
          "metadata": {},
          "output_type": "execute_result"
        }
      ],
      "source": [
        "st_model_low = SingleTaskGP(\n",
        "    train_X,\n",
        "    train_Y,\n",
        "    covar_module = MaternKernel(lengthscale_prior = GammaPrior(3,6))\n",
        ")\n",
        "st_mll_low = ExactMarginalLogLikelihood(st_model_low.likelihood, st_model_low)\n",
        "fit_gpytorch_mll(st_mll_low)"
      ]
    },
    {
      "cell_type": "code",
      "execution_count": 442,
      "metadata": {},
      "outputs": [
        {
          "name": "stdout",
          "output_type": "stream",
          "text": [
            "tensor([[0.2239, 0.2215, 0.2233, 0.2244, 0.2242, 0.2232, 0.2233, 0.2231, 0.2243,\n",
            "         0.2244, 0.2222, 0.2231, 0.2247, 0.2244, 0.2236, 0.2227, 0.2239, 0.2237,\n",
            "         0.2233, 0.2247]], dtype=torch.float64)\n"
          ]
        }
      ],
      "source": [
        "options = {\"maxiter\": 1000}\n",
        "\n",
        "pca_model_low = SingleTaskGP(\n",
        "    train_X,\n",
        "    train_Y,\n",
        "    outcome_transform=ChainedOutcomeTransform(\n",
        "        **{\n",
        "            \"standardize\": Standardize(config[\"outcome_dim\"], min_stdv=100),\n",
        "            \"pca\": PCAOutcomeTransform(num_axes=1),\n",
        "        }\n",
        "    ),\n",
        "    likelihood=GaussianLikelihood(noise_prior=GammaPrior(0.9, 10)),\n",
        ")\n",
        "pca_mll_low = ExactMarginalLogLikelihood(pca_model_low.likelihood, pca_model_low)\n",
        "\n",
        "# train PCA model and log training stats\n",
        "# fit_gpytorch_scipy(pca_mll, options=options)\n",
        "fit_gpytorch_mll(pca_mll_low)\n",
        "\n",
        "print(pca_model_low.outcome_transform['pca'].axes_learned)"
      ]
    },
    {
      "cell_type": "code",
      "execution_count": 443,
      "metadata": {},
      "outputs": [
        {
          "data": {
            "text/plain": [
              "ExactMarginalLogLikelihood(\n",
              "  (likelihood): GaussianLikelihood(\n",
              "    (noise_covar): HomoskedasticNoise(\n",
              "      (noise_prior): GammaPrior()\n",
              "      (raw_noise_constraint): GreaterThan(1.000E-04)\n",
              "    )\n",
              "  )\n",
              "  (model): SingleTaskGP(\n",
              "    (likelihood): GaussianLikelihood(\n",
              "      (noise_covar): HomoskedasticNoise(\n",
              "        (noise_prior): GammaPrior()\n",
              "        (raw_noise_constraint): GreaterThan(1.000E-04)\n",
              "      )\n",
              "    )\n",
              "    (mean_module): ConstantMean()\n",
              "    (covar_module): ScaleKernel(\n",
              "      (base_kernel): RBFKernel(\n",
              "        (lengthscale_prior): GammaPrior()\n",
              "        (raw_lengthscale_constraint): GreaterThan(1.000E-04)\n",
              "      )\n",
              "      (outputscale_prior): SmoothedBoxPrior()\n",
              "      (raw_outputscale_constraint): Interval(2.000E-01, 5.000E+00)\n",
              "    )\n",
              "    (input_transform): ChainedInputTransform(\n",
              "      (center): InputCenter()\n",
              "      (pca): PCAInputTransform()\n",
              "    )\n",
              "  )\n",
              ")"
            ]
          },
          "execution_count": 443,
          "metadata": {},
          "output_type": "execute_result"
        }
      ],
      "source": [
        "use_modified_kernel = True\n",
        "\n",
        "pca_covar_module = None\n",
        "if use_modified_kernel:\n",
        "    pca_covar_module = make_modified_kernel(ard_num_dims = 1)\n",
        "\n",
        "\n",
        "pca_util_model = fit_pref_model(\n",
        "    train_Y, \n",
        "    comps, \n",
        "    input_transform=ChainedInputTransform(\n",
        "                    **{\n",
        "                        \"center\": InputCenter(config[\"outcome_dim\"]),\n",
        "                        \"pca\": PCAInputTransform(pca_model_low.outcome_transform['pca'].axes_learned),\n",
        "                    }\n",
        "                ),\n",
        "    covar_module = pca_covar_module\n",
        ")\n",
        "\n",
        "pca_util_model_oracle = SingleTaskGP(\n",
        "    train_Y, \n",
        "    util_vals.unsqueeze(1), \n",
        "    input_transform=ChainedInputTransform(\n",
        "                    **{\n",
        "                        \"center\": InputCenter(config[\"outcome_dim\"]),\n",
        "                        \"pca\": PCAInputTransform(pca_model_low.outcome_transform['pca'].axes_learned),\n",
        "                    }\n",
        "                ),\n",
        "    covar_module = pca_covar_module\n",
        ")\n",
        "\n",
        "mll = ExactMarginalLogLikelihood(pca_util_model_oracle.likelihood, pca_util_model_oracle)\n",
        "fit_gpytorch_model(mll)"
      ]
    },
    {
      "cell_type": "code",
      "execution_count": 450,
      "metadata": {},
      "outputs": [
        {
          "data": {
            "text/plain": [
              "ExactMarginalLogLikelihood(\n",
              "  (likelihood): GaussianLikelihood(\n",
              "    (noise_covar): HomoskedasticNoise(\n",
              "      (noise_prior): GammaPrior()\n",
              "      (raw_noise_constraint): GreaterThan(1.000E-04)\n",
              "    )\n",
              "  )\n",
              "  (model): SingleTaskGP(\n",
              "    (likelihood): GaussianLikelihood(\n",
              "      (noise_covar): HomoskedasticNoise(\n",
              "        (noise_prior): GammaPrior()\n",
              "        (raw_noise_constraint): GreaterThan(1.000E-04)\n",
              "      )\n",
              "    )\n",
              "    (mean_module): ConstantMean()\n",
              "    (covar_module): ScaleKernel(\n",
              "      (base_kernel): RBFKernel(\n",
              "        (lengthscale_prior): GammaPrior()\n",
              "        (raw_lengthscale_constraint): GreaterThan(1.000E-04)\n",
              "      )\n",
              "      (outputscale_prior): SmoothedBoxPrior()\n",
              "      (raw_outputscale_constraint): Interval(2.000E-01, 5.000E+00)\n",
              "    )\n",
              "  )\n",
              ")"
            ]
          },
          "execution_count": 450,
          "metadata": {},
          "output_type": "execute_result"
        }
      ],
      "source": [
        "use_modified_kernel = True\n",
        "\n",
        "st_covar_module = None\n",
        "if use_modified_kernel:\n",
        "    st_covar_module = make_modified_kernel(ard_num_dims = 20)\n",
        "\n",
        "st_util_model = fit_pref_model(\n",
        "    train_Y, \n",
        "    comps, \n",
        "    # input_transform=Normalize(config[\"outcome_dim\"])\n",
        "    covar_module = st_covar_module\n",
        ")\n",
        "\n",
        "st_util_model_oracle = SingleTaskGP(\n",
        "    train_Y, \n",
        "    util_vals.unsqueeze(1), \n",
        "    covar_module = st_covar_module\n",
        ")\n",
        "\n",
        "mll = ExactMarginalLogLikelihood(st_util_model_oracle.likelihood, st_util_model_oracle)\n",
        "fit_gpytorch_model(mll)"
      ]
    },
    {
      "cell_type": "code",
      "execution_count": 448,
      "metadata": {},
      "outputs": [
        {
          "name": "stdout",
          "output_type": "stream",
          "text": [
            "pca util accuracy:  0.9660000205039978\n",
            "pca oracle util accuracy:  0.9380000233650208\n"
          ]
        }
      ],
      "source": [
        "torch.manual_seed(0)\n",
        "test_util_vals_pca, pred_util_vals_pca, util_acc_pca = check_util_model_fit(\n",
        "    pref_model = pca_util_model,\n",
        "    problem=problem,\n",
        "    util_func=util_func,\n",
        "    n_test=1000,\n",
        "    batch_eval=True,\n",
        "    return_util_vals = True\n",
        ")\n",
        "print('pca util accuracy: ', util_acc_pca)\n",
        "\n",
        "test_util_vals_pca_oracle, pred_util_vals_pca_oracle, util_acc_pca_oracle = check_util_model_fit(\n",
        "    pref_model = pca_util_model_oracle,\n",
        "    problem=problem,\n",
        "    util_func=util_func,\n",
        "    n_test=1000,\n",
        "    batch_eval=True,\n",
        "    return_util_vals = True\n",
        ")\n",
        "print('pca oracle util accuracy: ', util_acc_pca_oracle)"
      ]
    },
    {
      "cell_type": "code",
      "execution_count": 451,
      "metadata": {},
      "outputs": [
        {
          "ename": "NotPSDError",
          "evalue": "Matrix not positive definite after repeatedly adding jitter up to 1.0e-01.",
          "output_type": "error",
          "traceback": [
            "\u001b[0;31m---------------------------------------------------------------------------\u001b[0m",
            "\u001b[0;31mNotPSDError\u001b[0m                               Traceback (most recent call last)",
            "\u001b[0;32m/tmp/ipykernel_742263/2557206449.py\u001b[0m in \u001b[0;36m<module>\u001b[0;34m\u001b[0m\n\u001b[1;32m      1\u001b[0m \u001b[0mtorch\u001b[0m\u001b[0;34m.\u001b[0m\u001b[0mmanual_seed\u001b[0m\u001b[0;34m(\u001b[0m\u001b[0;36m0\u001b[0m\u001b[0;34m)\u001b[0m\u001b[0;34m\u001b[0m\u001b[0;34m\u001b[0m\u001b[0m\n\u001b[0;32m----> 2\u001b[0;31m test_util_vals_st, pred_util_vals_st, util_acc_st = check_util_model_fit(\n\u001b[0m\u001b[1;32m      3\u001b[0m     \u001b[0mpref_model\u001b[0m \u001b[0;34m=\u001b[0m \u001b[0mst_util_model\u001b[0m\u001b[0;34m,\u001b[0m\u001b[0;34m\u001b[0m\u001b[0;34m\u001b[0m\u001b[0m\n\u001b[1;32m      4\u001b[0m     \u001b[0mproblem\u001b[0m\u001b[0;34m=\u001b[0m\u001b[0mproblem\u001b[0m\u001b[0;34m,\u001b[0m\u001b[0;34m\u001b[0m\u001b[0;34m\u001b[0m\u001b[0m\n\u001b[1;32m      5\u001b[0m     \u001b[0mutil_func\u001b[0m\u001b[0;34m=\u001b[0m\u001b[0mutil_func\u001b[0m\u001b[0;34m,\u001b[0m\u001b[0;34m\u001b[0m\u001b[0;34m\u001b[0m\u001b[0m\n",
            "\u001b[0;32m~/low_rank_BOPE/low_rank_BOPE/src/diagnostics.py\u001b[0m in \u001b[0;36mcheck_util_model_fit\u001b[0;34m(pref_model, problem, util_func, n_test, batch_eval, return_util_vals)\u001b[0m\n\u001b[1;32m    295\u001b[0m \u001b[0;34m\u001b[0m\u001b[0m\n\u001b[1;32m    296\u001b[0m     \u001b[0;31m# run pref_model on test data, get predictions\u001b[0m\u001b[0;34m\u001b[0m\u001b[0;34m\u001b[0m\u001b[0m\n\u001b[0;32m--> 297\u001b[0;31m     \u001b[0mposterior_util_mean\u001b[0m \u001b[0;34m=\u001b[0m \u001b[0mpref_model\u001b[0m\u001b[0;34m.\u001b[0m\u001b[0mposterior\u001b[0m\u001b[0;34m(\u001b[0m\u001b[0mtest_Y\u001b[0m\u001b[0;34m)\u001b[0m\u001b[0;34m.\u001b[0m\u001b[0mmean\u001b[0m\u001b[0;34m\u001b[0m\u001b[0;34m\u001b[0m\u001b[0m\n\u001b[0m\u001b[1;32m    298\u001b[0m     \u001b[0mposterior_util_mean_\u001b[0m \u001b[0;34m=\u001b[0m \u001b[0mposterior_util_mean\u001b[0m\u001b[0;34m.\u001b[0m\u001b[0mreshape\u001b[0m\u001b[0;34m(\u001b[0m\u001b[0;34m(\u001b[0m\u001b[0mn_test\u001b[0m \u001b[0;34m//\u001b[0m \u001b[0;36m2\u001b[0m\u001b[0;34m,\u001b[0m \u001b[0;36m2\u001b[0m\u001b[0;34m)\u001b[0m\u001b[0;34m)\u001b[0m\u001b[0;34m\u001b[0m\u001b[0;34m\u001b[0m\u001b[0m\n\u001b[1;32m    299\u001b[0m \u001b[0;34m\u001b[0m\u001b[0m\n",
            "\u001b[0;32m~/anaconda3/envs/bope_pca/lib/python3.9/site-packages/botorch/models/pairwise_gp.py\u001b[0m in \u001b[0;36mposterior\u001b[0;34m(self, X, output_indices, observation_noise, posterior_transform, **kwargs)\u001b[0m\n\u001b[1;32m    891\u001b[0m             )\n\u001b[1;32m    892\u001b[0m \u001b[0;34m\u001b[0m\u001b[0m\n\u001b[0;32m--> 893\u001b[0;31m         \u001b[0mpost\u001b[0m \u001b[0;34m=\u001b[0m \u001b[0mself\u001b[0m\u001b[0;34m(\u001b[0m\u001b[0mX\u001b[0m\u001b[0;34m)\u001b[0m\u001b[0;34m\u001b[0m\u001b[0;34m\u001b[0m\u001b[0m\n\u001b[0m\u001b[1;32m    894\u001b[0m         \u001b[0mposterior\u001b[0m \u001b[0;34m=\u001b[0m \u001b[0mGPyTorchPosterior\u001b[0m\u001b[0;34m(\u001b[0m\u001b[0mpost\u001b[0m\u001b[0;34m)\u001b[0m\u001b[0;34m\u001b[0m\u001b[0;34m\u001b[0m\u001b[0m\n\u001b[1;32m    895\u001b[0m         \u001b[0;32mif\u001b[0m \u001b[0mposterior_transform\u001b[0m \u001b[0;32mis\u001b[0m \u001b[0;32mnot\u001b[0m \u001b[0;32mNone\u001b[0m\u001b[0;34m:\u001b[0m\u001b[0;34m\u001b[0m\u001b[0;34m\u001b[0m\u001b[0m\n",
            "\u001b[0;32m~/anaconda3/envs/bope_pca/lib/python3.9/site-packages/gpytorch/module.py\u001b[0m in \u001b[0;36m__call__\u001b[0;34m(self, *inputs, **kwargs)\u001b[0m\n\u001b[1;32m     28\u001b[0m \u001b[0;34m\u001b[0m\u001b[0m\n\u001b[1;32m     29\u001b[0m     \u001b[0;32mdef\u001b[0m \u001b[0m__call__\u001b[0m\u001b[0;34m(\u001b[0m\u001b[0mself\u001b[0m\u001b[0;34m,\u001b[0m \u001b[0;34m*\u001b[0m\u001b[0minputs\u001b[0m\u001b[0;34m,\u001b[0m \u001b[0;34m**\u001b[0m\u001b[0mkwargs\u001b[0m\u001b[0;34m)\u001b[0m\u001b[0;34m:\u001b[0m\u001b[0;34m\u001b[0m\u001b[0;34m\u001b[0m\u001b[0m\n\u001b[0;32m---> 30\u001b[0;31m         \u001b[0moutputs\u001b[0m \u001b[0;34m=\u001b[0m \u001b[0mself\u001b[0m\u001b[0;34m.\u001b[0m\u001b[0mforward\u001b[0m\u001b[0;34m(\u001b[0m\u001b[0;34m*\u001b[0m\u001b[0minputs\u001b[0m\u001b[0;34m,\u001b[0m \u001b[0;34m**\u001b[0m\u001b[0mkwargs\u001b[0m\u001b[0;34m)\u001b[0m\u001b[0;34m\u001b[0m\u001b[0;34m\u001b[0m\u001b[0m\n\u001b[0m\u001b[1;32m     31\u001b[0m         \u001b[0;32mif\u001b[0m \u001b[0misinstance\u001b[0m\u001b[0;34m(\u001b[0m\u001b[0moutputs\u001b[0m\u001b[0;34m,\u001b[0m \u001b[0mlist\u001b[0m\u001b[0;34m)\u001b[0m\u001b[0;34m:\u001b[0m\u001b[0;34m\u001b[0m\u001b[0;34m\u001b[0m\u001b[0m\n\u001b[1;32m     32\u001b[0m             \u001b[0;32mreturn\u001b[0m \u001b[0;34m[\u001b[0m\u001b[0m_validate_module_outputs\u001b[0m\u001b[0;34m(\u001b[0m\u001b[0moutput\u001b[0m\u001b[0;34m)\u001b[0m \u001b[0;32mfor\u001b[0m \u001b[0moutput\u001b[0m \u001b[0;32min\u001b[0m \u001b[0moutputs\u001b[0m\u001b[0;34m]\u001b[0m\u001b[0;34m\u001b[0m\u001b[0;34m\u001b[0m\u001b[0m\n",
            "\u001b[0;32m~/anaconda3/envs/bope_pca/lib/python3.9/site-packages/botorch/models/pairwise_gp.py\u001b[0m in \u001b[0;36mforward\u001b[0;34m(self, datapoints)\u001b[0m\n\u001b[1;32m    855\u001b[0m             \u001b[0;31m# perform a cholesky decomposition to check and amend\u001b[0m\u001b[0;34m\u001b[0m\u001b[0;34m\u001b[0m\u001b[0m\n\u001b[1;32m    856\u001b[0m             covariance_matrix=RootLinearOperator(\n\u001b[0;32m--> 857\u001b[0;31m                 \u001b[0mself\u001b[0m\u001b[0;34m.\u001b[0m\u001b[0m_scaled_psd_safe_cholesky\u001b[0m\u001b[0;34m(\u001b[0m\u001b[0moutput_covar\u001b[0m\u001b[0;34m,\u001b[0m \u001b[0mjitter\u001b[0m\u001b[0;34m=\u001b[0m\u001b[0mself\u001b[0m\u001b[0;34m.\u001b[0m\u001b[0m_jitter\u001b[0m\u001b[0;34m)\u001b[0m\u001b[0;34m\u001b[0m\u001b[0;34m\u001b[0m\u001b[0m\n\u001b[0m\u001b[1;32m    858\u001b[0m             ),\n\u001b[1;32m    859\u001b[0m         )\n",
            "\u001b[0;32m~/anaconda3/envs/bope_pca/lib/python3.9/site-packages/botorch/models/pairwise_gp.py\u001b[0m in \u001b[0;36m_scaled_psd_safe_cholesky\u001b[0;34m(self, M, jitter)\u001b[0m\n\u001b[1;32m    244\u001b[0m         \u001b[0mscale\u001b[0m \u001b[0;34m=\u001b[0m \u001b[0mself\u001b[0m\u001b[0;34m.\u001b[0m\u001b[0mcovar_module\u001b[0m\u001b[0;34m.\u001b[0m\u001b[0moutputscale\u001b[0m\u001b[0;34m.\u001b[0m\u001b[0munsqueeze\u001b[0m\u001b[0;34m(\u001b[0m\u001b[0;34m-\u001b[0m\u001b[0;36m1\u001b[0m\u001b[0;34m)\u001b[0m\u001b[0;34m.\u001b[0m\u001b[0munsqueeze\u001b[0m\u001b[0;34m(\u001b[0m\u001b[0;34m-\u001b[0m\u001b[0;36m1\u001b[0m\u001b[0;34m)\u001b[0m\u001b[0;34m\u001b[0m\u001b[0;34m\u001b[0m\u001b[0m\n\u001b[1;32m    245\u001b[0m         \u001b[0mM\u001b[0m \u001b[0;34m=\u001b[0m \u001b[0mM\u001b[0m \u001b[0;34m/\u001b[0m \u001b[0mscale\u001b[0m\u001b[0;34m\u001b[0m\u001b[0;34m\u001b[0m\u001b[0m\n\u001b[0;32m--> 246\u001b[0;31m         \u001b[0mchol\u001b[0m \u001b[0;34m=\u001b[0m \u001b[0mpsd_safe_cholesky\u001b[0m\u001b[0;34m(\u001b[0m\u001b[0mM\u001b[0m\u001b[0;34m,\u001b[0m \u001b[0mjitter\u001b[0m\u001b[0;34m=\u001b[0m\u001b[0mjitter\u001b[0m\u001b[0;34m)\u001b[0m\u001b[0;34m\u001b[0m\u001b[0;34m\u001b[0m\u001b[0m\n\u001b[0m\u001b[1;32m    247\u001b[0m         \u001b[0mchol\u001b[0m \u001b[0;34m=\u001b[0m \u001b[0mchol\u001b[0m \u001b[0;34m*\u001b[0m \u001b[0mscale\u001b[0m\u001b[0;34m.\u001b[0m\u001b[0msqrt\u001b[0m\u001b[0;34m(\u001b[0m\u001b[0;34m)\u001b[0m\u001b[0;34m\u001b[0m\u001b[0;34m\u001b[0m\u001b[0m\n\u001b[1;32m    248\u001b[0m         \u001b[0;32mreturn\u001b[0m \u001b[0mchol\u001b[0m\u001b[0;34m\u001b[0m\u001b[0;34m\u001b[0m\u001b[0m\n",
            "\u001b[0;32m~/anaconda3/envs/bope_pca/lib/python3.9/site-packages/linear_operator/utils/cholesky.py\u001b[0m in \u001b[0;36mpsd_safe_cholesky\u001b[0;34m(A, upper, out, jitter, max_tries)\u001b[0m\n\u001b[1;32m     63\u001b[0m             \u001b[0mNumber\u001b[0m \u001b[0mof\u001b[0m \u001b[0mattempts\u001b[0m \u001b[0;34m(\u001b[0m\u001b[0;32mwith\u001b[0m \u001b[0msuccessively\u001b[0m \u001b[0mincreasing\u001b[0m \u001b[0mjitter\u001b[0m\u001b[0;34m)\u001b[0m \u001b[0mto\u001b[0m \u001b[0mmake\u001b[0m \u001b[0mbefore\u001b[0m \u001b[0mraising\u001b[0m \u001b[0man\u001b[0m \u001b[0merror\u001b[0m\u001b[0;34m.\u001b[0m\u001b[0;34m\u001b[0m\u001b[0;34m\u001b[0m\u001b[0m\n\u001b[1;32m     64\u001b[0m     \"\"\"\n\u001b[0;32m---> 65\u001b[0;31m     \u001b[0mL\u001b[0m \u001b[0;34m=\u001b[0m \u001b[0m_psd_safe_cholesky\u001b[0m\u001b[0;34m(\u001b[0m\u001b[0mA\u001b[0m\u001b[0;34m,\u001b[0m \u001b[0mout\u001b[0m\u001b[0;34m=\u001b[0m\u001b[0mout\u001b[0m\u001b[0;34m,\u001b[0m \u001b[0mjitter\u001b[0m\u001b[0;34m=\u001b[0m\u001b[0mjitter\u001b[0m\u001b[0;34m,\u001b[0m \u001b[0mmax_tries\u001b[0m\u001b[0;34m=\u001b[0m\u001b[0mmax_tries\u001b[0m\u001b[0;34m)\u001b[0m\u001b[0;34m\u001b[0m\u001b[0;34m\u001b[0m\u001b[0m\n\u001b[0m\u001b[1;32m     66\u001b[0m     \u001b[0;32mif\u001b[0m \u001b[0mupper\u001b[0m\u001b[0;34m:\u001b[0m\u001b[0;34m\u001b[0m\u001b[0;34m\u001b[0m\u001b[0m\n\u001b[1;32m     67\u001b[0m         \u001b[0;32mif\u001b[0m \u001b[0mout\u001b[0m \u001b[0;32mis\u001b[0m \u001b[0;32mnot\u001b[0m \u001b[0;32mNone\u001b[0m\u001b[0;34m:\u001b[0m\u001b[0;34m\u001b[0m\u001b[0;34m\u001b[0m\u001b[0m\n",
            "\u001b[0;32m~/anaconda3/envs/bope_pca/lib/python3.9/site-packages/linear_operator/utils/cholesky.py\u001b[0m in \u001b[0;36m_psd_safe_cholesky\u001b[0;34m(A, out, jitter, max_tries)\u001b[0m\n\u001b[1;32m     45\u001b[0m         \u001b[0;32mif\u001b[0m \u001b[0;32mnot\u001b[0m \u001b[0mtorch\u001b[0m\u001b[0;34m.\u001b[0m\u001b[0many\u001b[0m\u001b[0;34m(\u001b[0m\u001b[0minfo\u001b[0m\u001b[0;34m)\u001b[0m\u001b[0;34m:\u001b[0m\u001b[0;34m\u001b[0m\u001b[0;34m\u001b[0m\u001b[0m\n\u001b[1;32m     46\u001b[0m             \u001b[0;32mreturn\u001b[0m \u001b[0mL\u001b[0m\u001b[0;34m\u001b[0m\u001b[0;34m\u001b[0m\u001b[0m\n\u001b[0;32m---> 47\u001b[0;31m     \u001b[0;32mraise\u001b[0m \u001b[0mNotPSDError\u001b[0m\u001b[0;34m(\u001b[0m\u001b[0;34mf\"Matrix not positive definite after repeatedly adding jitter up to {jitter_new:.1e}.\"\u001b[0m\u001b[0;34m)\u001b[0m\u001b[0;34m\u001b[0m\u001b[0;34m\u001b[0m\u001b[0m\n\u001b[0m\u001b[1;32m     48\u001b[0m \u001b[0;34m\u001b[0m\u001b[0m\n\u001b[1;32m     49\u001b[0m \u001b[0;34m\u001b[0m\u001b[0m\n",
            "\u001b[0;31mNotPSDError\u001b[0m: Matrix not positive definite after repeatedly adding jitter up to 1.0e-01."
          ]
        }
      ],
      "source": [
        "torch.manual_seed(0)\n",
        "test_util_vals_st, pred_util_vals_st, util_acc_st = check_util_model_fit(\n",
        "    pref_model = st_util_model,\n",
        "    problem=problem,\n",
        "    util_func=util_func,\n",
        "    n_test=1000,\n",
        "    batch_eval=True,\n",
        "    return_util_vals = True\n",
        ")\n",
        "print('ST util accuracy: ', util_acc_st)\n",
        "\n",
        "test_util_vals_st_oracle, pred_util_vals_st_oracle, util_acc_st_oracle = check_util_model_fit(\n",
        "    pref_model = st_util_model_oracle,\n",
        "    problem=problem,\n",
        "    util_func=util_func,\n",
        "    n_test=1000,\n",
        "    batch_eval=True,\n",
        "    return_util_vals = True\n",
        ")\n",
        "print('st oracle util accuracy: ', util_acc_st_oracle)"
      ]
    },
    {
      "cell_type": "code",
      "execution_count": 377,
      "metadata": {},
      "outputs": [
        {
          "name": "stdout",
          "output_type": "stream",
          "text": [
            "mean difference in relative error of utility prediction -0.005132338271812821\n",
            "SD of difference in relative error of utility prediction 1.5979983156094808\n"
          ]
        },
        {
          "data": {
            "text/plain": [
              "Text(0.5, 1.0, 'difference in relative error of predicted test utility values')"
            ]
          },
          "execution_count": 377,
          "metadata": {},
          "output_type": "execute_result"
        },
        {
          "data": {
            "image/png": "[encoded data removed]",
            "text/plain": [
              "<Figure size 432x288 with 1 Axes>"
            ]
          },
          "metadata": {
            "needs_background": "light"
          },
          "output_type": "display_data"
        }
      ],
      "source": [
        "print(\n",
        "    'mean difference in relative error of utility prediction', \n",
        "    torch.mean((pred_util_vals_st_oracle - pred_util_vals_pca_oracle)/test_util_vals_st).item()\n",
        ")\n",
        "\n",
        "print(\n",
        "    'SD of difference in relative error of utility prediction', \n",
        "    torch.std((pred_util_vals_st_oracle - pred_util_vals_pca_oracle)/test_util_vals_st).item()\n",
        ")\n",
        "\n",
        "plt.hist(((pred_util_vals_st_oracle - pred_util_vals_pca_oracle)/test_util_vals_st).detach().numpy())\n",
        "plt.title('difference in relative error of predicted test utility values')"
      ]
    },
    {
      "cell_type": "code",
      "execution_count": null,
      "metadata": {},
      "outputs": [],
      "source": []
    },
    {
      "cell_type": "code",
      "execution_count": null,
      "metadata": {},
      "outputs": [],
      "source": []
    },
    {
      "cell_type": "code",
      "execution_count": null,
      "metadata": {},
      "outputs": [],
      "source": []
    }
  ],
  "metadata": {
    "bento_stylesheets": {
      "bento/extensions/flow/main.css": true,
      "bento/extensions/kernel_selector/main.css": true,
      "bento/extensions/kernel_ui/main.css": true,
      "bento/extensions/new_kernel/main.css": true,
      "bento/extensions/system_usage/main.css": true,
      "bento/extensions/theme/main.css": true
    },
    "captumWidgetMessage": {},
    "dataExplorerConfig": {},
    "disseminate_notebook_id": {
      "notebook_id": "310500951141609"
    },
    "disseminate_notebook_info": {
      "bento_version": "20220213-210538",
      "data_retention_policy": "default",
      "description": "",
      "hide_code": false,
      "hipster_group": "",
      "kernel_build_info": {
        "deps": [
          "//ae:notebook",
          "//ax/ax/utils/tutorials:tutorial_utils"
        ],
        "external_deps": [],
        "kernel_version": "1206"
      },
      "no_uii": true,
      "notebook_number": "1613503",
      "others_can_edit": false,
      "reviewers": "",
      "revision_id": "668025524236855",
      "tags": "",
      "tasks": "",
      "title": "QE_Lib_ae_ig_feed_recs_sourcing_quickbo_relax_media_age_analysis_b2"
    },
    "interpreter": {
      "hash": "f178f7686bb85c5c6e141a85fd4c17c3082d63b89f6cfaecdf98c22c0047a219"
    },
    "kernelspec": {
      "display_name": "Python 3.9.15 ('bope_pca')",
      "language": "python",
      "name": "python3"
    },
    "language_info": {
      "codemirror_mode": {
        "name": "ipython",
        "version": 3
      },
      "file_extension": ".py",
      "mimetype": "text/x-python",
      "name": "python",
      "nbconvert_exporter": "python",
      "pygments_lexer": "ipython3",
      "version": "3.9.15 (main, Nov 24 2022, 14:31:59) \n[GCC 11.2.0]"
    },
    "last_base_url": "https://devvm10848.prn0.facebook.com:8090/",
    "last_kernel_id": "33f76217-c3bb-4b3c-be64-89415980d364",
    "last_msg_id": "33163635-cf61d68d283ac2575827f13f_324",
    "last_server_session_id": "e5067c57-e1d5-4267-b323-2335fc1b1e29",
    "outputWidgetContext": {}
  },
  "nbformat": 4,
  "nbformat_minor": 2
}
