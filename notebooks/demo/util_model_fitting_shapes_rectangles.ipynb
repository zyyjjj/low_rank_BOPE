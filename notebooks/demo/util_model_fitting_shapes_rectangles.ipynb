{
  "cells": [
    {
      "attachments": {},
      "cell_type": "markdown",
      "metadata": {
        "code_folding": [],
        "customInput": null,
        "hidden_ranges": [],
        "originalKey": "c2748393-d4ea-4830-94f2-145dc2fb0c14",
        "showInput": false
      },
      "source": [
        "# Overview\n",
        "\n",
        "The test problem explored in this notebook is adapted from an experiment in \n",
        "Tripp et al., Sample-Efficient Optimization in the Latent Space of Deep \n",
        "Generative Models via Weighted Retraining (https://arxiv.org/abs/2006.09191). \n",
        "\n",
        "We work with a set of 16x16 images. In each image, we place a randomly generated \n",
        "black **rectangle**. We aim to learn a predictive model that maps an image to the area \n",
        "of the black rectangle inside it. \n",
        "- We first train this model using images and the numerical values for the areas\n",
        "- We further bring this into a preference learning setting where, instead of \n",
        "    numerical values of the black areas, we provide pairwise comparisons of \n",
        "    areas in a pair of images. \n",
        "\n",
        "It can be seen that the image data are highly structured. We perform PCA on the \n",
        "set of images and keep the first 16 principal axes. Then, for each of the two \n",
        "types of models above, we try applying PCA to the images and fit a GP from 16\n",
        "dimensions to 1 dimension, and compare the performance with not doing so (i.e., \n",
        "fitting a GP from 256 dimensions to 1 dimension.)"
      ]
    },
    {
      "cell_type": "code",
      "execution_count": 1,
      "metadata": {
        "code_folding": [],
        "collapsed": false,
        "customOutput": null,
        "executionStartTime": 1673017165515,
        "executionStopTime": 1673017169427,
        "hidden_ranges": [],
        "originalKey": "ed006d17-14ef-41a2-9b4f-6163953a6ec9",
        "requestMsgId": "c593f2fe-2fb2-4595-9412-d4a68b8971a6",
        "trusted": true
      },
      "outputs": [
        {
          "name": "stderr",
          "output_type": "stream",
          "text": [
            "/home/yz685/anaconda3/envs/bope_pca/lib/python3.9/site-packages/tqdm/auto.py:22: TqdmWarning: IProgress not found. Please update jupyter and ipywidgets. See https://ipywidgets.readthedocs.io/en/stable/user_install.html\n",
            "  from .autonotebook import tqdm as notebook_tqdm\n"
          ]
        }
      ],
      "source": [
        "%load_ext autoreload\n",
        "%autoreload 2\n",
        "\n",
        "import os, sys\n",
        "# file_dir = os.path.dirname(__file__)\n",
        "# sys.path.append(file_dir)\n",
        "sys.path.append('/home/yz685/low_rank_BOPE')\n",
        "sys.path.append('/home/yz685/low_rank_BOPE/low_rank_BOPE')\n",
        "import warnings\n",
        "import math\n",
        "import matplotlib.pyplot as plt\n",
        "import numpy as np\n",
        "import scipy.linalg\n",
        "import torch\n",
        "from torch import Tensor\n",
        "from tqdm.auto import trange\n",
        "\n",
        "\n",
        "from test_problems.synthetic_problem import generate_principal_axes, PCATestProblem\n",
        "from src.transforms import (\n",
        "    generate_random_projection,\n",
        "    InputCenter,\n",
        "    LinearProjectionInputTransform,\n",
        "    LinearProjectionOutcomeTransform,\n",
        "    PCAInputTransform,\n",
        "    PCAOutcomeTransform,\n",
        "    SubsetOutcomeTransform,\n",
        ")\n",
        "from src.pref_learning_helpers import gen_initial_real_data, fit_pref_model, gen_comps\n",
        "from src.diagnostics import check_util_model_fit\n",
        "from src.models import make_modified_kernel\n",
        "\n",
        "# import botorch, gpytorch functions\n",
        "from botorch import fit_gpytorch_model, fit_gpytorch_mll\n",
        "from botorch.optim.fit import fit_gpytorch_scipy\n",
        "from botorch.optim.utils import _filter_kwargs\n",
        "from botorch.utils.sampling import draw_sobol_samples\n",
        "from botorch.models import SingleTaskGP\n",
        "from botorch.models.transforms.outcome import ChainedOutcomeTransform, Standardize\n",
        "from botorch.models.transforms.input import (\n",
        "    ChainedInputTransform,\n",
        "    FilterFeatures,\n",
        "    Normalize,\n",
        ")\n",
        "from botorch.models.pairwise_gp import (PairwiseGP,\n",
        "                                        PairwiseLaplaceMarginalLogLikelihood)\n",
        "\n",
        "from gpytorch.kernels import MaternKernel\n",
        "from gpytorch.mlls import ExactMarginalLogLikelihood\n",
        "from gpytorch.likelihoods import GaussianLikelihood\n",
        "from gpytorch.priors import GammaPrior\n",
        "\n",
        "warnings.filterwarnings(\"ignore\")\n"
      ]
    },
    {
      "cell_type": "code",
      "execution_count": 2,
      "metadata": {},
      "outputs": [],
      "source": [
        "tkwargs = {\n",
        "    \"dtype\": torch.double,\n",
        "    \"device\": torch.device(\"cuda\" if torch.cuda.is_available() else \"cpu\"),\n",
        "}"
      ]
    },
    {
      "cell_type": "code",
      "execution_count": 3,
      "metadata": {},
      "outputs": [],
      "source": [
        "# Adapted from https://stackoverflow.com/questions/33607071/fastest-way-to-compute-entropy-of-each-numpy-array-row \n",
        "\n",
        "def entropy(x):\n",
        "    \"\"\"\n",
        "    x is assumed to be an (nsignals, nsamples) array containing integers between\n",
        "    0 and n_unique_vals\n",
        "    \"\"\"\n",
        "    x = np.atleast_2d(x)\n",
        "    nrows, ncols = x.shape\n",
        "    nbins = x.max() + 1\n",
        "\n",
        "    # count the number of occurrences for each unique integer between 0 and x.max()\n",
        "    # in each row of x\n",
        "    counts = np.vstack((np.bincount(row, minlength=nbins) for row in x))\n",
        "\n",
        "    # divide by number of columns to get the probability of each unique value\n",
        "    p = counts / float(ncols)\n",
        "    p = p[p!=0]\n",
        "\n",
        "    # compute Shannon entropy in bits\n",
        "    return -np.sum(p * np.log2(p))"
      ]
    },
    {
      "attachments": {},
      "cell_type": "markdown",
      "metadata": {},
      "source": [
        "## 1. Construct the Shapes Dataset to Test the Implementation"
      ]
    },
    {
      "cell_type": "code",
      "execution_count": 4,
      "metadata": {
        "collapsed": false,
        "customInput": null,
        "executionStartTime": 1674095278421,
        "executionStopTime": 1674095278508,
        "originalKey": "defe9441-c3df-4641-a9b5-5b162af3e937",
        "requestMsgId": "defe9441-c3df-4641-a9b5-5b162af3e937",
        "showInput": true
      },
      "outputs": [
        {
          "name": "stdout",
          "output_type": "stream",
          "text": [
            "Making Dataset\n"
          ]
        },
        {
          "name": "stderr",
          "output_type": "stream",
          "text": [
            "100%|██████████| 5/5 [00:00<00:00, 242.90it/s]"
          ]
        },
        {
          "name": "stdout",
          "output_type": "stream",
          "text": [
            "Dataset created. Total of 615 points\n",
            "Array size 0.0 GB\n"
          ]
        },
        {
          "name": "stderr",
          "output_type": "stream",
          "text": [
            "\n"
          ]
        }
      ],
      "source": [
        "\"\"\"\n",
        "Construct the Shapes optimization benchmark dataset from Tripp et al.,\n",
        "Sample-Efficient Optimization in the Latent Space of Deep Generative Models \n",
        "via Weighted Retraining, NeurIPS 2020. \n",
        "Adapted from: https://github.com/cambridge-mlg/weighted-retraining\n",
        "\"\"\"\n",
        "\n",
        "# Hyperparameters from \n",
        "# https://arxiv.org/abs/2006.09191\n",
        "\n",
        "grid_size = 16 # image dimension\n",
        "min_size = 4\n",
        "max_size = 8\n",
        "shuffle_seed = None # Int specifying the shuffle seed\n",
        "min_col = None # min column to start spanning, shifts rectangles to the left\n",
        "max_col = None # max column to start spanning\n",
        "num_replicates = 1 # number of times to replicate each point\n",
        "\n",
        "# Make all the rectangles\n",
        "print(\"Making Dataset\")\n",
        "img_list = []\n",
        "for rect_height in trange(min_size, max_size + 1): # range(5, 8)\n",
        "\n",
        "    for rect_width in [rect_height]:  # Because it is squares only # TODO: change here\n",
        "    #  for rect_width in [rect_height-1, rect_height+1]:  \n",
        "\n",
        "        for row in range(grid_size - rect_height + 1):\n",
        "\n",
        "            # Specify which columns to span\n",
        "            if min_col is None:\n",
        "                min_col = 0\n",
        "            if max_col is None:\n",
        "                max_col = grid_size\n",
        "            for col in range(min_col, min(grid_size - rect_width + 1, max_col)):\n",
        "\n",
        "                arr = np.zeros((grid_size, grid_size))\n",
        "                arr[row : row + rect_height, col : col + rect_width] = np.ones(\n",
        "                    (rect_height, rect_width)\n",
        "                )\n",
        "                # Append the same image multiple times\n",
        "                for _ in range(num_replicates):\n",
        "                    img_list.append(arr)\n",
        "\n",
        "img_array = np.array(img_list)\n",
        "print(f\"Dataset created. Total of {len(img_array)} points\")\n",
        "print(f\"Array size {img_array.nbytes / 1e9:.1f} GB\")\n",
        "\n",
        "# Possibly shuffle\n",
        "if shuffle_seed is not None:\n",
        "    print(\"Shuffling!\")\n",
        "    np.random.seed(shuffle_seed)\n",
        "    np.random.shuffle(img_array)\n",
        "\n",
        "# Calculate areas\n",
        "areas_array = np.sum(img_array, axis=(1, 2)).astype(float)"
      ]
    },
    {
      "cell_type": "code",
      "execution_count": 5,
      "metadata": {},
      "outputs": [
        {
          "name": "stdout",
          "output_type": "stream",
          "text": [
            "Entropy of areas array:  2.2753145581766265\n"
          ]
        },
        {
          "data": {
            "text/plain": [
              "(array([169., 144.,   0.,   0., 121.,   0., 100.,   0.,   0.,  81.]),\n",
              " array([16. , 20.8, 25.6, 30.4, 35.2, 40. , 44.8, 49.6, 54.4, 59.2, 64. ]),\n",
              " <BarContainer object of 10 artists>)"
            ]
          },
          "execution_count": 5,
          "metadata": {},
          "output_type": "execute_result"
        },
        {
          "data": {
            "image/png": "[encoded data removed]",
            "text/plain": [
              "<Figure size 432x288 with 1 Axes>"
            ]
          },
          "metadata": {
            "needs_background": "light"
          },
          "output_type": "display_data"
        }
      ],
      "source": [
        "print('Entropy of areas array: ', entropy(areas_array.astype(int)))\n",
        "plt.hist(areas_array)"
      ]
    },
    {
      "cell_type": "code",
      "execution_count": 6,
      "metadata": {},
      "outputs": [],
      "source": [
        "# what if we don't traverse the possible upper left corners of the rectangle in \n",
        "# the grid one by one; rather we just randomly generate the upper left corner \n",
        "# and then randomly generate the height and widths? Would that give us more \n",
        "# variation in the areas?\n",
        "\n",
        "\n",
        "def generate_random_rectangles(\n",
        "    n_samples, \n",
        "    seed, \n",
        "    num_replicates=1, \n",
        "    shuffle=True,\n",
        "    grid_size=16\n",
        "):\n",
        "\n",
        "    np.random.seed(seed)\n",
        "\n",
        "    img_list = []\n",
        "\n",
        "    for _ in range(n_samples):\n",
        "\n",
        "        row_start = np.random.choice(grid_size-1) # rectangle should be at least 1 pixel\n",
        "        col_start = np.random.choice(grid_size-1)\n",
        "\n",
        "        row_end = np.random.choice(np.arange(row_start, grid_size))\n",
        "        col_end = np.random.choice(np.arange(col_start, grid_size))\n",
        "\n",
        "        arr = np.zeros((grid_size, grid_size))\n",
        "        arr[row_start : row_end+1, col_start : col_end+1] = np.ones(\n",
        "            (row_end-row_start+1, col_end-col_start+1)\n",
        "        )\n",
        "        # Append the same image multiple times\n",
        "        for _ in range(num_replicates):\n",
        "            img_list.append(arr)\n",
        "\n",
        "    img_array = np.array(img_list)\n",
        "    print(f\"Dataset created. Total of {len(img_array)} points\")\n",
        "    print(f\"Array size {img_array.nbytes / 1e9:.1f} GB\")\n",
        "\n",
        "    # Possibly shuffle\n",
        "    if shuffle:\n",
        "        print(\"Shuffling!\")\n",
        "        np.random.shuffle(img_array)\n",
        "\n",
        "    # Calculate areas\n",
        "    areas_array = np.sum(img_array, axis=(1, 2)).astype(float)\n",
        "\n",
        "    return img_array, areas_array\n",
        "\n"
      ]
    },
    {
      "cell_type": "code",
      "execution_count": 7,
      "metadata": {},
      "outputs": [
        {
          "name": "stdout",
          "output_type": "stream",
          "text": [
            "Dataset created. Total of 1000 points\n",
            "Array size 0.0 GB\n",
            "Shuffling!\n"
          ]
        }
      ],
      "source": [
        "img_array_rdm, areas_array_rdm = generate_random_rectangles(1000, 0, grid_size=16)"
      ]
    },
    {
      "cell_type": "code",
      "execution_count": 8,
      "metadata": {},
      "outputs": [
        {
          "data": {
            "text/plain": [
              "(array([619., 182., 102.,  36.,  23.,  15.,   9.,   7.,   3.,   4.]),\n",
              " array([  1. ,  20.4,  39.8,  59.2,  78.6,  98. , 117.4, 136.8, 156.2,\n",
              "        175.6, 195. ]),\n",
              " <BarContainer object of 10 artists>)"
            ]
          },
          "execution_count": 8,
          "metadata": {},
          "output_type": "execute_result"
        },
        {
          "data": {
            "image/png": "[encoded data removed]",
            "text/plain": [
              "<Figure size 432x288 with 1 Axes>"
            ]
          },
          "metadata": {
            "needs_background": "light"
          },
          "output_type": "display_data"
        }
      ],
      "source": [
        "plt.hist(areas_array_rdm)"
      ]
    },
    {
      "cell_type": "code",
      "execution_count": 9,
      "metadata": {},
      "outputs": [
        {
          "data": {
            "text/plain": [
              "5.430232117223403"
            ]
          },
          "execution_count": 9,
          "metadata": {},
          "output_type": "execute_result"
        }
      ],
      "source": [
        "entropy(areas_array_rdm.astype(int))\n",
        "\n",
        "# this is double the entropy of the squares dataset"
      ]
    },
    {
      "cell_type": "code",
      "execution_count": 10,
      "metadata": {},
      "outputs": [],
      "source": [
        "img_array = img_array_rdm\n",
        "areas_array = areas_array_rdm"
      ]
    },
    {
      "attachments": {},
      "cell_type": "markdown",
      "metadata": {},
      "source": [
        "### Sidenote:\n",
        "\n",
        "Consider generating rectangles in [0,1]x[0,1], where\n",
        "- row_start ~ Unif[0,1], row_end | row_start ~ Unif[row_start, 1]\n",
        "- col_start ~ Unif[0,1], col_end | col_start ~ Unif[col_start, 1]\n",
        "- row_start and col_start are independent\n",
        "\n",
        "Then how is the area A = (row_end - row_start) * (col_end - col_start) distributed?\n",
        "\n",
        "E[A] = E[row_end - row_start] * E[col_end - col_start] = 1/4 * 1/4 = 1/16\n",
        "\n",
        "In our case where we have a grid, the mean of `areas_array_rdm` approaches `grid_size^2/16` as `grid_size` becomes large."
      ]
    },
    {
      "cell_type": "code",
      "execution_count": 11,
      "metadata": {},
      "outputs": [
        {
          "data": {
            "text/plain": [
              "Text(0.5, 0.98, 'Example Shapes Images')"
            ]
          },
          "execution_count": 11,
          "metadata": {},
          "output_type": "execute_result"
        },
        {
          "data": {
            "image/png": "[encoded data removed]",
            "text/plain": [
              "<Figure size 2304x1152 with 10 Axes>"
            ]
          },
          "metadata": {
            "needs_background": "light"
          },
          "output_type": "display_data"
        }
      ],
      "source": [
        "\"\"\"\n",
        "Plot example images from the dataset.\n",
        "\"\"\"\n",
        "\n",
        "fig, ax = plt.subplots(2, 5, figsize = (32, 16))\n",
        "ax = ax.reshape(-1)\n",
        "\n",
        "for i in range(10):\n",
        "    if i < 5:\n",
        "        f = ax[i].imshow(img_array[10*i], cmap=plt.cm.gray_r)\n",
        "    else:\n",
        "        f = ax[i].imshow(img_array[50*i], cmap=plt.cm.gray_r)\n",
        "\n",
        "plt.suptitle('Example Shapes Images', fontsize=40)"
      ]
    },
    {
      "cell_type": "code",
      "execution_count": 12,
      "metadata": {},
      "outputs": [],
      "source": [
        "\"\"\"\n",
        "Define the relative L2-error for the reconstruction of the image data from the low-dimensional PCA embedding.\n",
        "\"\"\"\n",
        "\n",
        "def rel_l2_error(recons, ground_truth):\n",
        "    \"\"\"\"Relative L2-error.\n",
        "\n",
        "    Args: \n",
        "        recons: `[b x d]` NumPy array of flattened reconstructions.\n",
        "        ground_truth: `[b x d]` NumPy array of flattened ground truth images.\n",
        "\n",
        "    Returns:\n",
        "        Float specifying the average l2 error across the dataset.\n",
        "    \"\"\"\n",
        "\n",
        "    return np.mean(np.linalg.norm((recons - ground_truth), axis=-1) / np.linalg.norm(ground_truth, axis=-1))"
      ]
    },
    {
      "attachments": {},
      "cell_type": "markdown",
      "metadata": {},
      "source": [
        "##  2. Test Reconstruction Performance of PCA on the Shapes Dataset"
      ]
    },
    {
      "cell_type": "code",
      "execution_count": 13,
      "metadata": {},
      "outputs": [],
      "source": [
        "\"\"\"\n",
        "Divide the Shapes dataset into train/test.\n",
        "\"\"\"\n",
        "\n",
        "from sklearn.model_selection import train_test_split\n",
        "\n",
        "X_train, X_test, y_train, y_test = train_test_split(img_array, areas_array, test_size=0.2, random_state=42)\n",
        "\n",
        "n_train_data = len(X_train)\n",
        "n_test_data = len(X_test)\n",
        "img_dim = len(X_train[0]) # 16 x 16\n",
        "\n",
        "# Flatten images\n",
        "X_train = X_train.reshape(n_train_data, img_dim**2)\n",
        "X_test = X_test.reshape(n_test_data, img_dim**2)"
      ]
    },
    {
      "cell_type": "code",
      "execution_count": 14,
      "metadata": {},
      "outputs": [
        {
          "name": "stdout",
          "output_type": "stream",
          "text": [
            "Runtime is 0.16 seconds\n"
          ]
        }
      ],
      "source": [
        "\"\"\"\n",
        "Fit PCA and measure reconstruction error (relative l2 error) on the test set.\n",
        "\"\"\"\n",
        "\n",
        "import time\n",
        "\n",
        "from sklearn.decomposition import PCA\n",
        "\n",
        "start_time = time.time()\n",
        "\n",
        "# Runtime of PCA is ca. 10 seconds\n",
        "pca_x = PCA(n_components=16)\n",
        "pca_x.fit(X_train)\n",
        "recons_x = pca_x.inverse_transform(pca_x.transform(X_test))\n",
        "test_error = rel_l2_error(recons_x, X_test)\n",
        "\n",
        "end_time = time.time()\n",
        "print(f'Runtime is {(end_time - start_time):.2f} seconds')\n",
        "\n",
        "def round_binary(reconstructions):\n",
        "    \"\"\"round reconstructions to binary pixel values.\n",
        "\n",
        "    Args:\n",
        "        reconstructions: NumPy array of reconstructions.\n",
        "\n",
        "    Returns:\n",
        "        rounded binary-valued array\n",
        "    \"\"\"\n",
        "\n",
        "    reconstructions = reconstructions > 0.5\n",
        "    reconstructions = reconstructions.astype(float)\n",
        "    return reconstructions\n",
        "\n",
        "recons_x = round_binary(recons_x)\n"
      ]
    },
    {
      "cell_type": "code",
      "execution_count": 15,
      "metadata": {},
      "outputs": [
        {
          "name": "stdout",
          "output_type": "stream",
          "text": [
            "Relative L2 reconstruction error is 62.02%\n"
          ]
        }
      ],
      "source": [
        "print(f'Relative L2 reconstruction error is {100*test_error:.2f}%')\n"
      ]
    },
    {
      "cell_type": "code",
      "execution_count": 16,
      "metadata": {},
      "outputs": [
        {
          "name": "stdout",
          "output_type": "stream",
          "text": [
            "torch.Size([16, 256])\n"
          ]
        }
      ],
      "source": [
        "# 16x256 principal axes\n",
        "principal_axes = torch.Tensor(pca_x.components_)\n",
        "print(principal_axes.shape)"
      ]
    },
    {
      "attachments": {},
      "cell_type": "markdown",
      "metadata": {},
      "source": [
        "## 3. Flatten each image into a vector, then learn a model on the (image, area) data\n",
        "\n",
        "The image data is a `615x256` tensor, the area data is a `615x1` tensor. \n",
        "\n",
        "We implemented PCA as an `InputTranform` object, which can be passed when fitting the model (whether it's `SingleTaskGP` or `PairwiseGP`)."
      ]
    },
    {
      "cell_type": "code",
      "execution_count": 17,
      "metadata": {},
      "outputs": [],
      "source": [
        "import random\n",
        "\n",
        "def split_data_helper(dataset_size, split_fraction):\n",
        "    \"\"\"\n",
        "    Helper function for splitting a set of indices randomly into two parts given split_fraction (<0.5). \n",
        "    \"\"\"\n",
        "    indices = list(range(dataset_size))\n",
        "    split = int(np.floor(split_fraction * dataset_size))\n",
        "\n",
        "    test_indices = random.sample(indices, split)\n",
        "    train_indices = list(set(indices) - set(test_indices))  \n",
        "\n",
        "    return train_indices, test_indices"
      ]
    },
    {
      "attachments": {},
      "cell_type": "markdown",
      "metadata": {},
      "source": [
        "### 3.1 Fit a utility model with the numerical utility values (i.e., areas) with and without PCA transform\n",
        "\n",
        "We call these models `st_abs` and `pca_abs`. "
      ]
    },
    {
      "cell_type": "code",
      "execution_count": 19,
      "metadata": {},
      "outputs": [
        {
          "name": "stdout",
          "output_type": "stream",
          "text": [
            "torch.Size([1000, 256]) torch.Size([1000, 1])\n"
          ]
        }
      ],
      "source": [
        "X = torch.Tensor(img_array).flatten(start_dim=1)\n",
        "areas = torch.Tensor(areas_array).unsqueeze(1)\n",
        "\n",
        "print(X.shape, areas.shape)"
      ]
    },
    {
      "cell_type": "code",
      "execution_count": 20,
      "metadata": {},
      "outputs": [
        {
          "name": "stdout",
          "output_type": "stream",
          "text": [
            "torch.Size([800, 256]) torch.Size([200, 256]) torch.Size([800, 1]) torch.Size([200, 1])\n"
          ]
        }
      ],
      "source": [
        "# split images X and areas into train and test sets\n",
        "\n",
        "train_indices, test_indices = split_data_helper(dataset_size=len(X), split_fraction=0.2)\n",
        "train_X = X[train_indices]\n",
        "test_X = X[test_indices]\n",
        "train_areas = areas[train_indices]\n",
        "test_areas = areas[test_indices]\n",
        "\n",
        "print(train_X.shape, test_X.shape, train_areas.shape, test_areas.shape)"
      ]
    },
    {
      "cell_type": "code",
      "execution_count": 21,
      "metadata": {},
      "outputs": [
        {
          "data": {
            "text/plain": [
              "ExactMarginalLogLikelihood(\n",
              "  (likelihood): GaussianLikelihood(\n",
              "    (noise_covar): HomoskedasticNoise(\n",
              "      (noise_prior): GammaPrior()\n",
              "      (raw_noise_constraint): GreaterThan(1.000E-04)\n",
              "    )\n",
              "  )\n",
              "  (model): SingleTaskGP(\n",
              "    (likelihood): GaussianLikelihood(\n",
              "      (noise_covar): HomoskedasticNoise(\n",
              "        (noise_prior): GammaPrior()\n",
              "        (raw_noise_constraint): GreaterThan(1.000E-04)\n",
              "      )\n",
              "    )\n",
              "    (mean_module): ConstantMean()\n",
              "    (covar_module): ScaleKernel(\n",
              "      (base_kernel): MaternKernel(\n",
              "        (lengthscale_prior): GammaPrior()\n",
              "        (raw_lengthscale_constraint): Positive()\n",
              "      )\n",
              "      (outputscale_prior): GammaPrior()\n",
              "      (raw_outputscale_constraint): Positive()\n",
              "    )\n",
              "  )\n",
              ")"
            ]
          },
          "execution_count": 21,
          "metadata": {},
          "output_type": "execute_result"
        }
      ],
      "source": [
        "# Fit single task abs-util model\n",
        "\n",
        "# TODO: try the same hyperpriors that Ryan used\n",
        "\n",
        "st_abs = SingleTaskGP(\n",
        "    train_X,\n",
        "    train_areas,\n",
        "    # TODO: need to set covar_module?\n",
        ")\n",
        "\n",
        "st_mll = ExactMarginalLogLikelihood(st_abs.likelihood, st_abs)\n",
        "fit_gpytorch_model(st_mll)"
      ]
    },
    {
      "cell_type": "code",
      "execution_count": 22,
      "metadata": {},
      "outputs": [
        {
          "data": {
            "text/plain": [
              "ExactMarginalLogLikelihood(\n",
              "  (likelihood): GaussianLikelihood(\n",
              "    (noise_covar): HomoskedasticNoise(\n",
              "      (noise_prior): GammaPrior()\n",
              "      (raw_noise_constraint): GreaterThan(1.000E-04)\n",
              "    )\n",
              "  )\n",
              "  (model): SingleTaskGP(\n",
              "    (likelihood): GaussianLikelihood(\n",
              "      (noise_covar): HomoskedasticNoise(\n",
              "        (noise_prior): GammaPrior()\n",
              "        (raw_noise_constraint): GreaterThan(1.000E-04)\n",
              "      )\n",
              "    )\n",
              "    (mean_module): ConstantMean()\n",
              "    (covar_module): ScaleKernel(\n",
              "      (base_kernel): MaternKernel(\n",
              "        (lengthscale_prior): GammaPrior()\n",
              "        (raw_lengthscale_constraint): Positive()\n",
              "      )\n",
              "      (outputscale_prior): GammaPrior()\n",
              "      (raw_outputscale_constraint): Positive()\n",
              "    )\n",
              "    (input_transform): ChainedInputTransform(\n",
              "      (center): InputCenter()\n",
              "      (pca): PCAInputTransform()\n",
              "    )\n",
              "  )\n",
              ")"
            ]
          },
          "execution_count": 22,
          "metadata": {},
          "output_type": "execute_result"
        }
      ],
      "source": [
        "# Fit PCA abs-util model\n",
        "\n",
        "pca_abs = SingleTaskGP(\n",
        "    train_X,\n",
        "    train_areas,\n",
        "    input_transform=ChainedInputTransform(\n",
        "                        **{\n",
        "                            \"center\": InputCenter(train_X.shape[-1]),\n",
        "                            \"pca\": PCAInputTransform(axes=principal_axes),\n",
        "                        }\n",
        "                    )\n",
        ")\n",
        "\n",
        "pca_mll = ExactMarginalLogLikelihood(pca_abs.likelihood, pca_abs)\n",
        "fit_gpytorch_model(pca_mll)"
      ]
    },
    {
      "cell_type": "code",
      "execution_count": 23,
      "metadata": {},
      "outputs": [
        {
          "name": "stdout",
          "output_type": "stream",
          "text": [
            "PCA area prediction relative error 0.8060736656188965 %\n"
          ]
        }
      ],
      "source": [
        "# compute area prediction error on the test set\n",
        "\n",
        "pca_abs_err = ((test_areas - pca_abs.posterior(test_X).mean) / test_areas).mean()\n",
        "\n",
        "print(f\"PCA area prediction relative error {100*pca_abs_err} %\")"
      ]
    },
    {
      "cell_type": "code",
      "execution_count": 24,
      "metadata": {},
      "outputs": [
        {
          "name": "stdout",
          "output_type": "stream",
          "text": [
            "ST area prediction relative error -152.86329650878906 %\n"
          ]
        }
      ],
      "source": [
        "st_abs_err = ((test_areas - st_abs.posterior(test_X).mean) / test_areas).mean()\n",
        "\n",
        "print(f\"ST area prediction relative error {100*st_abs_err} %\")"
      ]
    },
    {
      "cell_type": "code",
      "execution_count": 32,
      "metadata": {},
      "outputs": [
        {
          "name": "stdout",
          "output_type": "stream",
          "text": [
            "PCA R squared:  0.9867945979980922\n",
            "ST R squared:  0.09066673319352447\n"
          ]
        }
      ],
      "source": [
        "# check r squared\n",
        "\n",
        "from sklearn.metrics import r2_score\n",
        "\n",
        "print(\"PCA R squared: \", \n",
        "      r2_score(test_areas.squeeze(1).numpy(), \n",
        "        pca_abs.posterior(test_X).mean.squeeze(1).detach().numpy()))\n",
        "\n",
        "print(\"ST R squared: \", \n",
        "      r2_score(test_areas.squeeze(1).numpy(), \n",
        "        st_abs.posterior(test_X).mean.squeeze(1).detach().numpy()))"
      ]
    },
    {
      "attachments": {},
      "cell_type": "markdown",
      "metadata": {},
      "source": [
        "### 3.2 Fit a utility model with pairwise comparison data with and without PCA transform\n",
        "\n",
        "More specifically, we take the first 614 entries of train_X, shuffle them, and generate 307 pairwise comparisons. Then we fit a `PairwiseGP` on this data. \n",
        "\n",
        "We call these models `st_rel` and `pca_rel`. "
      ]
    },
    {
      "cell_type": "code",
      "execution_count": 33,
      "metadata": {},
      "outputs": [],
      "source": [
        "# generate a random permutation of indices [0, ..., 613]\n",
        "perm_indices = torch.randperm(614)\n",
        "\n",
        "X_shuffled = X[perm_indices]\n",
        "areas_shuffled = areas[perm_indices]"
      ]
    },
    {
      "cell_type": "code",
      "execution_count": 34,
      "metadata": {},
      "outputs": [
        {
          "name": "stdout",
          "output_type": "stream",
          "text": [
            "torch.Size([490, 256]) torch.Size([124, 256]) torch.Size([245, 2]) torch.Size([62, 2])\n"
          ]
        }
      ],
      "source": [
        "import itertools\n",
        "\n",
        "dataset_size = 307\n",
        "split_fraction = 0.2\n",
        "\n",
        "# generate indices of pairs for training and testing\n",
        "train_pair_indices = list(range(int( dataset_size * (1-split_fraction))))\n",
        "test_pair_indices = list(set(range(dataset_size)) - set(train_pair_indices))  \n",
        "\n",
        "# map the pair indices to data indices\n",
        "# e.g., pair 0 maps to [0,1]\n",
        "test_indices = list(itertools.chain.from_iterable((2*i, 2*i+1) for i in test_pair_indices))\n",
        "train_indices = list(itertools.chain.from_iterable((2*i, 2*i+1) for i in train_pair_indices))\n",
        "\n",
        "train_X = X_shuffled[train_indices]\n",
        "test_X = X_shuffled[test_indices]\n",
        "\n",
        "# generate pairwise comparisons for the shuffled area values\n",
        "# https://github.com/zyyjjj/low_rank_BOPE/blob/main/low_rank_BOPE/src/pref_learning_helpers.py#L55 \n",
        "area_comps = gen_comps(areas_shuffled)\n",
        "train_area_comps = area_comps[train_pair_indices]\n",
        "test_area_comps = area_comps[test_pair_indices]\n",
        "\n",
        "print(train_X.shape, test_X.shape, train_area_comps.shape, test_area_comps.shape)\n"
      ]
    },
    {
      "cell_type": "code",
      "execution_count": 42,
      "metadata": {},
      "outputs": [],
      "source": [
        "# fit single task pairwise model\n",
        "\n",
        "st_rel = PairwiseGP(\n",
        "    train_X,\n",
        "    train_area_comps,\n",
        "    covar_module = make_modified_kernel(ard_num_dims = 256)\n",
        ")\n",
        "\n",
        "mll_util = PairwiseLaplaceMarginalLogLikelihood(st_rel.likelihood, st_rel)\n",
        "\n",
        "import botorch\n",
        "with botorch.settings.debug():\n",
        "\n",
        "    # fit_gpytorch_mll(mll_util)\n",
        "    fit_gpytorch_model(mll_util)"
      ]
    },
    {
      "attachments": {},
      "cell_type": "markdown",
      "metadata": {},
      "source": [
        "# Progress checkpoint as of 2/4/2023"
      ]
    },
    {
      "cell_type": "code",
      "execution_count": 35,
      "metadata": {},
      "outputs": [
        {
          "data": {
            "text/plain": [
              "PairwiseLaplaceMarginalLogLikelihood(\n",
              "  (likelihood): PairwiseProbitLikelihood()\n",
              "  (model): PairwiseGP(\n",
              "    (input_transform): ChainedInputTransform(\n",
              "      (center): InputCenter()\n",
              "      (pca): PCAInputTransform()\n",
              "    )\n",
              "    (likelihood): PairwiseProbitLikelihood()\n",
              "    (mean_module): ConstantMean()\n",
              "    (covar_module): ScaleKernel(\n",
              "      (base_kernel): RBFKernel(\n",
              "        (lengthscale_prior): GammaPrior()\n",
              "        (raw_lengthscale_constraint): GreaterThan(1.000E-04)\n",
              "      )\n",
              "      (outputscale_prior): SmoothedBoxPrior()\n",
              "      (raw_outputscale_constraint): Interval(2.000E-01, 5.000E+00)\n",
              "    )\n",
              "  )\n",
              ")"
            ]
          },
          "execution_count": 35,
          "metadata": {},
          "output_type": "execute_result"
        }
      ],
      "source": [
        "# fit PCA pairwise model \n",
        "\n",
        "pca_rel = PairwiseGP(\n",
        "    train_X,\n",
        "    train_area_comps,\n",
        "    input_transform=ChainedInputTransform(\n",
        "                        **{\n",
        "                            \"center\": InputCenter(train_X.shape[-1]),\n",
        "                            \"pca\": PCAInputTransform(axes=principal_axes),\n",
        "                        }\n",
        "                    ),\n",
        "    covar_module = make_modified_kernel(ard_num_dims = 16)\n",
        ")\n",
        "\n",
        "mll_util = PairwiseLaplaceMarginalLogLikelihood(pca_rel.likelihood, pca_rel)\n",
        "\n",
        "fit_gpytorch_mll(mll_util)"
      ]
    },
    {
      "cell_type": "code",
      "execution_count": null,
      "metadata": {},
      "outputs": [],
      "source": []
    },
    {
      "cell_type": "code",
      "execution_count": 36,
      "metadata": {},
      "outputs": [],
      "source": [
        "# evaluate model quality not based on prediction of utility value, but on pairwise prediction accuracy\n",
        "\n",
        "def pref_prediction_accuracy(model, test_X, test_comps):\n",
        "\n",
        "    posterior_util_mean = model.posterior(test_X).mean\n",
        "    posterior_util_mean_ = posterior_util_mean.reshape((len(test_comps), 2))\n",
        "    print('difference in posterior util mean: ', posterior_util_mean_[:,0] - posterior_util_mean_[:,1])\n",
        "\n",
        "    # in test_comps, [x,y] means x is more preferable than y\n",
        "    # in posterior util mean, a higher util mean is more preferable\n",
        "    correct_test_rankings = (posterior_util_mean_[:,0] - posterior_util_mean_[:,1]) * (\n",
        "        test_comps[:, 0] - test_comps[:, 1]\n",
        "    )\n",
        "    pref_prediction_accuracy = sum(correct_test_rankings < 0) / len(\n",
        "        correct_test_rankings\n",
        "    )\n",
        "\n",
        "    return pref_prediction_accuracy"
      ]
    },
    {
      "cell_type": "code",
      "execution_count": 43,
      "metadata": {},
      "outputs": [
        {
          "name": "stdout",
          "output_type": "stream",
          "text": [
            "difference in posterior util mean:  tensor([-2.1644,  5.3122,  2.9535, -6.0983,  4.4863, -2.0888, -0.4995,  5.6605,\n",
            "         0.2310, -6.3368, -5.6734, -5.2225, -1.0924, -5.6859,  1.3560, -1.6637,\n",
            "        -0.1711,  4.7427, -4.4803,  5.7873, -6.6421,  4.9965, -4.9016, -3.3300,\n",
            "        -4.8835, -7.5521, -5.8894, -6.5453, -4.5406,  5.6180, -0.1114,  4.4518,\n",
            "         6.4289,  7.4630,  8.5999,  0.0413,  2.4415,  6.9813,  6.4345,  6.9347,\n",
            "        -0.8283, -4.5440,  8.3787,  1.5896,  8.0622,  3.5752,  7.6740,  7.8340,\n",
            "        -6.9557,  3.6924, -3.8355,  1.2795,  0.1839, -7.4216, -2.0920,  6.2226,\n",
            "         1.9708,  0.5755,  2.4954, -2.4246,  0.1712,  3.6449],\n",
            "       grad_fn=<SubBackward0>)\n",
            "PCA preference prediction accuracy 93.54838728904724 %\n"
          ]
        }
      ],
      "source": [
        "pca_acc = pref_prediction_accuracy(pca_rel, test_X, test_area_comps).item()\n",
        "print(f\"PCA preference prediction accuracy {100*pca_acc} %\")"
      ]
    },
    {
      "cell_type": "code",
      "execution_count": 44,
      "metadata": {},
      "outputs": [
        {
          "name": "stdout",
          "output_type": "stream",
          "text": [
            "difference in posterior util mean:  tensor([-1.0694e-04,  5.4427e-02, -1.1859e-03, -2.1285e-10,  2.9354e-02,\n",
            "        -7.9474e-05, -2.7225e-02,  2.1349e-10, -4.3367e-02, -2.3567e-06,\n",
            "        -6.3972e-01, -2.4937e-06, -1.2472e-03, -5.7245e-04, -8.4547e-20,\n",
            "         1.0126e-07, -8.5886e-12, -1.1805e-03,  5.2448e-05,  6.4019e-01,\n",
            "        -2.3429e-06,  5.7255e-04, -2.7621e-02, -1.1970e-03,  4.2468e-09,\n",
            "        -2.6478e-02,  1.1830e-03, -1.0889e-02, -8.6066e-12,  1.3117e-11,\n",
            "         6.9287e-09,  9.7736e-08,  5.7244e-05,  1.1961e-03,  2.8488e-02,\n",
            "        -5.4762e-05,  1.8259e-03,  1.9201e-06,  3.1715e-10,  2.3097e-06,\n",
            "        -1.9549e-10, -1.5125e-15,  7.9243e-05,  6.1841e-01,  2.5256e-05,\n",
            "        -1.1960e-03,  6.1739e-04,  1.2480e-03, -1.7627e-03,  1.1973e-03,\n",
            "        -1.8870e-10,  1.2991e-04,  4.4576e-09, -4.1506e-06,  6.2477e-17,\n",
            "         2.5563e-06, -1.0524e-04,  2.7096e-21, -6.7097e-04, -2.3046e-06,\n",
            "        -2.7148e-21,  3.2145e-07], grad_fn=<SubBackward0>)\n",
            "ST preference prediction accuracy 75.80645084381104 %\n"
          ]
        }
      ],
      "source": [
        "st_acc = pref_prediction_accuracy(st_rel, test_X, test_area_comps).item()\n",
        "print(f\"ST preference prediction accuracy {100*st_acc} %\")"
      ]
    },
    {
      "cell_type": "code",
      "execution_count": 38,
      "metadata": {},
      "outputs": [
        {
          "name": "stdout",
          "output_type": "stream",
          "text": [
            "1 pairs out of 62 are the same area\n"
          ]
        }
      ],
      "source": [
        "# Check how many pairs in the test data are actually the same area value.\n",
        "\n",
        "ties = 0\n",
        "for i in range(len(test_area_comps)):\n",
        "    if all(areas_shuffled[2*i] == areas_shuffled[2*i+1]):\n",
        "        ties += 1\n",
        "print(f\"{ties} pairs out of {len(test_area_comps)} are the same area\")"
      ]
    }
  ],
  "metadata": {
    "bento_stylesheets": {
      "bento/extensions/flow/main.css": true,
      "bento/extensions/kernel_selector/main.css": true,
      "bento/extensions/kernel_ui/main.css": true,
      "bento/extensions/new_kernel/main.css": true,
      "bento/extensions/system_usage/main.css": true,
      "bento/extensions/theme/main.css": true
    },
    "captumWidgetMessage": {},
    "dataExplorerConfig": {},
    "disseminate_notebook_id": {
      "notebook_id": "310500951141609"
    },
    "disseminate_notebook_info": {
      "bento_version": "20220213-210538",
      "data_retention_policy": "default",
      "description": "",
      "hide_code": false,
      "hipster_group": "",
      "kernel_build_info": {
        "deps": [
          "//ae:notebook",
          "//ax/ax/utils/tutorials:tutorial_utils"
        ],
        "external_deps": [],
        "kernel_version": "1206"
      },
      "no_uii": true,
      "notebook_number": "1613503",
      "others_can_edit": false,
      "reviewers": "",
      "revision_id": "668025524236855",
      "tags": "",
      "tasks": "",
      "title": "QE_Lib_ae_ig_feed_recs_sourcing_quickbo_relax_media_age_analysis_b2"
    },
    "interpreter": {
      "hash": "f178f7686bb85c5c6e141a85fd4c17c3082d63b89f6cfaecdf98c22c0047a219"
    },
    "kernelspec": {
      "display_name": "Python 3.9.15 ('bope_pca')",
      "language": "python",
      "name": "python3"
    },
    "language_info": {
      "codemirror_mode": {
        "name": "ipython",
        "version": 3
      },
      "file_extension": ".py",
      "mimetype": "text/x-python",
      "name": "python",
      "nbconvert_exporter": "python",
      "pygments_lexer": "ipython3",
      "version": "3.9.15 (main, Nov 24 2022, 14:31:59) \n[GCC 11.2.0]"
    },
    "last_base_url": "https://devvm10848.prn0.facebook.com:8090/",
    "last_kernel_id": "33f76217-c3bb-4b3c-be64-89415980d364",
    "last_msg_id": "33163635-cf61d68d283ac2575827f13f_324",
    "last_server_session_id": "e5067c57-e1d5-4267-b323-2335fc1b1e29",
    "outputWidgetContext": {}
  },
  "nbformat": 4,
  "nbformat_minor": 2
}
